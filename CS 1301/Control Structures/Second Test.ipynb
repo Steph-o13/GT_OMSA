{
 "cells": [
  {
   "cell_type": "markdown",
   "metadata": {},
   "source": [
    "# Test 2"
   ]
  },
  {
   "cell_type": "code",
   "execution_count": 7,
   "metadata": {},
   "outputs": [
    {
     "name": "stdout",
     "output_type": "stream",
     "text": [
      "You can get a learner's permit!\n"
     ]
    }
   ],
   "source": [
    "age = 16\n",
    "have_drivers_license = True \n",
    "\n",
    "if age > 15:\n",
    "    print(\"You can get a learner's permit!\")\n",
    "if age > 16 and have_drivers_license:\n",
    "    print(\"You can drive a car!\")\n",
    "if age > 25 and have_drivers_license:\n",
    "    print(\"You can rent a car!\")"
   ]
  },
  {
   "cell_type": "code",
   "execution_count": 9,
   "metadata": {},
   "outputs": [
    {
     "name": "stdout",
     "output_type": "stream",
     "text": [
      "Go to the repair shop!\n"
     ]
    }
   ],
   "source": [
    "miles_since_service = 45000\n",
    "check_engine_light_on = True \n",
    "aligned = False\n",
    "\n",
    "if miles_since_service > 30000 and (check_engine_light_on or not aligned):\n",
    "    print(\"Go to the repair shop!\")\n",
    "else:\n",
    "    print(\"Keep driving!\")"
   ]
  },
  {
   "cell_type": "code",
   "execution_count": 11,
   "metadata": {},
   "outputs": [
    {
     "name": "stdout",
     "output_type": "stream",
     "text": [
      "Invest in Spring!\n"
     ]
    }
   ],
   "source": [
    "money_available = 45\n",
    "\n",
    "if money_available > 10:\n",
    "    print(\"Invest in Spring!\")\n",
    "elif money_available > 30:\n",
    "    print(\"Invest in ATT!\")\n",
    "elif money_available > 50:\n",
    "    print(\"Invest in Verizon!\")"
   ]
  },
  {
   "cell_type": "code",
   "execution_count": 12,
   "metadata": {},
   "outputs": [
    {
     "name": "stdout",
     "output_type": "stream",
     "text": [
      "You qualify for free shipping!\n"
     ]
    }
   ],
   "source": [
    "total = 80\n",
    "is_member = False\n",
    "\n",
    "if total >= 75 and not is_member:\n",
    "    print(\"You qualify for free shipping!\")\n",
    "elif total >= 25 and is_member:\n",
    "    print(\"You qualify for free members' only free shipping!\")\n",
    "else:\n",
    "    print(\"Shipping is $4.99.\")"
   ]
  },
  {
   "cell_type": "code",
   "execution_count": 13,
   "metadata": {},
   "outputs": [
    {
     "name": "stdout",
     "output_type": "stream",
     "text": [
      "Shipping is $4.99.\n"
     ]
    }
   ],
   "source": [
    "total = 20\n",
    "is_member = False\n",
    "\n",
    "if total >= 75 and not is_member:\n",
    "    print(\"You qualify for free shipping!\")\n",
    "elif total >= 25 and is_member:\n",
    "    print(\"You qualify for free members' only free shipping!\")\n",
    "else:\n",
    "    print(\"Shipping is $4.99.\")"
   ]
  },
  {
   "cell_type": "code",
   "execution_count": 15,
   "metadata": {},
   "outputs": [
    {
     "name": "stdout",
     "output_type": "stream",
     "text": [
      "Wear a jacket!\n"
     ]
    }
   ],
   "source": [
    "is_rainy = True\n",
    "temperature = 60\n",
    "\n",
    "if is_rainy:\n",
    "     if temperature > 80:\n",
    "         print(\"Wear a poncho!\")\n",
    "     elif temperature > 40:\n",
    "         print(\"Wear a jacket!\")\n",
    "     else:\n",
    "         print(\"Wear a raincoat!\")\n",
    "else:\n",
    "    if temperature > 80:\n",
    "        print(\"Skip the outerwear!\")\n",
    "    elif temperature > 40:\n",
    "        print(\"Wear a jacket!\")\n",
    "    else:\n",
    "        print(\"Wear a winter coat!\")"
   ]
  },
  {
   "cell_type": "code",
   "execution_count": 17,
   "metadata": {},
   "outputs": [
    {
     "name": "stdout",
     "output_type": "stream",
     "text": [
      "1\n",
      "3\n",
      "9\n",
      "27\n",
      "81\n",
      "243\n"
     ]
    }
   ],
   "source": [
    "i = 1\n",
    "j = 100\n",
    "while i < j:\n",
    "    print(i)\n",
    "    i = i*3\n",
    "print(i)"
   ]
  },
  {
   "cell_type": "code",
   "execution_count": 18,
   "metadata": {},
   "outputs": [
    {
     "name": "stdout",
     "output_type": "stream",
     "text": [
      "12\n",
      "10\n",
      "8\n",
      "6\n",
      "4\n",
      "2\n"
     ]
    }
   ],
   "source": [
    "i = 12\n",
    "j = 0\n",
    "while j < i:\n",
    "    print(i)\n",
    "    i -= 2"
   ]
  },
  {
   "cell_type": "code",
   "execution_count": 19,
   "metadata": {},
   "outputs": [
    {
     "name": "stdout",
     "output_type": "stream",
     "text": [
      "12\n",
      "10\n",
      "8\n",
      "6\n",
      "4\n",
      "2\n"
     ]
    }
   ],
   "source": [
    "i = 12\n",
    "j = 0\n",
    "for num in range(i, j, -2):\n",
    "    print(num)"
   ]
  },
  {
   "cell_type": "code",
   "execution_count": 25,
   "metadata": {},
   "outputs": [
    {
     "name": "stdout",
     "output_type": "stream",
     "text": [
      "3\n",
      "3\n",
      "3\n",
      "2\n",
      "2\n",
      "1\n"
     ]
    }
   ],
   "source": [
    "counter = 3\n",
    "for i in range(counter, 0, -1):\n",
    "    for j in range(i):\n",
    "        print(i)"
   ]
  },
  {
   "cell_type": "code",
   "execution_count": 30,
   "metadata": {},
   "outputs": [
    {
     "data": {
      "text/plain": [
       "0.0"
      ]
     },
     "execution_count": 30,
     "metadata": {},
     "output_type": "execute_result"
    }
   ],
   "source": [
    "def my_q(num, den, rec = False, neg = False):\n",
    "    if neg:\n",
    "        den *= -1\n",
    "    if rec:\n",
    "        return den / num\n",
    "    else:\n",
    "        return num / den\n",
    "    \n",
    "\n",
    "my_q(0.0, 1.0)\n",
    "#my_q(0.0, 1.0, rec = True)"
   ]
  },
  {
   "cell_type": "code",
   "execution_count": 32,
   "metadata": {},
   "outputs": [
    {
     "name": "stdout",
     "output_type": "stream",
     "text": [
      "1.0\n"
     ]
    }
   ],
   "source": [
    "def my_q(num, den, rec = False, neg = False):\n",
    "    if neg:\n",
    "        den *= -1\n",
    "    if rec:\n",
    "        return den / num\n",
    "    else:\n",
    "        return num / den\n",
    "    \n",
    "result = my_q(372.4, 15.7) * my_q(372.4, 15.7, rec = True)\n",
    "print(result)"
   ]
  },
  {
   "cell_type": "code",
   "execution_count": 35,
   "metadata": {},
   "outputs": [
    {
     "name": "stdout",
     "output_type": "stream",
     "text": [
      "Foo!\n"
     ]
    }
   ],
   "source": [
    "a = 3\n",
    "b = 2\n",
    "c = 3\n",
    "d = 4\n",
    "e = 6\n",
    "f = 6\n",
    "\n",
    "if a > b:\n",
    "    if c <= d:\n",
    "        if e == f:\n",
    "            print(\"Foo!\")\n",
    "        else:\n",
    "            print(\"Bar!\")"
   ]
  },
  {
   "cell_type": "code",
   "execution_count": 37,
   "metadata": {},
   "outputs": [
    {
     "name": "stdout",
     "output_type": "stream",
     "text": [
      "Foo!\n"
     ]
    }
   ],
   "source": [
    "a = 3\n",
    "b = 2\n",
    "c = 3\n",
    "d = 4\n",
    "e = 6\n",
    "f = 6\n",
    "\n",
    "if a > b and c <= d and e == f:\n",
    "    print(\"Foo!\")\n",
    "elif a > b and c <= d:\n",
    "    print(\"Bar!\")"
   ]
  },
  {
   "cell_type": "code",
   "execution_count": 42,
   "metadata": {},
   "outputs": [
    {
     "name": "stdout",
     "output_type": "stream",
     "text": [
      "6\n",
      "12\n",
      "24\n",
      "48\n",
      "96\n",
      "192\n",
      "384\n"
     ]
    }
   ],
   "source": [
    "initial_target= 3\n",
    "target_number = 300\n",
    "while initial_target < target_number:\n",
    "    initial_target*= 2\n",
    "    print(initial_target)"
   ]
  },
  {
   "cell_type": "code",
   "execution_count": 44,
   "metadata": {},
   "outputs": [
    {
     "data": {
      "text/plain": [
       "True"
      ]
     },
     "execution_count": 44,
     "metadata": {},
     "output_type": "execute_result"
    }
   ],
   "source": [
    "def is_a_factor(a, b):\n",
    "    counter = 0\n",
    "    while counter < b:\n",
    "        counter += a\n",
    "        if counter == b:\n",
    "            return True\n",
    "    return False\n",
    "\n",
    "is_a_factor(3, 15)"
   ]
  },
  {
   "cell_type": "code",
   "execution_count": 47,
   "metadata": {},
   "outputs": [
    {
     "data": {
      "text/plain": [
       "6.714285714285714"
      ]
     },
     "execution_count": 47,
     "metadata": {},
     "output_type": "execute_result"
    }
   ],
   "source": [
    "def average_non_threes(start, end):\n",
    "    sum = 0\n",
    "    count = 0\n",
    "    for i in range(start, end + 1):\n",
    "        if not (i%3 == 0):\n",
    "            sum += i\n",
    "            count += 1\n",
    "    return sum / count\n",
    "\n",
    "average_non_threes(2, 11)"
   ]
  },
  {
   "cell_type": "code",
   "execution_count": 48,
   "metadata": {},
   "outputs": [
    {
     "name": "stdout",
     "output_type": "stream",
     "text": [
      "Ready to go!\n"
     ]
    }
   ],
   "source": [
    "car_charged = True\n",
    "phone_charged = True\n",
    "have_license = True\n",
    "have_keys = True\n",
    "\n",
    "if car_charged and phone_charged and have_license and have_keys:\n",
    "    print(\"Ready to go!\")\n",
    "else:\n",
    "    print(\"Wait, I'm forgetting something...\")"
   ]
  },
  {
   "cell_type": "code",
   "execution_count": 49,
   "metadata": {},
   "outputs": [
    {
     "name": "stdout",
     "output_type": "stream",
     "text": [
      "Ready to go!\n"
     ]
    }
   ],
   "source": [
    "if car_charged:\n",
    "    if phone_charged:\n",
    "        if have_license:\n",
    "            if have_keys:\n",
    "                print(\"Ready to go!\")\n",
    "else:\n",
    "    print(\"Wait, I'm forgetting something...\")"
   ]
  },
  {
   "cell_type": "code",
   "execution_count": 50,
   "metadata": {},
   "outputs": [
    {
     "name": "stdout",
     "output_type": "stream",
     "text": [
      "Your final score is: 1400\n"
     ]
    }
   ],
   "source": [
    "score = 500\n",
    "difficulty_bonus = 1.2\n",
    "perfect_run = True\n",
    "\n",
    "#Imagine you're writing the code for a video game. Your code\n",
    "#calculates the player's final score on a particular level.\n",
    "#\n",
    "#The player's original final score is given by the variable\n",
    "#score. Then, there are a few multipliers or changes that\n",
    "#can apply:\n",
    "#\n",
    "# - The score should be multiplied by the Difficulty Bonus,\n",
    "#   which could be 1.0, 1.2, 1.4, 1.6, 1.8, or 2.0.\n",
    "# - If the player achieves a Perfect Run (perfect_run = True),\n",
    "#   their score (after applying the Difficulty Bonus) is\n",
    "#   doubled.\n",
    "# - If the player's original score (before the difficulty\n",
    "#   bonus and perfect run bonus) exceeds 200 points, then\n",
    "#   they receive a 200 point High Performer bonus. The\n",
    "#   Difficulty bonus and Perfect Run multiplier should not\n",
    "#   be applied to the High Performer bonus, though.\n",
    "# - Finally, round their score should be cast to an integer\n",
    "#   in case any decimals were introduced in the process.\n",
    "#\n",
    "#For example, with the original values above, the player's\n",
    "#original score is 500. The Difficulty Bonus is 1.2, and\n",
    "#500 * 1.2 = 600. They had a Perfect Run, so their score\n",
    "#is doubled, and 600 * 2 = 1200. Then, their original score\n",
    "#was over 200, so they receive the 200-point High Performer\n",
    "#bonus, and 1200 + 200 = 1400. So, their final scoreis 1400.\n",
    "#\n",
    "#Print the final score according to this format:\n",
    "#\n",
    "#Your final score is: 1400\n",
    "\n",
    "\n",
    "#Add your code here!\n",
    "\n",
    "final_score = score*difficulty_bonus*(perfect_run+1)\n",
    "\n",
    "if score > 200:\n",
    "    final_score += 200\n",
    "\n",
    "final_score = round(final_score, 2)\n",
    "\n",
    "print(\"Your final score is: \" + str(int(final_score)))"
   ]
  },
  {
   "cell_type": "code",
   "execution_count": 51,
   "metadata": {},
   "outputs": [
    {
     "name": "stdout",
     "output_type": "stream",
     "text": [
      "120\n"
     ]
    }
   ],
   "source": [
    "minimum = 2\n",
    "maximum = 5\n",
    "\n",
    "#Print the result of multiplying every number from minimum to\n",
    "#maximum, including both minimum and maximum.\n",
    "#\n",
    "#For example, if minimum = 2 and maximum = 5, you would print\n",
    "#120: 2 * 3 * 4 * 5 = 120.\n",
    "#\n",
    "#You may assume minimum will always be less than\n",
    "#maximum.\n",
    "\n",
    "\n",
    "#Add your code here!\n",
    "product = 1\n",
    "for i in range(minimum, maximum+1):\n",
    "    product *= i\n",
    "print(product)"
   ]
  },
  {
   "cell_type": "code",
   "execution_count": 52,
   "metadata": {},
   "outputs": [
    {
     "name": "stdout",
     "output_type": "stream",
     "text": [
      "2\n",
      "0\n",
      "2\n",
      "6\n"
     ]
    }
   ],
   "source": [
    "#Write a function called count_factors. count_factors should\n",
    "#take as input one integer. It should return a count of the\n",
    "#number of factors that number has. You should not include 1\n",
    "#or the number itself among its factors.\n",
    "#\n",
    "#For example, count_factors(6) would return 2: 6 has two\n",
    "#factors, 2 and 3.\n",
    "#\n",
    "#As a reminder, x is a factory of y if the remainder of\n",
    "#dividing y by x is 0. In the case of count_factors(6), the\n",
    "#answer is 2 because 6 % 2 = 0 and 6 % 3 = 0.\n",
    "\n",
    "\n",
    "#Add your code here!\n",
    "def count_factors(num):\n",
    "    num_of_factors = 0\n",
    "    for i in range(2, num):\n",
    "        if num%i == 0:\n",
    "            num_of_factors += 1\n",
    "    return num_of_factors\n",
    "\n",
    "\n",
    "#Below are some lines of code that will test your function.\n",
    "#You can change the value of the variable(s) to test your\n",
    "#function with different inputs.\n",
    "#\n",
    "#If your function works correctly, this will originally\n",
    "#print: 2, 0, 2, 6, each on their own line.\n",
    "print(count_factors(6))\n",
    "print(count_factors(7))\n",
    "print(count_factors(8))\n",
    "print(count_factors(24))"
   ]
  },
  {
   "cell_type": "code",
   "execution_count": 53,
   "metadata": {},
   "outputs": [
    {
     "name": "stdout",
     "output_type": "stream",
     "text": [
      "216.61\n",
      "134.3\n",
      "779796.0\n",
      "483473.52\n"
     ]
    }
   ],
   "source": [
    "#Imagine you're writing the code to support the launch\n",
    "#of an interstellar spacecraft, which can be launched\n",
    "#from either earth or one of a number of other\n",
    "#interstellar bodies. Each such body would have its own\n",
    "#escape velocity.\n",
    "#\n",
    "#Depending on the use case, you may need to provide the\n",
    "#escape velocity in terms of kilometers per second,\n",
    "#kilometers per hour, miles per second, or miles per\n",
    "#hour.\n",
    "#\n",
    "#Write a function called escape_velocity. escape_velocity\n",
    "#should have one positional parameter, escape_velocity.\n",
    "#escape_velocity represents the escape velocity in terms\n",
    "#of kilometers per second.\n",
    "#\n",
    "#escape_velocity should also have two keyword parameters,\n",
    "#in_kilometers and in_seconds, in that order. The default\n",
    "#value for both should be True.\n",
    "#\n",
    "#Your function should return the escape velocity, rounded\n",
    "#to two decimal points, converted to the desired units.\n",
    "#\n",
    "#If in_kilometers is False, you should convert the escape\n",
    "#velocity from kilometers to miles by multiplying by 0.62.\n",
    "#\n",
    "#If in_seconds is False, you should convert the escape\n",
    "#velocity from seconds to hours by multiplying by 3600.\n",
    "#\n",
    "#If both are False, you should perform both conversions.\n",
    "#If both are True, you should return the original number\n",
    "#rounded to two decimal places.\n",
    "#\n",
    "#Hint: Remember, you can round a number to two decimal\n",
    "#places by using the round function. round(the_num, 2) will\n",
    "#return the_num rounded to two decimal places.\n",
    "\n",
    "\n",
    "#Add your code here!\n",
    "def escape_velocity(escape_velocity, in_kilometers = True, in_seconds = True):\n",
    "    if not in_kilometers:\n",
    "        escape_velocity *= 0.62\n",
    "    if not in_seconds:\n",
    "        escape_velocity *= 3600\n",
    "    \n",
    "    return round(escape_velocity, 2)\n",
    "\n",
    "\n",
    "#Below are some lines of code that will test your function.\n",
    "#You can change the value of the variable(s) to test your\n",
    "#function with different inputs.\n",
    "#\n",
    "#If your function works correctly, this will originally\n",
    "#print:\n",
    "#216.61\n",
    "#134.3\n",
    "#779796.0\n",
    "#483473.52\n",
    "print(escape_velocity(216.61))\n",
    "print(escape_velocity(216.61, in_kilometers = False))\n",
    "print(escape_velocity(216.61, in_seconds = False))\n",
    "print(escape_velocity(216.61, in_kilometers = False, in_seconds = False))"
   ]
  },
  {
   "cell_type": "code",
   "execution_count": 59,
   "metadata": {},
   "outputs": [
    {
     "name": "stdout",
     "output_type": "stream",
     "text": [
      "Error!\n",
      "Error!\n",
      "ScoreScoreScoreScore\n",
      "Error!\n"
     ]
    }
   ],
   "source": [
    "a = 4\n",
    "b = \"Score\"\n",
    "\n",
    "#\n",
    "#Attempt to perform the four arithmetic operations (a plus b,\n",
    "#a minus b, a times b, a divided by b, in that order) between\n",
    "#a and b and print the result of each on its own line.\n",
    "#\n",
    "#If one of the operations cannot work for ANY reason, print\n",
    "#Error! for that operation instead. You should still print the\n",
    "#results of the other operations, though.\n",
    "#\n",
    "#For any numeric results, round the result to 2 decimal\n",
    "#places using round(the_num, 2). Note that if the_num is an\n",
    "#integer, this won't change the number; that's okay! However,\n",
    "#note that trying to round a string will also cause an error;\n",
    "#in that case, you would still print the string, not \"Error!\"\n",
    "#Only print \"Error!\" if the error arises from the arithmetic\n",
    "#operation, not the rounding.\n",
    "#\n",
    "#Remember, arithmetic operators still work on some non-numeric\n",
    "#values: for example, we can multiply a string by an integer,\n",
    "#add two strings together, or use booleans in mathematical\n",
    "#expressions.\n",
    "#\n",
    "#For example, for the initial values of a and b above, you\n",
    "#should print:\n",
    "#Error!    -> we can't add an integer and a string!\n",
    "#Error!    -> we can't subtract a string from an integer!\n",
    "#ScoreScoreScoreScore   -> we can multiply a string by an int!\n",
    "#Error!    -> we can't divide an integer by a string!\n",
    "#\n",
    "#If a and b were changed to 4 and 3, you would print:\n",
    "#7\n",
    "#1\n",
    "#12\n",
    "#1.33\n",
    "\n",
    "#Add your code here!\n",
    "\n",
    "try:\n",
    "    add = a+b\n",
    "    if (type(a) in (int, float) and type(b) in (int, float)):\n",
    "        print(round(add,2))\n",
    "    else: \n",
    "        print(add)\n",
    "except:\n",
    "    print(\"Error!\")\n",
    "    \n",
    "    \n",
    "try:\n",
    "    sub = a-b\n",
    "    if (type(a) in (int, float) and type(b) in (int, float)):\n",
    "        print(round(sub,2))\n",
    "    else: \n",
    "        print(sub)\n",
    "except:\n",
    "    print(\"Error!\")\n",
    "    \n",
    "try:\n",
    "    prod = a*b\n",
    "    if (type(a) in (int, float) and type(b) in (int, float)):\n",
    "        print(round(prod,2))\n",
    "    else: \n",
    "        print(prod)\n",
    "except:\n",
    "    print(\"Error!\")\n",
    "    \n",
    "    \n",
    "try:\n",
    "    div = a/b\n",
    "    if (type(a) in (int, float) and type(b) in (int, float)):\n",
    "        print(round(div,2))\n",
    "    else: \n",
    "        print(div)\n",
    "except:\n",
    "    print(\"Error!\")\n",
    "    "
   ]
  },
  {
   "cell_type": "code",
   "execution_count": 60,
   "metadata": {},
   "outputs": [
    {
     "name": "stdout",
     "output_type": "stream",
     "text": [
      "656667\n",
      "120121122\n",
      "678349514849\n",
      "633363336333\n",
      "3232323232\n"
     ]
    }
   ],
   "source": [
    "#Every character in Python has what is called an ordinal\n",
    "#number. The ordinal number is an integer Python uses to\n",
    "#store what each character should be. For example, the\n",
    "#ordinal number for a lower-case a is 97. The ordinal number\n",
    "#for an upper-case A is 65.\n",
    "#\n",
    "#To get the ordinal number for any character, you can use\n",
    "#the ord() function:\n",
    "#\n",
    "# the_ord_for_a = ord(\"a\")\n",
    "# the_ord_for_B = ord(\"B\")\n",
    "#\n",
    "#...and so on. ord() must take a string with only one\n",
    "#character, and it will always return an integer.\n",
    "#\n",
    "#Write a function called string_to_ordinals. This function\n",
    "#should take as input a single parameter, a string.\n",
    "#\n",
    "#string_to_ordinals should return a new string made of all\n",
    "#the ordinal numbers for the characters in the original\n",
    "#string.\n",
    "#\n",
    "#For example, the ordinals for \"A\", \"B\", and \"C\" are 65,\n",
    "#66, and 67, respectively. So, string_to_ordinals(\"ABC\")\n",
    "#would return \"656667\". Or, the ordinals for \"x\", \"y\", and\n",
    "#\"z\" are 120, 121, and 122, respectively. So,\n",
    "#string_to_ordinals(\"xyz\") would return \"120121122\".\n",
    "\n",
    "\n",
    "#Write your function here!\n",
    "def string_to_ordinals(string):\n",
    "  # this new string will hold the ordinals\n",
    "  ordinals = ''\n",
    "\n",
    "  # going through the each char\n",
    "  for c in string:\n",
    "    # getting the ordinal value of current char\n",
    "    ordinal = ord(c)\n",
    "\n",
    "    # adding the ordinal value to the string by converting it to a string\n",
    "    ordinals += str(ordinal)\n",
    "\n",
    "  # returning the ordinals string\n",
    "  return ordinals\n",
    "\n",
    "\n",
    "#Below are some lines of code that will test your function.\n",
    "#You can change the value of the variable(s) to test your\n",
    "#function with different inputs.\n",
    "#\n",
    "#If your function works correctly, this will originally\n",
    "#print:\n",
    "#656667\n",
    "#120121122\n",
    "#678349514849\n",
    "#633363336333\n",
    "#3232323232\n",
    "print(string_to_ordinals(\"ABC\"))\n",
    "print(string_to_ordinals(\"xyz\"))\n",
    "print(string_to_ordinals(\"CS1301\"))\n",
    "print(string_to_ordinals(\"?!?!?!\"))\n",
    "print(string_to_ordinals(\"     \"))"
   ]
  },
  {
   "cell_type": "code",
   "execution_count": 61,
   "metadata": {},
   "outputs": [
    {
     "name": "stdout",
     "output_type": "stream",
     "text": [
      "8\n",
      "6\n",
      "10\n"
     ]
    }
   ],
   "source": [
    "#Write a function that will calculate the Francine index of\n",
    "#a number. The Francine Index is a thing I made up for this\n",
    "#problem, and it is defined as follows:\n",
    "#\n",
    "#Start with the number. If the number is a multiple of 3 (e.g.\n",
    "#3, 6, 9), divide it by 3 (use floor division to keep it as\n",
    "#an integer). If the number is one more than a multiple of\n",
    "#three (e.g. 4, 7, 10), add 2 to the number. If the number is\n",
    "#two more than a multiple of three (e.g. 5, 8, 11), double\n",
    "#the number.\n",
    "#\n",
    "#If you continue repeating this sequence, the number will\n",
    "#eventually reach either 1 or 2, at which point the sequence\n",
    "#would repeat either 2-4-6 or 1-3 forever.\n",
    "#\n",
    "#For example, imagine we started with the number 50:\n",
    "#50 is two more than the nearest multiple of 3, so 50 * 2 = 100\n",
    "#100 is one more than the nearest multiple of 3, so 100 + 2 = 102\n",
    "#102 is a multiple of 3, so 102 // 3 = 34\n",
    "#34 is one more than the nearest multiple of 3, so 34 + 2 = 36\n",
    "#36 is a multiple of 3, so 36 // 3 = 12\n",
    "#12 is a multiple of 3, so 12 // 3 = 4\n",
    "#4 is one more the the nearest multiple of 3, so 4 + 2 = 6\n",
    "#6 is a multiple of 3, so 6 // 3 = 2\n",
    "#\n",
    "#Starting with 50, this sequence converges on 2 in 8 iterations:\n",
    "#50 to 100, 100 to 102, 102 to 34, 34 to 36, 36 to 12, 12 to 4,\n",
    "#4 to 6, and 6 to 2.\n",
    "#\n",
    "#Implement a function called francine. francine should take as\n",
    "#input an integer, and return the integer's Francine Index;\n",
    "#that is, the number of iterations it takes for the\n",
    "#number to reach either 1 or 2 the first time following those rules.\n",
    "#For example, francine(50) would return 8 because it took 8\n",
    "#iterations to converge on 2.\n",
    "\n",
    "\n",
    "#Add your code here!\n",
    "def francine(number):\n",
    "    # declare and initialize a variable to keep track of the count of iterations to 0\n",
    "    count = 0\n",
    "\n",
    "    # loop until the number converges on 1 or 2\n",
    "    while number != 1 and number != 2:\n",
    "        # loop until the number is a multiple of 3\n",
    "        while number % 3 != 0:\n",
    "            # if the number is one more than a multiple of 3\n",
    "            if number % 3 == 1:\n",
    "                # add 2 to the number\n",
    "                number += 2\n",
    "            # else the number is two more than a multiple of 3\n",
    "            else:\n",
    "                # double the number\n",
    "                number *= 2\n",
    "            # increment the count of iterations by 1\n",
    "            count += 1\n",
    "\n",
    "        # now, the number is a multiple of 3 so divide it by 3\n",
    "        number = number // 3\n",
    "        # increment the count of iterations by 1\n",
    "        count += 1\n",
    "\n",
    "    # return the count of iterations\n",
    "    return count\n",
    "\n",
    "\n",
    "#Below are some lines of code that will test your function.\n",
    "#You can change the value of the variable(s) to test your\n",
    "#function with different inputs.\n",
    "#\n",
    "#If your function works correctly, this will originally\n",
    "#print: 8, 6, and 10, each on their own lines.\n",
    "print(francine(50))\n",
    "print(francine(15))\n",
    "print(francine(124))"
   ]
  },
  {
   "cell_type": "code",
   "execution_count": 62,
   "metadata": {},
   "outputs": [
    {
     "name": "stdout",
     "output_type": "stream",
     "text": [
      "True\n",
      "True\n",
      "False\n",
      "False\n",
      "True\n",
      "False\n",
      "False\n",
      "False\n",
      "False\n",
      "False\n",
      "False\n",
      "False\n"
     ]
    }
   ],
   "source": [
    "#A credit card transaction is defined, at a minimum, by\n",
    "#the card number, CVV code, and expiration date of a\n",
    "#credit card. The card provider (Visa, Mastercard,\n",
    "#American Express, or Discover) can be inferred from\n",
    "#the number, but we'll have it provided directly.\n",
    "#\n",
    "#Write a function called validate_card. validate_card\n",
    "#should have four positional parameters and one keyword\n",
    "#parameter. The parameters should be, in this order:\n",
    "#\n",
    "# - number: the card number, a 15- or 16-character\n",
    "#   string.\n",
    "# - cvv: the verification number, a 3- or 4-character\n",
    "#   string.\n",
    "# - expiration_month: an integer from 1 to 12 giving\n",
    "#   the expiration month.\n",
    "# - expiration_year: an integer from 22 to 28 giving\n",
    "#   the expiration year.\n",
    "# - provider: a string representing the card provider,\n",
    "#   either \"Visa\", \"MasterCard\", \"Discover\", or\n",
    "#   \"American Express\". provider should be a keyword\n",
    "#   parameter with a default value of \"Visa\".\n",
    "#\n",
    "#You may assume that proper data types will be supplied\n",
    "#(e.g. we'll never pass an integer for CVV, a string for\n",
    "#expiration_year, a float for provider, etc.).\n",
    "#\n",
    "#Your code should return True if the card information\n",
    "#represented by these five variables is valid, or False\n",
    "#if not.\n",
    "#\n",
    "#Here are the details to validate about the card info:\n",
    "# - The card numbers for Visa, MasterCard, and Discover\n",
    "#   are 16 numbers long. For American Express, card\n",
    "#   numbers are 15 numbers long.\n",
    "# - The CVV for Visa, MasterCard, and Discover is 3\n",
    "#   numbers long. For American Express, the CVV is\n",
    "#   4 numbers long.\n",
    "# - For all cards, the card number and CVV are all\n",
    "#   numerals, no letters or punctuation marks.\n",
    "# - All expiration months must be between 1 and 12.\n",
    "# - All expiration years must be between 22 and 28.\n",
    "# - All providers must be \"Visa\", \"MasterCard\",\n",
    "#   \"Discover\", or \"American Express\".\n",
    "#\n",
    "#If a card breaks any of these rules, it is invalid,\n",
    "#and you should return False. If a card follows all of\n",
    "#these rules, it is valid, and you should return True.\n",
    "\n",
    "\n",
    "#Write your function here!\n",
    "def validate_card(number, cvv, expiration_month, expiration_year, provider = \"Visa\"):\n",
    "\n",
    "    #variable isValid initialized to False\n",
    "    isValid = False \n",
    "    \n",
    "    #condition to check the length of the number based on the provider\n",
    "    if( (provider in (\"Visa\", \"MasterCard\", \"Discover\") and len(number) == 16) or (provider == \"American Express\" and len(number) == 15) ):\n",
    "        \n",
    "        #condition to check the length of the cvv based on the provider\n",
    "        if((provider in (\"Visa\", \"MasterCard\", \"Discover\") and len(cvv) == 3) or (provider == \"American Express\" and len(cvv) == 4)):\n",
    "            \n",
    "            #check the number contains only digits or not\n",
    "            if(number.isnumeric()):\n",
    "                \n",
    "                #check the cvv contains only digits or not\n",
    "                if(cvv.isnumeric()):\n",
    "\n",
    "                    #check the expiration_month is in range 1-12\n",
    "                    if(expiration_month in range(1, 13)):\n",
    "\n",
    "                        #check the expiration_year is in range 22-29\n",
    "                        if(expiration_year in range(22,29)):\n",
    "\n",
    "                            #if all the above condition satisfied then assign True to isValid\n",
    "                            isValid = True \n",
    "    \n",
    "    #return isValid value\n",
    "    return isValid \n",
    "        \n",
    "\n",
    "#Below are some lines of code that will test your function.\n",
    "#You can change the value of the variable(s) to test your\n",
    "#function with different inputs.\n",
    "#\n",
    "#If your function works correctly, this will originally\n",
    "#print the values shown in the comments\n",
    "\n",
    "#True\n",
    "print(validate_card(\"1234567890123456\", \"123\", 1, 22))\n",
    "\n",
    "#True\n",
    "print(validate_card(\"1234567890123456\", \"123\", 1, 22, provider = \"MasterCard\"))\n",
    "\n",
    "#False (American Express cards have 15 digits, not 16)\n",
    "print(validate_card(\"1234567890123456\", \"123\", 1, 22, provider = \"American Express\"))\n",
    "\n",
    "#False (Visa cards have 16 digits, not 15)\n",
    "print(validate_card(\"123456789012345\", \"1234\", 1, 22))\n",
    "\n",
    "#True\n",
    "print(validate_card(\"123456789012345\", \"1234\", 1, 22, provider = \"American Express\"))\n",
    "\n",
    "#False (no card numbers have only 12 digits)\n",
    "print(validate_card(\"123456788012\", \"123\", 1, 22))\n",
    "\n",
    "#False (no cards have 5-digit CVVs)\n",
    "print(validate_card(\"1234567890123456\", \"15062\", 1, 22))\n",
    "\n",
    "#False (no cards have an expiration month of 13)\n",
    "print(validate_card(\"1234567890123456\", \"123\", 13, 22))\n",
    "\n",
    "#False (no cards have an expiration year of 18)\n",
    "print(validate_card(\"1234567890123456\", \"123\", 1, 18))\n",
    "\n",
    "#False (Diner's Club is not a valid provider)\n",
    "print(validate_card(\"1234567890123456\", \"123\", 1, 22, provider = \"Diner's Club\"))\n",
    "\n",
    "#False (no cards have the letter A in the number)\n",
    "print(validate_card(\"123456789A123456\", \"123\", 1, 22))\n",
    "\n",
    "#False (no cards have letters in the CVV)\n",
    "print(validate_card(\"1234567890123456\", \"ABC\", 1, 22))"
   ]
  },
  {
   "cell_type": "code",
   "execution_count": 63,
   "metadata": {},
   "outputs": [
    {
     "name": "stdout",
     "output_type": "stream",
     "text": [
      "585\n",
      "1\n",
      "2925\n",
      "4095\n"
     ]
    }
   ],
   "source": [
    "#The math we typically do is in base 10: adding 10 to one digit\n",
    "#increments the next digit. Thus, the smallest (furthest right)\n",
    "#number is the ones digit, the next smallest is the tens digit,\n",
    "#the next smallest is the hundreds digit, etc. A 5 in the ones\n",
    "#slot adds 5 to the total; a 5 in the tens slot adds 50 (5 * 10)\n",
    "#to the total; a 5 in the hundreds slot adds 500 to the total\n",
    "#(5 * 100), etc.\n",
    "#\n",
    "#Octal is a way of representing a different base, base 8.\n",
    "#The digits 0 through 7 represent the normal numbers; however,\n",
    "#there is no 8 or 9. Instead, 8 is represented as 10 in octal.\n",
    "#(1 in the 8s place, 0 in the 1s place). 9 is represented as\n",
    "#11 in octal (1 in the 8s place, 1 in the 1s place).\n",
    "#\n",
    "#Like base 10, octal has digit places: the ones digit, the\n",
    "#8s digit, the 64s digit, and the 512s digit. A 5 in the ones\n",
    "#spot adds 5 to the total; in the 8s spot it adds 40 to the\n",
    "#total (5 * 8), in the 64s spot it adds 320 (5 * 64), and in\n",
    "#the 512s spot it adds 2560 (5 * 512). In 4 digits, octal can\n",
    "#represent base 10 numbers up to 4,095 (8^4 - 1).\n",
    "#\n",
    "#Write a function called octal_to_decimal. octal_to_decimal\n",
    "#will take one parameter, a string. You may assume the string\n",
    "#will always have exactly 4 characters, and that all the\n",
    "#characters will be a numeral from 0 to 7. Return the result\n",
    "#of converting this octal number to a standard base-10 number.\n",
    "#\n",
    "#For example:\n",
    "#\n",
    "# octal_to_decimal(\"1111\") -> 585\n",
    "# octal_to_decimal(\"0001\") -> 1\n",
    "# octal_to_decimal(\"5555\") -> 2925\n",
    "# octal_to_decimal(\"7777\") -> 4095\n",
    "\n",
    "\n",
    "#Write your function here!\n",
    "def octal_to_decimal(a_string):\n",
    "    for letter in a_string[3]:\n",
    "        if letter==\"8\":\n",
    "            a=10\n",
    "\n",
    "        elif letter in (\"01234567\"):\n",
    "            a=int(letter)\n",
    "\n",
    "        elif letter==\"9\":\n",
    "            a=11\n",
    "\n",
    "\n",
    "    for letter in a_string[2]:\n",
    "        if letter==\"8\":\n",
    "            b=10*8\n",
    "\n",
    "        elif letter in (\"01234567\"):\n",
    "            b=int(letter)*8\n",
    "\n",
    "        elif letter==\"9\":\n",
    "            b=11*8\n",
    "\n",
    "\n",
    "    for letter in a_string[1]:\n",
    "        if letter==\"8\":\n",
    "            c=10*64\n",
    "\n",
    "        elif letter in (\"01234567\"):\n",
    "            c=int(letter)*64\n",
    "\n",
    "        elif letter==\"9\":\n",
    "            c=11*64\n",
    "\n",
    "\n",
    "    for letter in a_string[0]:\n",
    "\n",
    "        if letter==\"8\":\n",
    "            d=10*512\n",
    "\n",
    "        elif letter in (\"01234567\"):\n",
    "            d=int(letter)*512\n",
    "\n",
    "        elif letter==\"9\":\n",
    "            d=11*512\n",
    "\n",
    "    return (a+b+c+d)\n",
    "\n",
    "\n",
    "#Below are some lines of code that will test your function.\n",
    "#You can change the value of the variable(s) to test your\n",
    "#function with different inputs.\n",
    "#\n",
    "#If your function works correctly, this will originally\n",
    "#print: 585, 1, 2925, 4095\n",
    "print(octal_to_decimal(\"1111\"))\n",
    "print(octal_to_decimal(\"0001\"))\n",
    "print(octal_to_decimal(\"5555\"))\n",
    "print(octal_to_decimal(\"7777\"))"
   ]
  }
 ],
 "metadata": {
  "kernelspec": {
   "display_name": "Python 3",
   "language": "python",
   "name": "python3"
  },
  "language_info": {
   "codemirror_mode": {
    "name": "ipython",
    "version": 3
   },
   "file_extension": ".py",
   "mimetype": "text/x-python",
   "name": "python",
   "nbconvert_exporter": "python",
   "pygments_lexer": "ipython3",
   "version": "3.12.4"
  }
 },
 "nbformat": 4,
 "nbformat_minor": 2
}
