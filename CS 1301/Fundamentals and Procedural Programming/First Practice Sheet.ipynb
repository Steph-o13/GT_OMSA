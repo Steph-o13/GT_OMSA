{
 "cells": [
  {
   "cell_type": "code",
   "execution_count": 23,
   "metadata": {},
   "outputs": [
    {
     "name": "stdout",
     "output_type": "stream",
     "text": [
      "Calculating...\n",
      "Adding grade 1...\n",
      "Current sum: 200\n",
      "Adding grade 2...\n",
      "Current sum: 190\n",
      "Adding grade 3...\n",
      "Current sum: 186\n",
      "Adding grade 4...\n",
      "Current sum: 182\n",
      "Adding grade 5...\n",
      "Current sum: 180\n",
      "Adding grade 6...\n",
      "Current sum: 178\n",
      "Adding grade 7...\n",
      "Current sum: 174\n",
      "Adding grade 8...\n",
      "Current sum: 174\n",
      "Adding grade 9...\n",
      "Current sum: 170\n",
      "Adding grade 10...\n",
      "Current sum: 170\n",
      "Adding grade 11...\n",
      "Current sum: 168\n",
      "Adding grade 12...\n",
      "Current sum: 164\n",
      "13.666666666666666\n"
     ]
    }
   ],
   "source": [
    "print(\"Calculating...\")\n",
    "grades = [100, 95, 93, 91, 90, 89, 87, 87, 85, 85, 84, 82]\n",
    "sum = 0\n",
    "count = 0\n",
    "for grade in grades:\n",
    "    count = count + 1\n",
    "    print(\"Adding grade \", count, \"...\", sep=\"\") # confirm each grade is added\n",
    "    sum = grade # this is the incorrect line\n",
    "    total = grade + sum # corrected \n",
    "    print(\"Current sum:\", total) # check current total\n",
    "print(total / count)"
   ]
  },
  {
   "cell_type": "code",
   "execution_count": 24,
   "metadata": {},
   "outputs": [
    {
     "name": "stdout",
     "output_type": "stream",
     "text": [
      "Starting first loop...\n",
      "First loop done.\n",
      "Starting second loop...\n",
      "Second loop done.\n",
      "0\n",
      "hello world\n"
     ]
    }
   ],
   "source": [
    "i = 10\n",
    "count = 1\n",
    "print(\"Starting first loop...\")\n",
    "while count < i:\n",
    "    count = count + 1\n",
    "print(\"First loop done.\")\n",
    "print(\"Starting second loop...\")\n",
    "while count > 0:\n",
    "    # count = count + 1 # incorrect line, should subtract instead \n",
    "    count = count - 1\n",
    "print(\"Second loop done.\")\n",
    "print(count)\n",
    "\n",
    "print(\"hello world\")"
   ]
  },
  {
   "cell_type": "code",
   "execution_count": 25,
   "metadata": {},
   "outputs": [
    {
     "name": "stdout",
     "output_type": "stream",
     "text": [
      "The quotient is 2\n",
      "None\n",
      "The quotient is 2\n",
      "The remainder is 5\n",
      "None\n",
      "The remainder is 5\n",
      "We're done!\n",
      "None\n"
     ]
    }
   ],
   "source": [
    "num_1 = 17\n",
    "num_2 = 6\n",
    "\n",
    "quotient = print(\"The quotient is\", num_1 // num_2)\n",
    "print(quotient) # this prints None because quotient is the result of a print statement, not an actual value.\n",
    "correct_quotient = num_1 // num_2\n",
    "print(\"The quotient is\", correct_quotient)\n",
    "\n",
    "remainder = print(\"The remainder is\", num_1 % num_2)\n",
    "print(remainder) # this prints None because remainder is the result of a print statement, not an actual value.\n",
    "correct_remainder = num_1 % num_2 \n",
    "print(\"The remainder is\", correct_remainder)\n",
    "\n",
    "print(print(\"We're done!\"))"
   ]
  },
  {
   "cell_type": "code",
   "execution_count": 26,
   "metadata": {},
   "outputs": [
    {
     "name": "stdout",
     "output_type": "stream",
     "text": [
      "2024\n",
      "6\n"
     ]
    },
    {
     "data": {
      "text/plain": [
       "int"
      ]
     },
     "execution_count": 26,
     "metadata": {},
     "output_type": "execute_result"
    }
   ],
   "source": [
    "from datetime import date\n",
    "my_date = date.today()\n",
    "print(my_date.year)\n",
    "print(my_date.month)\n",
    "\n",
    "type(my_date.day)"
   ]
  },
  {
   "cell_type": "code",
   "execution_count": 27,
   "metadata": {},
   "outputs": [
    {
     "name": "stdout",
     "output_type": "stream",
     "text": [
      "one <class 'str'>\n",
      "two <class 'bool'>\n",
      "three <class 'float'>\n"
     ]
    },
    {
     "data": {
      "text/plain": [
       "9"
      ]
     },
     "execution_count": 27,
     "metadata": {},
     "output_type": "execute_result"
    }
   ],
   "source": [
    " my_var_1 = 5\n",
    " my_var_1 = 3\n",
    " my_var_2 = my_var_1\n",
    " my_var_3 = \"Hello!\"\n",
    " my_var_1 = my_var_3\n",
    " my_var_3 = 5.2\n",
    " my_var_2 = True\n",
    "\n",
    "print(\"one\", type( my_var_1))\n",
    "print( \"two\", type(my_var_2))\n",
    "print(\"three\", type(my_var_3))\n",
    "\n",
    "int(-9.2)\n",
    "int(9.9)\n",
    "\n"
   ]
  },
  {
   "cell_type": "code",
   "execution_count": 28,
   "metadata": {},
   "outputs": [
    {
     "name": "stdout",
     "output_type": "stream",
     "text": [
      "True\n",
      "False\n",
      "False\n"
     ]
    }
   ],
   "source": [
    "# relational operators\n",
    "a = 5\n",
    "b = 5\n",
    "c = 3\n",
    "print(a == b)\n",
    "print(b == c)\n",
    "print(a == c)"
   ]
  },
  {
   "cell_type": "code",
   "execution_count": 29,
   "metadata": {},
   "outputs": [
    {
     "name": "stdout",
     "output_type": "stream",
     "text": [
      "False\n",
      "True\n",
      "True\n",
      "True\n",
      "False\n"
     ]
    }
   ],
   "source": [
    "print(5 > 5)\n",
    "print(5 >= 5)\n",
    "print(5 == 5)\n",
    "print(5 <= 5)\n",
    "print(5 < 5)"
   ]
  },
  {
   "cell_type": "code",
   "execution_count": 30,
   "metadata": {},
   "outputs": [
    {
     "name": "stdout",
     "output_type": "stream",
     "text": [
      "False\n",
      "True\n",
      "False\n",
      "False\n",
      "True\n"
     ]
    }
   ],
   "source": [
    "string1 = \"Welcome to \"\n",
    "string2 = \"CS1301!\"\n",
    "string3 = \"CS1301!\"\n",
    "string4 = \"Welcome to CS1301!\"\n",
    "print(string1 == string2)\n",
    "print(string2 == string3)\n",
    "print(string3 == string4)\n",
    "print(string1 == string2 + string4)\n",
    "print(string1 + string2 == string4)"
   ]
  },
  {
   "cell_type": "code",
   "execution_count": 31,
   "metadata": {},
   "outputs": [
    {
     "name": "stdout",
     "output_type": "stream",
     "text": [
      "True\n"
     ]
    }
   ],
   "source": [
    "list_of_fruits = [\"grape\", \"orange\", \"banana\", \"kiwi\", \"pear\"]\n",
    "search_fruit = \"kiwi\"\n",
    "print(search_fruit in list_of_fruits)\n"
   ]
  },
  {
   "cell_type": "code",
   "execution_count": 32,
   "metadata": {},
   "outputs": [
    {
     "name": "stdout",
     "output_type": "stream",
     "text": [
      "True\n"
     ]
    }
   ],
   "source": [
    "hungry = True\n",
    "coworkers_going = False\n",
    "brought_lunch = False\n",
    "#Imagine you're deciding whether or not to go out to lunch.\n",
    "#You only want to go if you're hungry. If you're hungry, even\n",
    "#then you only want to go if you didn't bring lunch or if\n",
    "#your coworkers are going. If your coworkers are going, you\n",
    "#still want to go to be social even if you brought your lunch.\n",
    "print(hungry and ((not brought_lunch) or (brought_lunch and coworkers_going)))\n"
   ]
  },
  {
   "cell_type": "code",
   "execution_count": 33,
   "metadata": {},
   "outputs": [
    {
     "name": "stdout",
     "output_type": "stream",
     "text": [
      "False\n",
      "True\n",
      "False\n",
      "True\n",
      "True\n"
     ]
    }
   ],
   "source": [
    "print(False and False)\n",
    "print(True and True)\n",
    "print(True and False)\n",
    "print(True or False)\n",
    "print(True and True or False)"
   ]
  },
  {
   "cell_type": "code",
   "execution_count": 34,
   "metadata": {},
   "outputs": [
    {
     "name": "stdout",
     "output_type": "stream",
     "text": [
      "True\n",
      "False\n",
      "False\n",
      "True\n",
      "True\n"
     ]
    }
   ],
   "source": [
    "print(True and True)\n",
    "print(False and True or False)\n",
    "print((False and False) and (True or False))\n",
    "print(True or False and True)\n",
    "print(True and True and False or True) "
   ]
  },
  {
   "cell_type": "code",
   "execution_count": 35,
   "metadata": {},
   "outputs": [
    {
     "name": "stdout",
     "output_type": "stream",
     "text": [
      "True\n",
      "True\n",
      "False\n",
      "False\n",
      "False\n",
      "break\n",
      "False\n",
      "False\n",
      "True\n",
      "False\n",
      "True\n",
      "break\n",
      "False\n",
      "True\n",
      "False\n"
     ]
    }
   ],
   "source": [
    "can_fly = True\n",
    "is_blue = False\n",
    "has_tail = False\n",
    "can_see = True \n",
    "\n",
    "print(can_fly and can_see)\n",
    "print(can_fly or has_tail and can_see)\n",
    "print(has_tail or is_blue)\n",
    "print(can_see and can_fly and is_blue)\n",
    "print(has_tail)\n",
    "\n",
    "print('break')\n",
    "\n",
    "print(not can_fly)\n",
    "print(has_tail and not can_see)\n",
    "print(not(can_fly and has_tail) or can_see)\n",
    "print(not can_see and not (is_blue or can_fly))\n",
    "print(not has_tail)\n",
    "\n",
    "print('break')\n",
    "\n",
    "print(has_tail or (is_blue and can_fly))\n",
    "print(can_see and ((can_see or is_blue) and can_fly) or has_tail)\n",
    "print((can_fly or has_tail) and (is_blue and has_tail))"
   ]
  },
  {
   "cell_type": "code",
   "execution_count": 36,
   "metadata": {},
   "outputs": [
    {
     "name": "stdout",
     "output_type": "stream",
     "text": [
      "False\n",
      "True\n",
      "False\n",
      "False\n"
     ]
    }
   ],
   "source": [
    "print(not (not True or True))\n",
    "print(not (not True or False))\n",
    "print(not (not False or True))\n",
    "print(not (not False or False))"
   ]
  },
  {
   "cell_type": "code",
   "execution_count": 37,
   "metadata": {},
   "outputs": [
    {
     "name": "stdout",
     "output_type": "stream",
     "text": [
      "False\n",
      "False\n",
      "True\n",
      "True\n",
      "True\n",
      "False\n",
      "False\n",
      "True\n",
      "True\n",
      "False\n"
     ]
    }
   ],
   "source": [
    "print(True and True and not True) #1\n",
    "print(not True or (True and not True)) #2\n",
    "print((True and True) or False) #3\n",
    "print(True and True and not False) #4\n",
    "print(not False or (True and not True)) #5\n",
    "print((True and False) or False) #6 \n",
    "print(False and False and not True) #7\n",
    "print(not False or (False and not False)) #8\n",
    "print((False and True) or True) #9\n",
    "print((False and True) or False) #10\n",
    "\n"
   ]
  },
  {
   "cell_type": "code",
   "execution_count": 38,
   "metadata": {},
   "outputs": [
    {
     "data": {
      "text/plain": [
       "16"
      ]
     },
     "execution_count": 38,
     "metadata": {},
     "output_type": "execute_result"
    }
   ],
   "source": [
    "a = 7 \n",
    "b = 4\n",
    "c = 2\n",
    "\n",
    "a//b/c\n",
    "\n",
    "b**c"
   ]
  },
  {
   "cell_type": "code",
   "execution_count": 39,
   "metadata": {},
   "outputs": [
    {
     "name": "stdout",
     "output_type": "stream",
     "text": [
      "16\n"
     ]
    }
   ],
   "source": [
    "my_var = 5\n",
    "my_var = my_var + 3\n",
    "my_var = my_var // 2\n",
    "my_var = my_var ** 2\n",
    "print(my_var)"
   ]
  },
  {
   "cell_type": "code",
   "execution_count": 40,
   "metadata": {},
   "outputs": [
    {
     "name": "stdout",
     "output_type": "stream",
     "text": [
      "-1.0\n"
     ]
    }
   ],
   "source": [
    "my_var = 0\n",
    "my_var = my_var * 5\n",
    "my_var = my_var + 3\n",
    "my_var = my_var - 5\n",
    "my_var = my_var / 2\n",
    "print(my_var)"
   ]
  },
  {
   "cell_type": "code",
   "execution_count": 41,
   "metadata": {},
   "outputs": [
    {
     "name": "stdout",
     "output_type": "stream",
     "text": [
      "0.0\n"
     ]
    }
   ],
   "source": [
    "my_var = 10\n",
    "my_var = my_var % 2\n",
    "my_var = my_var ** 2\n",
    "my_var = my_var / 10\n",
    "my_var = my_var * 3\n",
    "print(my_var)"
   ]
  },
  {
   "cell_type": "code",
   "execution_count": 42,
   "metadata": {},
   "outputs": [
    {
     "name": "stdout",
     "output_type": "stream",
     "text": [
      "-1.0\n"
     ]
    }
   ],
   "source": [
    "my_var = 1\n",
    "my_var = my_var + 5\n",
    "my_var = my_var - 10\n",
    "my_var = my_var * 3\n",
    "my_var = my_var / 6\n",
    "my_var = my_var // 2\n",
    "my_var = my_var ** 3\n",
    "print(my_var)"
   ]
  },
  {
   "cell_type": "code",
   "execution_count": 43,
   "metadata": {},
   "outputs": [
    {
     "name": "stdout",
     "output_type": "stream",
     "text": [
      "16.0\n"
     ]
    }
   ],
   "source": [
    "my_var = 2\n",
    "my_var = my_var + my_var\n",
    "my_var = my_var - my_var / 2\n",
    "my_var = my_var ** my_var\n",
    "my_var = my_var * my_var\n",
    "print(my_var)"
   ]
  },
  {
   "cell_type": "code",
   "execution_count": 44,
   "metadata": {},
   "outputs": [
    {
     "name": "stdout",
     "output_type": "stream",
     "text": [
      "64.0\n"
     ]
    }
   ],
   "source": [
    "my_var = 5\n",
    "my_var += 7\n",
    "my_var /= 3\n",
    "my_var **= 3\n",
    "print(my_var)"
   ]
  },
  {
   "cell_type": "code",
   "execution_count": 45,
   "metadata": {},
   "outputs": [
    {
     "name": "stdout",
     "output_type": "stream",
     "text": [
      "1\n"
     ]
    }
   ],
   "source": [
    "my_var = 0\n",
    "my_var += 2\n",
    "my_var -= 3\n",
    "my_var **= 2\n",
    "my_var **= 20\n",
    "print(my_var)"
   ]
  },
  {
   "cell_type": "code",
   "execution_count": 46,
   "metadata": {},
   "outputs": [
    {
     "name": "stdout",
     "output_type": "stream",
     "text": [
      "12.5\n"
     ]
    }
   ],
   "source": [
    "my_var = 100\n",
    "my_var /= 2\n",
    "my_var /= 2\n",
    "my_var /= 2\n",
    "print(my_var)"
   ]
  },
  {
   "cell_type": "code",
   "execution_count": 47,
   "metadata": {},
   "outputs": [
    {
     "name": "stdout",
     "output_type": "stream",
     "text": [
      "1\n"
     ]
    }
   ],
   "source": [
    "my_var = 64\n",
    "my_var %= 5\n",
    "my_var *= 2\n",
    "my_var += 4\n",
    "my_var //= 12\n",
    "print(my_var)"
   ]
  },
  {
   "cell_type": "code",
   "execution_count": 49,
   "metadata": {},
   "outputs": [
    {
     "name": "stdout",
     "output_type": "stream",
     "text": [
      "1\n"
     ]
    }
   ],
   "source": [
    "my_var = 2\n",
    "my_var += my_var\n",
    "my_var *= my_var\n",
    "my_var **= my_var\n",
    "my_var //= my_var\n",
    "print(my_var)"
   ]
  },
  {
   "cell_type": "code",
   "execution_count": 52,
   "metadata": {},
   "outputs": [
    {
     "name": "stdout",
     "output_type": "stream",
     "text": [
      "12\n"
     ]
    }
   ],
   "source": [
    "letterCount = 0 \n",
    "for character in \"Hello, world\": \n",
    "    #Add one to letterCount\n",
    "    letterCount += 1    \n",
    "print(letterCount) "
   ]
  },
  {
   "cell_type": "code",
   "execution_count": 60,
   "metadata": {},
   "outputs": [
    {
     "name": "stdout",
     "output_type": "stream",
     "text": [
      "False\n",
      "True\n",
      "True\n",
      "False\n",
      "True\n",
      "False\n",
      "False\n"
     ]
    }
   ],
   "source": [
    "print(\"Apple\" < \"Apple\")\n",
    "print(\"Apple\" < \"Grape\")\n",
    "print(\"Apple\" < \"apple\")\n",
    "print(\"apple\" < \"Raisin\")\n",
    "#print(\"Apple\" < 5)\n",
    "print(\"Quick\" < \"Quicker\")\n",
    "print(\"Quickly\" < \"Quicker\")\n",
    "print(\"Quickly\" < \"Quick as the wind\")"
   ]
  },
  {
   "cell_type": "code",
   "execution_count": 63,
   "metadata": {},
   "outputs": [
    {
     "name": "stdout",
     "output_type": "stream",
     "text": [
      "4\n",
      "0.0\n",
      "-16.0\n"
     ]
    }
   ],
   "source": [
    "a = 4\n",
    "b = -2\n",
    "c = 10.0\n",
    "d = 0\n",
    "\n",
    "print(a-b*d)\n",
    "print(c / a * b * b * a * c / a * d)\n",
    "print(a + b * c)"
   ]
  },
  {
   "cell_type": "code",
   "execution_count": 70,
   "metadata": {},
   "outputs": [
    {
     "name": "stdout",
     "output_type": "stream",
     "text": [
      "1\n",
      "6\n",
      "3\n",
      "1\n",
      "0\n",
      "23\n",
      "4\n"
     ]
    }
   ],
   "source": [
    "e = 13\n",
    "f = 7\n",
    "g = 3\n",
    "\n",
    "print(e % g)\n",
    "print(e % f)\n",
    "print(g % f)\n",
    "print(f % g)\n",
    "print(e % e)\n",
    "print(e + f % e + g)\n",
    "print((e + f) % (e + g))"
   ]
  },
  {
   "cell_type": "code",
   "execution_count": 83,
   "metadata": {},
   "outputs": [
    {
     "name": "stdout",
     "output_type": "stream",
     "text": [
      "3.0\n",
      "3\n",
      "4\n",
      "2.0\n",
      "2.0\n",
      "break\n",
      "3\n",
      "24\n",
      "2.25\n",
      "break\n",
      "36\n",
      "128\n"
     ]
    }
   ],
   "source": [
    "a = 6\n",
    "b = 2\n",
    "c = 9\n",
    "\n",
    "print(a / b)\n",
    "print(a // b)\n",
    "print(c // b)\n",
    "print(c / b // b)\n",
    "print(c // b / b)\n",
    "\n",
    "print('break')\n",
    "\n",
    "print(c-a)\n",
    "print(a + b * c)\n",
    "print((a * c) / (4 * a))\n",
    "#print(c / (a - 3 * b))\n",
    "\n",
    "print('break')\n",
    "\n",
    "print(a ** b)\n",
    "print(b ** a * b)\n",
    "\n"
   ]
  },
  {
   "cell_type": "code",
   "execution_count": 85,
   "metadata": {},
   "outputs": [
    {
     "name": "stdout",
     "output_type": "stream",
     "text": [
      "6\n",
      "8\n"
     ]
    }
   ],
   "source": [
    "a = 6\n",
    "b = 2\n",
    "b = b+a\n",
    "\n",
    "print(a)\n",
    "print(b)"
   ]
  },
  {
   "cell_type": "code",
   "execution_count": 86,
   "metadata": {},
   "outputs": [
    {
     "name": "stdout",
     "output_type": "stream",
     "text": [
      "512.0\n"
     ]
    }
   ],
   "source": [
    "my_var = 20\n",
    "my_var += 4\n",
    "my_var /= 3\n",
    "my_var **= 3\n",
    "print(my_var)"
   ]
  },
  {
   "cell_type": "code",
   "execution_count": 87,
   "metadata": {},
   "outputs": [
    {
     "name": "stdout",
     "output_type": "stream",
     "text": [
      "1\n"
     ]
    }
   ],
   "source": [
    "my_var = -6\n",
    "my_var += 6\n",
    "my_var -= 1\n",
    "my_var **= 3\n",
    "my_var **= 2\n",
    "print(my_var)"
   ]
  },
  {
   "cell_type": "code",
   "execution_count": 88,
   "metadata": {},
   "outputs": [
    {
     "name": "stdout",
     "output_type": "stream",
     "text": [
      "25.0\n"
     ]
    }
   ],
   "source": [
    "my_var = 600\n",
    "my_var /= 2\n",
    "my_var /= 3\n",
    "my_var /= 4\n",
    "print(my_var)"
   ]
  },
  {
   "cell_type": "code",
   "execution_count": 89,
   "metadata": {},
   "outputs": [
    {
     "name": "stdout",
     "output_type": "stream",
     "text": [
      "9\n"
     ]
    }
   ],
   "source": [
    "my_var = 81\n",
    "my_var %= 6\n",
    "my_var *= 3\n",
    "my_var += 9\n",
    "my_var //= 2\n",
    "print(my_var)"
   ]
  },
  {
   "cell_type": "code",
   "execution_count": 90,
   "metadata": {},
   "outputs": [
    {
     "name": "stdout",
     "output_type": "stream",
     "text": [
      "1\n"
     ]
    }
   ],
   "source": [
    "my_var = 20\n",
    "my_var += my_var\n",
    "my_var *= my_var\n",
    "my_var **= my_var\n",
    "my_var //= my_var\n",
    "print(my_var)"
   ]
  },
  {
   "cell_type": "code",
   "execution_count": 3,
   "metadata": {},
   "outputs": [
    {
     "name": "stdout",
     "output_type": "stream",
     "text": [
      "15\n",
      "18.5\n"
     ]
    }
   ],
   "source": [
    "num1 = 5.0\n",
    "num2 = 3.7\n",
    "num1 = int(num1)\n",
    "num2 = int(num2)\n",
    "unknown = num1 * num2\n",
    "print(unknown)\n",
    "\n",
    "print(5.0*3.7)"
   ]
  },
  {
   "cell_type": "code",
   "execution_count": 7,
   "metadata": {},
   "outputs": [
    {
     "name": "stdout",
     "output_type": "stream",
     "text": [
      "True\n",
      "True\n",
      "False\n",
      "False\n",
      "True\n",
      "False\n",
      "False\n"
     ]
    }
   ],
   "source": [
    "print(\"Grape\" < \"Pears\")\n",
    "print(\"Pluto\" < \"pluto\")\n",
    "print(\"Neptune\" < \"Neptune\")\n",
    "print(\"earth\" < \"Mars\")\n",
    "print(\"Planet\" < \"Planets\")\n",
    "print(\"Spun\" < \"Spin\")\n",
    "print(\"Faster\" < \"Fast as a rocket\")"
   ]
  },
  {
   "cell_type": "code",
   "execution_count": 8,
   "metadata": {},
   "outputs": [
    {
     "name": "stdout",
     "output_type": "stream",
     "text": [
      "-5\n",
      "5\n",
      "False\n",
      "True\n",
      "True\n"
     ]
    }
   ],
   "source": [
    "a = 5\n",
    "a **= 2\n",
    "b = a % 5\n",
    "a *= b\n",
    "b += 5\n",
    "a -= b\n",
    "c = a == b\n",
    "d = a**2 == b**2\n",
    "e = c or d\n",
    "\n",
    "print(a)\n",
    "print(b)\n",
    "print(c)\n",
    "print(d)\n",
    "print(e)"
   ]
  }
 ],
 "metadata": {
  "kernelspec": {
   "display_name": "Python 3",
   "language": "python",
   "name": "python3"
  },
  "language_info": {
   "codemirror_mode": {
    "name": "ipython",
    "version": 3
   },
   "file_extension": ".py",
   "mimetype": "text/x-python",
   "name": "python",
   "nbconvert_exporter": "python",
   "pygments_lexer": "ipython3",
   "version": "3.9.1"
  }
 },
 "nbformat": 4,
 "nbformat_minor": 2
}
