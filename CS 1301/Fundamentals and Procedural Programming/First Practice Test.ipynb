{
 "cells": [
  {
   "cell_type": "markdown",
   "metadata": {},
   "source": [
    "## Section 1"
   ]
  },
  {
   "cell_type": "markdown",
   "metadata": {},
   "source": [
    "### Practice Problems\n"
   ]
  },
  {
   "cell_type": "code",
   "execution_count": 1,
   "metadata": {},
   "outputs": [
    {
     "name": "stdout",
     "output_type": "stream",
     "text": [
      "The new balance is: 510.45\n"
     ]
    }
   ],
   "source": [
    "# 1\n",
    "\n",
    "old_balance = \"500.45\"\n",
    "deposit = \"10\"\n",
    "\n",
    "# Imagine you're writing code for an ATM that accepts cash\n",
    "# deposits. You need to update the customer's balance based\n",
    "# on a deposit amount. However, both the old balance and the\n",
    "# deposit are given as strings.\n",
    "#\n",
    "# Write code below that will print the new balance after the\n",
    "# deposit is processed. This should be printed along with\n",
    "# the following text labeling the amount:\n",
    "#\n",
    "# The new balance is: 510.45\n",
    "#\n",
    "# Note that the old balance will always include change, but\n",
    "# the deposit will never include change because the ATM has\n",
    "# no coin slot, only a slot for paper money.\n",
    "#\n",
    "# With the initial values of the variables shown above, your\n",
    "# code should print the text shown on line 17.\n",
    "\n",
    "# Add your code here!\n",
    "old_balance = float(old_balance)\n",
    "deposit = float(deposit)\n",
    "\n",
    "new_balance = round(old_balance + deposit, 2)\n",
    "print(\"The new balance is:\", new_balance)"
   ]
  },
  {
   "cell_type": "code",
   "execution_count": 2,
   "metadata": {},
   "outputs": [
    {
     "name": "stdout",
     "output_type": "stream",
     "text": [
      "True\n"
     ]
    }
   ],
   "source": [
    "# 2\n",
    "\n",
    "balance = 500\n",
    "income = 200\n",
    "price = 1000\n",
    "months = 6\n",
    "\n",
    "# You're thinking of buying a new computer. The variables\n",
    "# above represent the balance of your bank account, your\n",
    "# monthly disposable income, the total price of the computer,\n",
    "# and the number of months that the retailer will give you to\n",
    "# pay off the computer.\n",
    "#\n",
    "# You can buy the computer if either (a) you can afford to\n",
    "# buy the computer in cash right now (balance is greater than\n",
    "# price), or (b) you can afford the monthly payments (income\n",
    "# is greater than price divided by months).\n",
    "#\n",
    "# In other words, if a computer cost $1200 and you spread it\n",
    "# out over 12 months, you would need your monthly available\n",
    "# income to be at least $100 to buy the computer, or you\n",
    "# would need your current bank balance to be at least $1200.\n",
    "#\n",
    "# Add some code below that will print True if you're able to\n",
    "# afford the computer given the values above, and False if you\n",
    "# are not.\n",
    "\n",
    "# Add your code below!\n",
    "print((balance >= price) or (income > (price/months)))"
   ]
  },
  {
   "cell_type": "code",
   "execution_count": 3,
   "metadata": {},
   "outputs": [
    {
     "name": "stdout",
     "output_type": "stream",
     "text": [
      "Hat: False\n",
      "Gloves: False\n",
      "Umbrella: True\n",
      "Scarf: False\n"
     ]
    }
   ],
   "source": [
    "# 3\n",
    "\n",
    "hot = True\n",
    "cold = False\n",
    "rainy = True\n",
    "windy = False\n",
    "snowy = False\n",
    "\n",
    "# Earlier, you wrote a program that made clothing\n",
    "# recommendations based on the weather. Your program could\n",
    "# specifically recommend a jacket, boots, flip-flips, or a\n",
    "# tshirt based on whether it was hot, cold, rainy, windy, or\n",
    "# snowy.\n",
    "#\n",
    "# Let's add some accessories to that program: a hat, gloves,\n",
    "# umbrella, and a scarf.\n",
    "#\n",
    "# Specifically, the program should recommend:\n",
    "#\n",
    "# - a hat if it's cold, or if it's hot but not rainy (cold\n",
    "#   and rainy still means a hat, though).\n",
    "# - gloves if it's cold and either snowy or rainy.\n",
    "# - an umbrella if it's hot, snowy, or rainy.\n",
    "# - a scarf if it's cold and windy or cold and snowy\n",
    "#   unless it's rainy. Rain means no scarf regardless of\n",
    "#   whether it's cold, windy, or snowy.\n",
    "#\n",
    "# Write some code below that will print four lines, one for\n",
    "# each of the four types of clothing. The lines should look\n",
    "# like this:\n",
    "#\n",
    "# Hat: True\n",
    "# Gloves: True\n",
    "# Umbrella: False\n",
    "# Scarf: False\n",
    "#\n",
    "# The values (True and False) will differ based on the\n",
    "# values assigned to hot, cold, windy, snowy, and rainy\n",
    "# at the start of the program.\n",
    "\n",
    "#Add your code here!\n",
    "print(\"Hat:\", (cold or (hot and not rainy)))\n",
    "print(\"Gloves:\", (cold and (snowy or rainy)))\n",
    "print(\"Umbrella:\", (hot or snowy or rainy))\n",
    "print(\"Scarf:\", ((cold and windy) or (cold and snowy and not rainy)))"
   ]
  },
  {
   "cell_type": "code",
   "execution_count": 4,
   "metadata": {},
   "outputs": [
    {
     "name": "stdout",
     "output_type": "stream",
     "text": [
      "True\n"
     ]
    }
   ],
   "source": [
    "# 4\n",
    "\n",
    "import datetime\n",
    "start_date = datetime.date(2017, 2, 16)\n",
    "end_date = datetime.date(2017, 2, 16)\n",
    "start_time = datetime.time(4, 30, 0)\n",
    "end_time = datetime.time(4, 30, 17)\n",
    "\n",
    "# Above, there are four variables: start_date, end_date,\n",
    "# start_time, and end_time. start_date and start_time together\n",
    "# represent a certain time on a certain date, and end_date and\n",
    "# end_time represent a different time on a different date.\n",
    "#\n",
    "# Add some code below that will print True if the end time\n",
    "# occurs after the start time. Print False if the end time\n",
    "# occurs before the start time. For example, 11:15:00 on\n",
    "# 01/01/2017 would be before 09:00:00 on 01/05/2017, which\n",
    "# would be before 11:25:00 on 01/05/2017.\n",
    "#\n",
    "# Note that you may use dot notation to access the individual\n",
    "# parts of the dates and times. You can access the hour,\n",
    "# minute, and seconds from start_time with start_time.hour,\n",
    "# start_time.minute, and start_time.second. You can access\n",
    "# the year, month, and day of start_date with\n",
    "# start_date.year, start_date.month, and start_date.day. You\n",
    "# can use the same syntax to access the parts of end_date.\n",
    "# Note that Python uses 24-hour time.\n",
    "#\n",
    "# Hint: You may use conditionals to solve this if you want,\n",
    "# but you don't need to.\n",
    "#\n",
    "# Hint 2: You can use relational operators with both dates\n",
    "# and times. start_time < end_time is True if start_time is\n",
    "# before end_time. start_date >= end_date is True if\n",
    "# start_date is later than end_date, or the same date. With\n",
    "# this, you can avoid using dot notation altogether if\n",
    "# you'd like.\n",
    "\n",
    "#Add your code here!\n",
    "print((start_date <= end_date) and (start_time <= end_time))"
   ]
  },
  {
   "cell_type": "code",
   "execution_count": 5,
   "metadata": {},
   "outputs": [
    {
     "name": "stdout",
     "output_type": "stream",
     "text": [
      "38940.04\n"
     ]
    }
   ],
   "source": [
    "# 5\n",
    "\n",
    "goal = 50000\n",
    "rate = 0.05\n",
    "years = 5\n",
    "\n",
    "# Earlier, we created a program that would calculate the\n",
    "# value of an investment account after a certain period of\n",
    "# time using the formula Amount = Principal * e^(Rate * Time).\n",
    "#\n",
    "# Let's revisit that, but let's flip the question around.\n",
    "# Instead of asking, \"What will the value of this account\n",
    "# be?\", let's instead ask, \"How much do I need to invest to\n",
    "# have a certain amount by a certain year?\" For example,\n",
    "# \"How much do I need to invest to have $50,000 in 5 years\n",
    "# at 5% (0.05) interest?\"\n",
    "#\n",
    "# Mathematically, the formula for this is:\n",
    "#\n",
    "#  goal / e ^ (rate * number of years) = principal\n",
    "#\n",
    "# Add some code below that will print the amount of principal\n",
    "# needed to reach the given savings goal within the number of\n",
    "# years and interest rate specified.\n",
    "#\n",
    "# In printing your response, you should round the answer to\n",
    "# two decimal places. Remember, you can do this with this\n",
    "# code (assuming that your principal is stored in a variable\n",
    "# called 'principal'): rounded_principal = round(principal, 2)\n",
    "#\n",
    "# Remember, you can access e using math.e as long as you don't\n",
    "# change the next line.\n",
    "import math\n",
    "\n",
    "#Add your code here!\n",
    "principal = (goal / (math.e**(rate*years)))\n",
    "print(round(principal, 2))"
   ]
  },
  {
   "cell_type": "code",
   "execution_count": 6,
   "metadata": {},
   "outputs": [
    {
     "name": "stdout",
     "output_type": "stream",
     "text": [
      "True\n"
     ]
    }
   ],
   "source": [
    "# 6\n",
    "\n",
    "principal = 40000\n",
    "rate = 0.05\n",
    "years = 5\n",
    "goal = 50000\n",
    "\n",
    "#Last problem, we calculated how much money a person would\n",
    "#have to invest to reach a certain savings goal. Now, let's\n",
    "#modify that to instead take a principal, interest rate,\n",
    "#number of years, and savings goal, and report whether or not\n",
    "#the person will meet their savings goal.\n",
    "#\n",
    "#Add some code below that will calculate whether the\n",
    "#investment described by the values above will meet the given\n",
    "#goal. If it will, print True. If it will not, print False.\n",
    "#\n",
    "#As a reminder, the formula for the value of an account after\n",
    "#a given time (in number of years) is:\n",
    "#\n",
    "#  Current Value = principal * e ^ (rate * number of years)\n",
    "#\n",
    "#Remember, you can access e using math.e as long as you don't\n",
    "#change the next line. You don't need to worry about rounding\n",
    "#on this problem.\n",
    "import math\n",
    "\n",
    "\n",
    "#Add your code here!\n",
    "current_value = principal*(math.e**(rate*years))\n",
    "print(current_value >= goal)"
   ]
  },
  {
   "cell_type": "code",
   "execution_count": 7,
   "metadata": {},
   "outputs": [
    {
     "name": "stdout",
     "output_type": "stream",
     "text": [
      "You are cordially invited to attend the wedding of Caitlin and David, to take place on November 3, 2012 at 5:00PM.\n"
     ]
    }
   ],
   "source": [
    "# 7\n",
    "\n",
    "spouse_1 = \"Caitlin\"\n",
    "spouse_2 = \"David\"\n",
    "month = \"November\"\n",
    "day = 3\n",
    "year = 2012\n",
    "time = \"5:00PM\"\n",
    "\n",
    "\n",
    "# The variables above give some information about a wedding:\n",
    "# the names of the spouses and the month, day, year, and time\n",
    "# of the wedding.\n",
    "#\n",
    "# Add some code that will write the text to appear on a wedding\n",
    "# invitation based on these values. For the values shown above,\n",
    "# this would read:\n",
    "#\n",
    "# You are cordially invited to attend the wedding of Caitlin and David, to take place on November 3, 2012 at 5:00PM.\n",
    "#\n",
    "# Note that all components of this statement are required: start\n",
    "# \"You are cordially invited to attend the wedding of \", followed\n",
    "# by spouse_1's name, followed by \" and \", followed by spouse_2's\n",
    "# name, then a comma and space, followed by \"to take place on \",\n",
    "# followed by the month, a space, the day, a comma and space, the\n",
    "# year, a space, the word \"at\", a space, the time, and then a\n",
    "# period.\n",
    "#\n",
    "# HINT: Copy the sentence below and replace the current values\n",
    "# (Caitlin, David, November, etc.) with variables to reduce the\n",
    "# risk of typoes throwing off your answers.\n",
    "\n",
    "#Add your code here!\n",
    "print(\"You are cordially invited to attend the wedding of \" + spouse_1 + \" and \" + spouse_2 + \", to take place on \" + month + \" \" + str(day) + \", \" + str(year) + \" at \" + time + \".\")"
   ]
  },
  {
   "cell_type": "code",
   "execution_count": 8,
   "metadata": {},
   "outputs": [
    {
     "name": "stdout",
     "output_type": "stream",
     "text": [
      "Fifties: 0\n",
      "Twenties: 0\n",
      "Tens: 1\n",
      "Fives: 1\n",
      "Ones: 2\n"
     ]
    }
   ],
   "source": [
    "# 8\n",
    "\n",
    "amount = 17\n",
    "\n",
    "# The variable above describes an amount of money measured in\n",
    "# dollars. Imagine you want to select the bills (1-dollar bills,\n",
    "# 5-dollar bills, 10-dollar bills, etc.) that make up that\n",
    "# amount of money. For example, 17 dollars is one $10, one $5,\n",
    "# and two $1s.\n",
    "#\n",
    "# Write a program that will print out the bills needed to\n",
    "# arrive at the amount shown above. Assume that we always want\n",
    "# the maximum number of large bills: for example, for 17 dollars,\n",
    "# we want one $10, one $5, and two $1s, not three $5s and two $1s.\n",
    "# You may assume that the largest bill you have on hand is a\n",
    "# $50-dollar bill.\n",
    "#\n",
    "# Your code should print the following (with the correct numbers\n",
    "# based on the value of amount):\n",
    "#\n",
    "# Fifties: 0\n",
    "# Twenties: 0\n",
    "# Tens: 1\n",
    "# Fives: 1\n",
    "# Ones: 2\n",
    "\n",
    "\n",
    "#Add your code here!\n",
    "print(\"Fifties:\", amount//50)\n",
    "amount = amount - 50*(amount//50)\n",
    "print(\"Twenties:\", amount//20)\n",
    "amount = amount - 20*(amount//20)\n",
    "print(\"Tens:\", amount//10)\n",
    "amount = amount - 10*(amount//10)\n",
    "print(\"Fives:\", amount//5)\n",
    "amount = amount - 5*(amount//5)\n",
    "print(\"Ones:\", amount//1)"
   ]
  },
  {
   "cell_type": "code",
   "execution_count": 9,
   "metadata": {},
   "outputs": [
    {
     "name": "stdout",
     "output_type": "stream",
     "text": [
      "!!!lollollol!!!lollollol!!!lollollol!!!\n"
     ]
    }
   ],
   "source": [
    "# 9\n",
    "\n",
    "message = \"lol\"\n",
    "punct = \"!\"\n",
    "num = 3\n",
    "\n",
    "# Using the values of message, punct, and num, print\n",
    "# a string that looks like the one below if message = \"lol\",\n",
    "# punct = \"!\", and num = 3:\n",
    "#\n",
    "# !!!lollollol!!!lollollol!!!lollollol!!!\n",
    "#\n",
    "# Specifically, it should start by printing punct num\n",
    "# times, then print message num times, repeat that entire\n",
    "# process num times, and then print punct num times\n",
    "# again.\n",
    "#\n",
    "# Here are a couple other examples:\n",
    "#\n",
    "# message = \"bbl\", punct = \":\", num = 1 -> :bbl:\n",
    "# message = \"bbq\", punct = \"?\", num = 2 -> \"??bbqbbq??bbqbbq??\n",
    "# message = \"brb\", punct = \".\", num = 4 -> ....brbbrbbrbbrb....brbbrbbrbbrb....brbbrbbrbbrb....brbbrbbrbbrb....\n",
    "\n",
    "\n",
    "# Add your code below!\n",
    "print((punct*num + message*num)*num + punct*num)"
   ]
  },
  {
   "cell_type": "code",
   "execution_count": 10,
   "metadata": {},
   "outputs": [
    {
     "name": "stdout",
     "output_type": "stream",
     "text": [
      "272727272727272727\n"
     ]
    }
   ],
   "source": [
    "# 10\n",
    "\n",
    "num = 3\n",
    "\n",
    "# Write some code that calculates the cube of the number\n",
    "# given by num. Then, print that number num^2 (num squared)\n",
    "# times in a row, with no spaces or line breaks in between.\n",
    "#\n",
    "# For example, if num is 3, then your code would print:\n",
    "#\n",
    "# 272727272727272727\n",
    "#\n",
    "# That 27 9 times. 3 squared is 9, 3 cubed is 27, and so\n",
    "# it prints 27 9 times.\n",
    "#\n",
    "# Note: these directions are slightly different from the\n",
    "# preview we posted! You should be printing num^3 num^2\n",
    "# times, not printing num^2 num^3 times.\n",
    "\n",
    "# Add your code here!\n",
    "cubed = str(num**3)\n",
    "print(cubed*(num**2))"
   ]
  },
  {
   "cell_type": "code",
   "execution_count": 11,
   "metadata": {},
   "outputs": [
    {
     "name": "stdout",
     "output_type": "stream",
     "text": [
      "27\n"
     ]
    }
   ],
   "source": [
    "# 11\n",
    "\n",
    "current_day = 31\n",
    "current_month = 5\n",
    "current_year = 2018\n",
    "birth_day = 19\n",
    "birth_month = 12\n",
    "birth_year = 1990\n",
    "\n",
    "# Given the current date and birth date held by the variables\n",
    "# above, calculate and print this person's current age. Note\n",
    "# that if their birth date has not yet passed this year, your\n",
    "# result would be one less than if it has.\n",
    "#\n",
    "# For example, with the variables given above, the person\n",
    "# would turn 28 on December 12th, 2018. So, as of May 31st,\n",
    "# 2018, they are 27.\n",
    "\n",
    "# Add your code here!\n",
    "current_age = current_year - birth_year - ((current_month, current_day) < (birth_month, birth_day))\n",
    "\n",
    "print(current_age)"
   ]
  },
  {
   "cell_type": "markdown",
   "metadata": {},
   "source": [
    "### Practice Test 1"
   ]
  },
  {
   "cell_type": "code",
   "execution_count": 2,
   "metadata": {},
   "outputs": [
    {
     "name": "stdout",
     "output_type": "stream",
     "text": [
      "7\n",
      "8\n",
      "8\n",
      "7\n"
     ]
    }
   ],
   "source": [
    "a = 1\n",
    "b = 7\n",
    "a = b\n",
    "c = a\n",
    "d = 8\n",
    "b = d\n",
    "c = b\n",
    "d = a\n",
    "\n",
    "print(a)\n",
    "print(b)\n",
    "print(c)\n",
    "print(d)"
   ]
  },
  {
   "cell_type": "code",
   "execution_count": 3,
   "metadata": {},
   "outputs": [
    {
     "name": "stdout",
     "output_type": "stream",
     "text": [
      "2.1\n"
     ]
    }
   ],
   "source": [
    "print(float(\"2.1\"))"
   ]
  },
  {
   "cell_type": "code",
   "execution_count": 4,
   "metadata": {},
   "outputs": [
    {
     "ename": "ValueError",
     "evalue": "invalid literal for int() with base 10: '2.1'",
     "output_type": "error",
     "traceback": [
      "\u001b[1;31m---------------------------------------------------------------------------\u001b[0m",
      "\u001b[1;31mValueError\u001b[0m                                Traceback (most recent call last)",
      "\u001b[1;32m~\\AppData\\Local\\Temp\\ipykernel_46672\\162717657.py\u001b[0m in \u001b[0;36m<module>\u001b[1;34m\u001b[0m\n\u001b[1;32m----> 1\u001b[1;33m \u001b[0mprint\u001b[0m\u001b[1;33m(\u001b[0m\u001b[0mint\u001b[0m\u001b[1;33m(\u001b[0m\u001b[1;34m\"2.1\"\u001b[0m\u001b[1;33m)\u001b[0m\u001b[1;33m)\u001b[0m\u001b[1;33m\u001b[0m\u001b[1;33m\u001b[0m\u001b[0m\n\u001b[0m",
      "\u001b[1;31mValueError\u001b[0m: invalid literal for int() with base 10: '2.1'"
     ]
    }
   ],
   "source": [
    "print(int(\"2.1\"))"
   ]
  },
  {
   "cell_type": "code",
   "execution_count": 5,
   "metadata": {},
   "outputs": [
    {
     "name": "stdout",
     "output_type": "stream",
     "text": [
      "2\n"
     ]
    }
   ],
   "source": [
    "print(int(\"2\"))"
   ]
  },
  {
   "cell_type": "code",
   "execution_count": 6,
   "metadata": {},
   "outputs": [
    {
     "name": "stdout",
     "output_type": "stream",
     "text": [
      "2.1\n"
     ]
    }
   ],
   "source": [
    "print(str(2.1))"
   ]
  },
  {
   "cell_type": "code",
   "execution_count": 7,
   "metadata": {},
   "outputs": [
    {
     "name": "stdout",
     "output_type": "stream",
     "text": [
      "2.0\n"
     ]
    }
   ],
   "source": [
    "print(float(\"2\"))"
   ]
  },
  {
   "cell_type": "code",
   "execution_count": 8,
   "metadata": {},
   "outputs": [
    {
     "name": "stdout",
     "output_type": "stream",
     "text": [
      "False\n"
     ]
    }
   ],
   "source": [
    "print(bool(\"\"))"
   ]
  },
  {
   "cell_type": "code",
   "execution_count": 9,
   "metadata": {},
   "outputs": [
    {
     "name": "stdout",
     "output_type": "stream",
     "text": [
      "True\n"
     ]
    }
   ],
   "source": [
    "print(bool(2))"
   ]
  },
  {
   "cell_type": "code",
   "execution_count": 10,
   "metadata": {},
   "outputs": [
    {
     "name": "stdout",
     "output_type": "stream",
     "text": [
      "0.0\n"
     ]
    }
   ],
   "source": [
    "print(float(False))"
   ]
  },
  {
   "cell_type": "code",
   "execution_count": 11,
   "metadata": {},
   "outputs": [
    {
     "data": {
      "text/plain": [
       "True"
      ]
     },
     "execution_count": 11,
     "metadata": {},
     "output_type": "execute_result"
    }
   ],
   "source": [
    "not (False and True)"
   ]
  },
  {
   "cell_type": "code",
   "execution_count": 12,
   "metadata": {},
   "outputs": [
    {
     "data": {
      "text/plain": [
       "False"
      ]
     },
     "execution_count": 12,
     "metadata": {},
     "output_type": "execute_result"
    }
   ],
   "source": [
    "False or not True"
   ]
  },
  {
   "cell_type": "code",
   "execution_count": 13,
   "metadata": {},
   "outputs": [
    {
     "data": {
      "text/plain": [
       "False"
      ]
     },
     "execution_count": 13,
     "metadata": {},
     "output_type": "execute_result"
    }
   ],
   "source": [
    "(True and not False) and False"
   ]
  },
  {
   "cell_type": "code",
   "execution_count": 14,
   "metadata": {},
   "outputs": [
    {
     "data": {
      "text/plain": [
       "True"
      ]
     },
     "execution_count": 14,
     "metadata": {},
     "output_type": "execute_result"
    }
   ],
   "source": [
    "(False and True) or (False or True)"
   ]
  },
  {
   "cell_type": "code",
   "execution_count": 15,
   "metadata": {},
   "outputs": [
    {
     "data": {
      "text/plain": [
       "True"
      ]
     },
     "execution_count": 15,
     "metadata": {},
     "output_type": "execute_result"
    }
   ],
   "source": [
    "((True or (False and True)) or ((True or False) and (True and False))) or True"
   ]
  },
  {
   "cell_type": "code",
   "execution_count": 16,
   "metadata": {},
   "outputs": [
    {
     "data": {
      "text/plain": [
       "False"
      ]
     },
     "execution_count": 16,
     "metadata": {},
     "output_type": "execute_result"
    }
   ],
   "source": [
    "((not True and not False) and (not True or not False)) or ((True or False) and (True and False))"
   ]
  },
  {
   "cell_type": "code",
   "execution_count": 22,
   "metadata": {},
   "outputs": [
    {
     "name": "stdout",
     "output_type": "stream",
     "text": [
      "False\n",
      "False\n",
      "False\n",
      "True\n"
     ]
    }
   ],
   "source": [
    "is_rare = True\n",
    "is_strong = True\n",
    "is_tiny = False\n",
    "is_new = False\n",
    "\n",
    "print(is_rare and is_tiny)\n",
    "print(not (is_strong or is_rare))\n",
    "print((is_tiny or is_new) and is_strong)\n",
    "print(is_rare or (is_tiny and is_new))"
   ]
  },
  {
   "cell_type": "code",
   "execution_count": 23,
   "metadata": {},
   "outputs": [
    {
     "name": "stdout",
     "output_type": "stream",
     "text": [
      "False\n"
     ]
    }
   ],
   "source": [
    "is_strong = True\n",
    "is_fast = True\n",
    "is_shiny = False\n",
    "is_rare = False\n",
    "is_good = is_strong and is_fast\n",
    "is_interesting = is_shiny or is_rare\n",
    "is_wonderful = is_good and is_interesting\n",
    "\n",
    "print(is_wonderful)"
   ]
  },
  {
   "cell_type": "code",
   "execution_count": 24,
   "metadata": {},
   "outputs": [
    {
     "name": "stdout",
     "output_type": "stream",
     "text": [
      "False\n"
     ]
    }
   ],
   "source": [
    "is_strong = False\n",
    "is_fast = False\n",
    "is_shiny = True\n",
    "is_rare = True\n",
    "is_good = is_strong and is_fast\n",
    "is_interesting = is_shiny or is_rare\n",
    "is_wonderful = is_good and is_interesting\n",
    "\n",
    "print(is_wonderful)"
   ]
  },
  {
   "cell_type": "code",
   "execution_count": 32,
   "metadata": {},
   "outputs": [
    {
     "name": "stdout",
     "output_type": "stream",
     "text": [
      "True\n",
      "False\n",
      "False\n",
      "True\n",
      "True\n",
      "True\n",
      "False\n",
      "True\n"
     ]
    }
   ],
   "source": [
    "a = 12\n",
    "b = -2\n",
    "c = 2\n",
    "d = 6\n",
    "\n",
    "print(a >= c)\n",
    "print(a <= b)\n",
    "print((a == d) and (c <= b))\n",
    "print((a > d) or (c > d))\n",
    "print(a * 2 > d)\n",
    "print(a * b <= c)\n",
    "print((a / d) == (b / b))\n",
    "print(b * (a // c) < b)"
   ]
  },
  {
   "cell_type": "markdown",
   "metadata": {},
   "source": [
    "a > b and a < b # always true\n",
    "\n",
    "a > b or a < b # true depending on values (as long as a and b aren't equal)\n",
    "\n",
    "a <= b or b <= c or c <= a # always true\n",
    "\n",
    "a == b and b == c and (a > b or b > c) # always false"
   ]
  },
  {
   "cell_type": "code",
   "execution_count": 35,
   "metadata": {},
   "outputs": [
    {
     "name": "stdout",
     "output_type": "stream",
     "text": [
      "True\n",
      "True\n",
      "False\n",
      "True\n"
     ]
    }
   ],
   "source": [
    "print(True or not True)\n",
    "print(True or not False)\n",
    "print(False or not True)\n",
    "print(False or not False)"
   ]
  },
  {
   "cell_type": "code",
   "execution_count": 39,
   "metadata": {},
   "outputs": [
    {
     "name": "stdout",
     "output_type": "stream",
     "text": [
      "False\n",
      "False\n",
      "True\n",
      "False\n"
     ]
    }
   ],
   "source": [
    "# ((A or B) and C)\n",
    "\n",
    "print(((True or True) and False))\n",
    "print(((True or False) and False))\n",
    "print(((False or True) and True))\n",
    "print(((False or False) and False))"
   ]
  },
  {
   "cell_type": "code",
   "execution_count": 48,
   "metadata": {},
   "outputs": [
    {
     "name": "stdout",
     "output_type": "stream",
     "text": [
      "True\n",
      "False\n",
      "False\n",
      "True\n"
     ]
    }
   ],
   "source": [
    "# (A or B) and (A or C)\n",
    "\n",
    "print((True or False) and (True or True))\n",
    "print((False or True) and (False or False))\n",
    "print((False or False) and (False or True))\n",
    "print((True or True) and (True or False))"
   ]
  },
  {
   "cell_type": "code",
   "execution_count": 54,
   "metadata": {},
   "outputs": [
    {
     "name": "stdout",
     "output_type": "stream",
     "text": [
      "False\n",
      "True\n",
      "True\n",
      "False\n"
     ]
    }
   ],
   "source": [
    "#(not A and (B or C))\n",
    "\n",
    "print(not False and (False or False)) \n",
    "print(not False and (False or True))\n",
    "print(not False and (True or True))\n",
    "print(not True and (True or True))"
   ]
  },
  {
   "cell_type": "code",
   "execution_count": 55,
   "metadata": {},
   "outputs": [
    {
     "data": {
      "text/plain": [
       "3"
      ]
     },
     "execution_count": 55,
     "metadata": {},
     "output_type": "execute_result"
    }
   ],
   "source": [
    "11 % 4"
   ]
  },
  {
   "cell_type": "code",
   "execution_count": 56,
   "metadata": {},
   "outputs": [
    {
     "data": {
      "text/plain": [
       "17"
      ]
     },
     "execution_count": 56,
     "metadata": {},
     "output_type": "execute_result"
    }
   ],
   "source": [
    "7 * 2 + 3"
   ]
  },
  {
   "cell_type": "code",
   "execution_count": 57,
   "metadata": {},
   "outputs": [
    {
     "data": {
      "text/plain": [
       "2"
      ]
     },
     "execution_count": 57,
     "metadata": {},
     "output_type": "execute_result"
    }
   ],
   "source": [
    "2 ** (3 // 3)"
   ]
  },
  {
   "cell_type": "code",
   "execution_count": 59,
   "metadata": {},
   "outputs": [
    {
     "ename": "SyntaxError",
     "evalue": "cannot assign to operator (2690623867.py, line 1)",
     "output_type": "error",
     "traceback": [
      "\u001b[1;36m  File \u001b[1;32m\"C:\\Users\\orgil\\AppData\\Local\\Temp\\ipykernel_46672\\2690623867.py\"\u001b[1;36m, line \u001b[1;32m1\u001b[0m\n\u001b[1;33m    9*3 = 27\u001b[0m\n\u001b[1;37m    ^\u001b[0m\n\u001b[1;31mSyntaxError\u001b[0m\u001b[1;31m:\u001b[0m cannot assign to operator\n"
     ]
    }
   ],
   "source": [
    "9*3 = 27"
   ]
  },
  {
   "cell_type": "code",
   "execution_count": 60,
   "metadata": {},
   "outputs": [
    {
     "data": {
      "text/plain": [
       "True"
      ]
     },
     "execution_count": 60,
     "metadata": {},
     "output_type": "execute_result"
    }
   ],
   "source": [
    "27 == 3 * 9"
   ]
  },
  {
   "cell_type": "code",
   "execution_count": 61,
   "metadata": {},
   "outputs": [
    {
     "data": {
      "text/plain": [
       "7.0"
      ]
     },
     "execution_count": 61,
     "metadata": {},
     "output_type": "execute_result"
    }
   ],
   "source": [
    "10 / 5 + 5"
   ]
  },
  {
   "cell_type": "code",
   "execution_count": 62,
   "metadata": {},
   "outputs": [
    {
     "ename": "TypeError",
     "evalue": "unsupported operand type(s) for +: 'int' and 'str'",
     "output_type": "error",
     "traceback": [
      "\u001b[1;31m---------------------------------------------------------------------------\u001b[0m",
      "\u001b[1;31mTypeError\u001b[0m                                 Traceback (most recent call last)",
      "\u001b[1;32m~\\AppData\\Local\\Temp\\ipykernel_46672\\4265499519.py\u001b[0m in \u001b[0;36m<module>\u001b[1;34m\u001b[0m\n\u001b[1;32m----> 1\u001b[1;33m \u001b[1;36m5\u001b[0m \u001b[1;33m+\u001b[0m \u001b[1;34m\"5\"\u001b[0m\u001b[1;33m\u001b[0m\u001b[1;33m\u001b[0m\u001b[0m\n\u001b[0m",
      "\u001b[1;31mTypeError\u001b[0m: unsupported operand type(s) for +: 'int' and 'str'"
     ]
    }
   ],
   "source": [
    "5 + \"5\""
   ]
  },
  {
   "cell_type": "code",
   "execution_count": 63,
   "metadata": {},
   "outputs": [
    {
     "data": {
      "text/plain": [
       "4.0"
      ]
     },
     "execution_count": 63,
     "metadata": {},
     "output_type": "execute_result"
    }
   ],
   "source": [
    "20 / 5"
   ]
  },
  {
   "cell_type": "code",
   "execution_count": 64,
   "metadata": {},
   "outputs": [
    {
     "data": {
      "text/plain": [
       "3.0"
      ]
     },
     "execution_count": 64,
     "metadata": {},
     "output_type": "execute_result"
    }
   ],
   "source": [
    "9 // 3.0"
   ]
  },
  {
   "cell_type": "code",
   "execution_count": 65,
   "metadata": {},
   "outputs": [
    {
     "data": {
      "text/plain": [
       "0.0"
      ]
     },
     "execution_count": 65,
     "metadata": {},
     "output_type": "execute_result"
    }
   ],
   "source": [
    "3.0 // 9"
   ]
  },
  {
   "cell_type": "code",
   "execution_count": 66,
   "metadata": {},
   "outputs": [
    {
     "data": {
      "text/plain": [
       "False"
      ]
     },
     "execution_count": 66,
     "metadata": {},
     "output_type": "execute_result"
    }
   ],
   "source": [
    "False and ((1 < 1) or (1.0 < 1) or (1 < 1.0))"
   ]
  },
  {
   "cell_type": "code",
   "execution_count": 67,
   "metadata": {},
   "outputs": [
    {
     "data": {
      "text/plain": [
       "125.0"
      ]
     },
     "execution_count": 67,
     "metadata": {},
     "output_type": "execute_result"
    }
   ],
   "source": [
    "float(\"5\") ** 3"
   ]
  },
  {
   "cell_type": "code",
   "execution_count": 68,
   "metadata": {},
   "outputs": [
    {
     "data": {
      "text/plain": [
       "'1010'"
      ]
     },
     "execution_count": 68,
     "metadata": {},
     "output_type": "execute_result"
    }
   ],
   "source": [
    "\"10\" + \"10\""
   ]
  },
  {
   "cell_type": "code",
   "execution_count": 69,
   "metadata": {},
   "outputs": [
    {
     "data": {
      "text/plain": [
       "'ABABAB'"
      ]
     },
     "execution_count": 69,
     "metadata": {},
     "output_type": "execute_result"
    }
   ],
   "source": [
    "\"AB\" * 3"
   ]
  },
  {
   "cell_type": "code",
   "execution_count": 70,
   "metadata": {},
   "outputs": [
    {
     "data": {
      "text/plain": [
       "'nanananananananabatmanbatman'"
      ]
     },
     "execution_count": 70,
     "metadata": {},
     "output_type": "execute_result"
    }
   ],
   "source": [
    "\"na\" * 8 + 2 * \"batman\""
   ]
  },
  {
   "cell_type": "code",
   "execution_count": 71,
   "metadata": {},
   "outputs": [
    {
     "data": {
      "text/plain": [
       "'1222'"
      ]
     },
     "execution_count": 71,
     "metadata": {},
     "output_type": "execute_result"
    }
   ],
   "source": [
    "\"1\" + 3 * \"2\""
   ]
  },
  {
   "cell_type": "code",
   "execution_count": 73,
   "metadata": {},
   "outputs": [
    {
     "name": "stdout",
     "output_type": "stream",
     "text": [
      "2\n"
     ]
    }
   ],
   "source": [
    "my_var = 10\n",
    "my_var = my_var // 2\n",
    "my_var = my_var ** 2\n",
    "my_var = my_var * 4\n",
    "my_var = my_var + 17\n",
    "my_var = my_var - 5\n",
    "my_var = my_var % 5\n",
    "print(my_var)"
   ]
  },
  {
   "cell_type": "code",
   "execution_count": 75,
   "metadata": {},
   "outputs": [
    {
     "name": "stdout",
     "output_type": "stream",
     "text": [
      "1\n"
     ]
    }
   ],
   "source": [
    "my_var = 2\n",
    "my_var //= 2\n",
    "my_var **= 2\n",
    "my_var *= 2\n",
    "my_var += 7\n",
    "my_var -= 17\n",
    "my_var %= 3\n",
    "print(my_var)"
   ]
  },
  {
   "cell_type": "code",
   "execution_count": 77,
   "metadata": {},
   "outputs": [
    {
     "name": "stdout",
     "output_type": "stream",
     "text": [
      "1000\n",
      "4000\n"
     ]
    }
   ],
   "source": [
    "my_var_1 = 10\n",
    "my_var_2 = 3\n",
    "my_var_1 **= my_var_2\n",
    "my_var_2 *= my_var_1\n",
    "my_var_1 %= my_var_2\n",
    "my_var_2 += my_var_1\n",
    "print(my_var_1)\n",
    "print(my_var_2)"
   ]
  },
  {
   "cell_type": "code",
   "execution_count": 79,
   "metadata": {},
   "outputs": [
    {
     "name": "stdout",
     "output_type": "stream",
     "text": [
      "The sum of the two strings is 26."
     ]
    }
   ],
   "source": [
    "mystery_string_1 = \"17\"\n",
    "mystery_string_2 = \"9\"\n",
    "\n",
    "#mystery_string_1 and mystery_string_2 are each strings\n",
    "#representing numbers. Write some code below that will find\n",
    "#the numeric sum of the numbers represented by these strings.\n",
    "#For example, if the strings were \"17\" and \"9\", your answer\n",
    "#would be 26.\n",
    "#\n",
    "#Then, print out the result as part of a sentence of this\n",
    "#form: \"The sum of the two strings is 26.\". (Do not include\n",
    "#quotes in your output, only print the message inside the\n",
    "#quotes.)\n",
    "#\n",
    "#You may assume that both strings will hold integers.\n",
    "\n",
    "#Add your code here!\n",
    "\n",
    "summed = int(mystery_string_1) + int(mystery_string_2)\n",
    "print(\"The sum of the two strings is\", summed, end = '.')"
   ]
  },
  {
   "cell_type": "code",
   "execution_count": 81,
   "metadata": {},
   "outputs": [
    {
     "name": "stdout",
     "output_type": "stream",
     "text": [
      "Soup: False\n",
      "Biscuit: False\n",
      "Cereal: True\n",
      "Pizza: False\n"
     ]
    }
   ],
   "source": [
    "hot = True\n",
    "cold = False\n",
    "morning = True\n",
    "evening = False\n",
    "night = False\n",
    "\n",
    "#Write a program that will recommend a meal based on the\n",
    "#current weather and time of day. Specifically, the program\n",
    "#should recommend:\n",
    "#\n",
    "# - soup if it's cold and either evening or night\n",
    "# - a biscuit if it's morning and cold\n",
    "# - cereal if it's morning and hot, or whenever the time is\n",
    "#   night\n",
    "# - pizza whenever it's either evening or night\n",
    "#\n",
    "#Write some code below that will print four lines, one for\n",
    "#each of the four meals. The lines should look like this:\n",
    "#\n",
    "#Soup: False\n",
    "#Biscuit: False\n",
    "#Cereal: True\n",
    "#Pizza: False\n",
    "#\n",
    "#The values (True and False) will differ based on the\n",
    "#values assigned to hot, cold, morning, evening, and night\n",
    "#at the start of the program.\n",
    "\n",
    "#Add your code here!\n",
    "\n",
    "print(\"Soup:\", cold and (evening or night))\n",
    "print(\"Biscuit:\", morning and cold)\n",
    "print(\"Cereal:\", (morning and hot) or night)\n",
    "print(\"Pizza:\", evening or night)"
   ]
  },
  {
   "cell_type": "code",
   "execution_count": 82,
   "metadata": {},
   "outputs": [
    {
     "name": "stdout",
     "output_type": "stream",
     "text": [
      "The current time is 5PM: Cuckoo!Cuckoo!Cuckoo!Cuckoo!Cuckoo!\n"
     ]
    }
   ],
   "source": [
    "current_hour = 5\n",
    "time_of_day = \"PM\"\n",
    "\n",
    "#\n",
    "#Write some code that will print the following message based\n",
    "#on the values of current_hour and time_of_day:\n",
    "#\n",
    "#The current time is 5PM: Cuckoo!Cuckoo!Cuckoo!Cuckoo!Cuckoo!\n",
    "#\n",
    "#The values of current_hour and time_of_day should replace\n",
    "#\"5PM\", and \"Cuckoo!\" should be printed current_hour times.\n",
    "#\n",
    "#For example, if current_hour was 2 and time_of_day was \"AM\",\n",
    "#this would print:\n",
    "#\n",
    "#The current time is 2AM: Cuckoo!Cuckoo!\n",
    "\n",
    "#Add your code here!\n",
    "\n",
    "print(\"The current time is \" + str(current_hour) + time_of_day + \": \" + \"Cuckoo!\"*current_hour) "
   ]
  },
  {
   "cell_type": "code",
   "execution_count": 83,
   "metadata": {},
   "outputs": [
    {
     "name": "stdout",
     "output_type": "stream",
     "text": [
      "The total cost of the house will be $201751.36\n"
     ]
    }
   ],
   "source": [
    "cost = 150000\n",
    "rate = 0.0415\n",
    "years = 15\n",
    "\n",
    "#When taking out a mortgage (a type of loan) for a house, the\n",
    "#mortgage is defined by three variables: the total cost of the\n",
    "#house, the interest rate at which you will pay back the\n",
    "#mortgage, and how many months you have to pay back the\n",
    "#mortgage.\n",
    "#\n",
    "#The formula to find the total amount of money that will be\n",
    "#paid over that time is:\n",
    "#\n",
    "#  Cost * Number of Months * Monthly Rate /\n",
    "#  (1 - ((1 + Monthly Rate) ^ -Number of Months))\n",
    "#\n",
    "#Note that both time and rate are based on months: to find the\n",
    "#monhtly rate, divide the annual rate by 12. To find the number\n",
    "#of months, multiply the number of years by 12.\n",
    "#\n",
    "#Write some code that prints out a sentence like the following\n",
    "#based on the original cost, interest rate, and number of years\n",
    "#given above:\n",
    "#\n",
    "# The total cost of the house will be $201751.36\n",
    "#\n",
    "#You should round the total cost to two decimal places. You can\n",
    "#do this with this line, assuming the actual value of the\n",
    "#mortgage is stored in final_cost: final_cost = round(final_cost, 2)\n",
    "\n",
    "\n",
    "#Add your code here!\n",
    "num_months = years*12\n",
    "monthly_rate = rate/12\n",
    "\n",
    "formula = round(cost*num_months*monthly_rate/(1 - ((1 + monthly_rate)**-num_months)),2)\n",
    "\n",
    "print(\"The total cost of the house will be $\" + str(formula))"
   ]
  },
  {
   "cell_type": "code",
   "execution_count": 85,
   "metadata": {},
   "outputs": [
    {
     "name": "stdout",
     "output_type": "stream",
     "text": [
      "11010111\n"
     ]
    }
   ],
   "source": [
    "number = 215\n",
    "#\n",
    "#The number above is given in base 10. Let's convert it to\n",
    "#base 2 and print it in binary. For example, 215 can be written\n",
    "#in binary as 11010111.\n",
    "#\n",
    "#Each digit of that string corresponds to a power of 2. The far\n",
    "#left digit represents 128, then 64, then 32, then 16, then 8,\n",
    "#then 4, then 2, and then finally 1 at the far right.\n",
    "#\n",
    "#To convert the number to binary, first check to see if it is\n",
    "#greater than or equal to 128. If it is, your first digit is 1.\n",
    "#If not, your first digit is 0. If the number was greater than\n",
    "#128, subtract 128 (because the 128 is captured by the first\n",
    "#digit of the string).\n",
    "#\n",
    "#Then, repeat that process for 64, 32, 16, 8, 4, 2, and 1.\n",
    "#\n",
    "#For example:\n",
    "#\n",
    "#215 is >= 128: 1\n",
    "#87 is >= 64: 11\n",
    "#23 is not >= 32: 110\n",
    "#23 is >= 16: 1101\n",
    "#7 is not >= 8: 11010\n",
    "#7 is >= 4: 110101\n",
    "#3 is >= 2: 1101011\n",
    "#1 is >= 1: 11010111\n",
    "#\n",
    "#Note that although we use 'if' a lot to describe this problem,\n",
    "#this can be done entirely with floor division and modulus.\n",
    "#Remember, if you convert a boolean to an integer, True becomes\n",
    "#1 and False becomes 0.\n",
    "#\n",
    "#Note that we always work with binary in 8-bit chunks: the\n",
    "#number 7 would be 00000111, not just 111. That's because inside\n",
    "#the computer, 8 1s and 0s make a byte, which is the smallest\n",
    "#practical unit of storage (rarely are bits used outside 8-bit\n",
    "#bytes).\n",
    "#\n",
    "#Print the string that results from this conversion.\n",
    "\n",
    "\n",
    "#Add your code here!\n",
    "\n",
    "#print(\"0\", number)\n",
    "\n",
    "if (number >= 128):\n",
    "    binary = str(int(True))\n",
    "    number = number - 128 \n",
    "else:\n",
    "    binary = str(int(False))\n",
    "    \n",
    "#print(\"1\", number, binary)\n",
    "    \n",
    "if (number >= 64):\n",
    "    binary = binary + str(int(True))\n",
    "    number = number - 64 # \n",
    "else:\n",
    "    binary = binary + str(int(False))\n",
    "    \n",
    "#print(\"2\", number, binary)\n",
    "    \n",
    "if (number >= 32):\n",
    "    binary = binary +  str(int(True))\n",
    "    number = number - 32\n",
    "else:\n",
    "    binary = binary +  str(int(False))\n",
    "    \n",
    "#print(\"3\", number, binary)\n",
    "    \n",
    "if (number >= 16):\n",
    "    binary = binary + str(int(True))\n",
    "    number = number - 16\n",
    "else:\n",
    "    binary = binary +  str(int(False))\n",
    "\n",
    "#print(\"4\", number, binary)\n",
    "    \n",
    "if (number >= 8):\n",
    "    binary = binary + str(int(True))\n",
    "    number = number - 8\n",
    "else:\n",
    "    binary = binary + str(int(False))\n",
    "    \n",
    "#print(\"5\", number, binary)\n",
    "\n",
    "if (number >= 4):\n",
    "    binary = binary + str(int(True))\n",
    "    number = number - 4\n",
    "else:\n",
    "    binary = binary + str(int(False))\n",
    "    \n",
    "#print(\"6\", number, binary)\n",
    "    \n",
    "if (number >= 2):\n",
    "    binary = binary + str(int(True))\n",
    "    number = number - 2\n",
    "else:\n",
    "    binary = binary + str(int(False))\n",
    "\n",
    "#print(\"7\", number, binary)\n",
    "    \n",
    "if (number >= 1):\n",
    "    binary = binary + str(int(True))\n",
    "    number = number - 1\n",
    "else:\n",
    "    binary = binary + str(int(False))\n",
    "\n",
    "#print(\"8\", number, binary)\n",
    "\n",
    "print(binary)"
   ]
  },
  {
   "cell_type": "code",
   "execution_count": 86,
   "metadata": {},
   "outputs": [
    {
     "name": "stdout",
     "output_type": "stream",
     "text": [
      "!!!lol!!!lol!!!lol!!!\n"
     ]
    }
   ],
   "source": [
    "message = \"lol\"\n",
    "punct = \"!\"\n",
    "num = 3\n",
    "\n",
    "#Using the values of message, punct, and num, print\n",
    "#a string that looks like the one below if message = \"lol\",\n",
    "#punct = \"!\", and num = 3:\n",
    "#\n",
    "# !!!lol!!!lol!!!lol!!!\n",
    "#\n",
    "#Specifically, it should start by printing punct num\n",
    "#times, then print message, repeat that entire process\n",
    "#num times, and then print punct num times again.\n",
    "#\n",
    "#Here are a couple other examples:\n",
    "#\n",
    "# message = \"bbl\", punct = \":\", num = 1 -> :bbl:\n",
    "# message = \"bbq\", punct = \"?\", num = 2 -> ??bbq??bbq??\n",
    "# message = \"brb\", punct = \".\", num = 4 -> ....brb....brb....brb....brb....\n",
    "\n",
    "\n",
    "#Add your code below!\n",
    "\n",
    "print((punct*num + message)*num + punct*num)"
   ]
  },
  {
   "cell_type": "code",
   "execution_count": 87,
   "metadata": {},
   "outputs": [
    {
     "name": "stdout",
     "output_type": "stream",
     "text": [
      "2222222222222222\n"
     ]
    }
   ],
   "source": [
    "num = 4\n",
    "\n",
    "#Write some code that calculates the square and the square root\n",
    "#of the number given above. Then, it should print the root the\n",
    "#square number of times. If the square root is a decimal,\n",
    "#round it down (you can do this by converting the decimal to\n",
    "#an integer: Python will automatically round it down).\n",
    "#\n",
    "#For example, if num is 4, then your code would print:\n",
    "#\n",
    "# 2222222222222222\n",
    "#\n",
    "#That's 2 16 times. 4 squared is 16, the square root of 4 is 2,\n",
    "#and so it prints 2 16 times.\n",
    "#\n",
    "#For another example: if num is 13, then 13 squared is 169, and\n",
    "#the square root of 13 is ~3.6. 3.6 rounds down to 3. So, it would\n",
    "#print 3 169 times.\n",
    "\n",
    "\n",
    "#Add your code here!\n",
    "\n",
    "square = num**2\n",
    "\n",
    "square_root = num**(1/2)\n",
    "\n",
    "print(str(int(square_root))*square)"
   ]
  },
  {
   "cell_type": "code",
   "execution_count": 88,
   "metadata": {},
   "outputs": [
    {
     "name": "stdout",
     "output_type": "stream",
     "text": [
      "False\n"
     ]
    }
   ],
   "source": [
    "current_hour = 12\n",
    "current_minute = 37\n",
    "current_section = \"PM\"\n",
    "due_hour = 9\n",
    "due_minute = 0\n",
    "due_section = \"AM\"\n",
    "\n",
    "#Given the current time and deadline time represented by the\n",
    "#variables above, determine if an assignment is still eligible\n",
    "#for submission. An assignment is eligible if the time\n",
    "#represented by current_hour, current_minute, and\n",
    "#current_section is before the time represented by due_hour,\n",
    "#due_minute, and due_section.\n",
    "\n",
    "\n",
    "#Add your code here!\n",
    "if current_hour == 12 and current_section == \"AM\":\n",
    "    current_hour = 0\n",
    "if due_hour == 12 and due_section == \"AM\":\n",
    "    due_hour = 0\n",
    "\n",
    "\n",
    "eligible = (current_section, current_hour,current_minute) <= (due_section, due_hour, due_minute)\n",
    "print(eligible)"
   ]
  },
  {
   "cell_type": "markdown",
   "metadata": {},
   "source": [
    "### Practice Test 2"
   ]
  },
  {
   "cell_type": "code",
   "execution_count": 1,
   "metadata": {},
   "outputs": [
    {
     "name": "stdout",
     "output_type": "stream",
     "text": [
      "4\n",
      "4\n",
      "2\n",
      "2\n"
     ]
    }
   ],
   "source": [
    "a = 3\n",
    "b = 4\n",
    "a = b\n",
    "c = a\n",
    "d = 2\n",
    "b = c\n",
    "c = d\n",
    "print(a)\n",
    "print(b)\n",
    "print(c)\n",
    "print(d)"
   ]
  },
  {
   "cell_type": "code",
   "execution_count": 2,
   "metadata": {},
   "outputs": [
    {
     "name": "stdout",
     "output_type": "stream",
     "text": [
      "3.1\n"
     ]
    }
   ],
   "source": [
    "print(str(3.1))"
   ]
  },
  {
   "cell_type": "code",
   "execution_count": 3,
   "metadata": {},
   "outputs": [
    {
     "ename": "ValueError",
     "evalue": "invalid literal for int() with base 10: '3.1'",
     "output_type": "error",
     "traceback": [
      "\u001b[1;31m---------------------------------------------------------------------------\u001b[0m",
      "\u001b[1;31mValueError\u001b[0m                                Traceback (most recent call last)",
      "\u001b[1;32m~\\AppData\\Local\\Temp\\ipykernel_1808\\4128545560.py\u001b[0m in \u001b[0;36m<module>\u001b[1;34m\u001b[0m\n\u001b[1;32m----> 1\u001b[1;33m \u001b[0mprint\u001b[0m\u001b[1;33m(\u001b[0m\u001b[0mint\u001b[0m\u001b[1;33m(\u001b[0m\u001b[1;34m\"3.1\"\u001b[0m\u001b[1;33m)\u001b[0m\u001b[1;33m)\u001b[0m\u001b[1;33m\u001b[0m\u001b[1;33m\u001b[0m\u001b[0m\n\u001b[0m",
      "\u001b[1;31mValueError\u001b[0m: invalid literal for int() with base 10: '3.1'"
     ]
    }
   ],
   "source": [
    "print(int(\"3.1\"))"
   ]
  },
  {
   "cell_type": "code",
   "execution_count": 4,
   "metadata": {},
   "outputs": [
    {
     "name": "stdout",
     "output_type": "stream",
     "text": [
      "3.0\n"
     ]
    }
   ],
   "source": [
    "print(float(\"3\"))"
   ]
  },
  {
   "cell_type": "code",
   "execution_count": 5,
   "metadata": {},
   "outputs": [
    {
     "name": "stdout",
     "output_type": "stream",
     "text": [
      "3\n"
     ]
    }
   ],
   "source": [
    "print(int(\"3\"))"
   ]
  },
  {
   "cell_type": "code",
   "execution_count": 6,
   "metadata": {},
   "outputs": [
    {
     "name": "stdout",
     "output_type": "stream",
     "text": [
      "3.1\n"
     ]
    }
   ],
   "source": [
    "print(float(\"3.1\"))"
   ]
  },
  {
   "cell_type": "code",
   "execution_count": 7,
   "metadata": {},
   "outputs": [
    {
     "name": "stdout",
     "output_type": "stream",
     "text": [
      "1\n"
     ]
    }
   ],
   "source": [
    "print(int(True))"
   ]
  },
  {
   "cell_type": "code",
   "execution_count": 8,
   "metadata": {},
   "outputs": [
    {
     "name": "stdout",
     "output_type": "stream",
     "text": [
      "False\n"
     ]
    }
   ],
   "source": [
    "print(bool(\"\"))"
   ]
  },
  {
   "cell_type": "code",
   "execution_count": 9,
   "metadata": {},
   "outputs": [
    {
     "name": "stdout",
     "output_type": "stream",
     "text": [
      "True\n"
     ]
    }
   ],
   "source": [
    "print(bool(3))"
   ]
  },
  {
   "cell_type": "code",
   "execution_count": 10,
   "metadata": {},
   "outputs": [
    {
     "data": {
      "text/plain": [
       "True"
      ]
     },
     "execution_count": 10,
     "metadata": {},
     "output_type": "execute_result"
    }
   ],
   "source": [
    "not (False or False)"
   ]
  },
  {
   "cell_type": "code",
   "execution_count": 11,
   "metadata": {},
   "outputs": [
    {
     "data": {
      "text/plain": [
       "True"
      ]
     },
     "execution_count": 11,
     "metadata": {},
     "output_type": "execute_result"
    }
   ],
   "source": [
    "not False and True"
   ]
  },
  {
   "cell_type": "code",
   "execution_count": 12,
   "metadata": {},
   "outputs": [
    {
     "data": {
      "text/plain": [
       "True"
      ]
     },
     "execution_count": 12,
     "metadata": {},
     "output_type": "execute_result"
    }
   ],
   "source": [
    "(True and not False) and not False"
   ]
  },
  {
   "cell_type": "code",
   "execution_count": 13,
   "metadata": {},
   "outputs": [
    {
     "data": {
      "text/plain": [
       "True"
      ]
     },
     "execution_count": 13,
     "metadata": {},
     "output_type": "execute_result"
    }
   ],
   "source": [
    "(False or True) and (False or True)"
   ]
  },
  {
   "cell_type": "code",
   "execution_count": 14,
   "metadata": {},
   "outputs": [
    {
     "data": {
      "text/plain": [
       "False"
      ]
     },
     "execution_count": 14,
     "metadata": {},
     "output_type": "execute_result"
    }
   ],
   "source": [
    "((True and (False and True)) and ((True or False) or (True and False))) and False"
   ]
  },
  {
   "cell_type": "code",
   "execution_count": 15,
   "metadata": {},
   "outputs": [
    {
     "data": {
      "text/plain": [
       "True"
      ]
     },
     "execution_count": 15,
     "metadata": {},
     "output_type": "execute_result"
    }
   ],
   "source": [
    "((not True or not False) or (not True and not False)) or ((True and False) and (True or False))"
   ]
  },
  {
   "cell_type": "code",
   "execution_count": 19,
   "metadata": {},
   "outputs": [
    {
     "name": "stdout",
     "output_type": "stream",
     "text": [
      "False\n",
      "True\n",
      "False\n",
      "True\n"
     ]
    }
   ],
   "source": [
    "is_rare = False\n",
    "is_strong = False\n",
    "is_tiny = True\n",
    "is_new = True\n",
    "\n",
    "print(is_rare and is_tiny)\n",
    "print(not (is_strong or is_rare))\n",
    "print((is_tiny or is_new) and is_strong)\n",
    "print(is_rare or (is_tiny and is_new))"
   ]
  },
  {
   "cell_type": "code",
   "execution_count": 20,
   "metadata": {},
   "outputs": [
    {
     "name": "stdout",
     "output_type": "stream",
     "text": [
      "False\n"
     ]
    }
   ],
   "source": [
    "is_strong = True\n",
    "is_fast = False\n",
    "is_shiny = False\n",
    "is_rare = False\n",
    "\n",
    "is_good = is_strong and is_fast\n",
    "is_interesting = is_shiny or is_rare\n",
    "is_wonderful = is_good and is_interesting\n",
    "\n",
    "print(is_wonderful)\n"
   ]
  },
  {
   "cell_type": "code",
   "execution_count": 21,
   "metadata": {},
   "outputs": [
    {
     "name": "stdout",
     "output_type": "stream",
     "text": [
      "False\n"
     ]
    }
   ],
   "source": [
    "is_strong = False\n",
    "is_fast = True\n",
    "is_shiny = True\n",
    "is_rare = True\n",
    "\n",
    "is_good = is_strong and is_fast\n",
    "is_interesting = is_shiny or is_rare\n",
    "is_wonderful = is_good and is_interesting\n",
    "\n",
    "print(is_wonderful)"
   ]
  },
  {
   "cell_type": "code",
   "execution_count": 29,
   "metadata": {},
   "outputs": [
    {
     "name": "stdout",
     "output_type": "stream",
     "text": [
      "False\n",
      "True\n",
      "False\n",
      "False\n",
      "False\n",
      "True\n",
      "False\n",
      "True\n"
     ]
    }
   ],
   "source": [
    "a = -1\n",
    "b = 3\n",
    "c = 2\n",
    "d = 3\n",
    "\n",
    "print(a >= c)\n",
    "print(a <= b)\n",
    "print((a == d) and (c <= b))\n",
    "print((a > d) or (c > d))\n",
    "print(a * 2 > d)\n",
    "print(a * b <= c)\n",
    "print((a / d) == (b / b))\n",
    "print(b * (a // c) < b)"
   ]
  },
  {
   "cell_type": "markdown",
   "metadata": {},
   "source": [
    "a < b and a == b # always false \n",
    "a < b or a >= b # always true\n",
    "a == b and a == c and (b > c or c > b) # always false"
   ]
  },
  {
   "cell_type": "code",
   "execution_count": 33,
   "metadata": {},
   "outputs": [
    {
     "name": "stdout",
     "output_type": "stream",
     "text": [
      "False\n",
      "True\n",
      "True\n",
      "True\n"
     ]
    }
   ],
   "source": [
    "# not (a and b)\n",
    "\n",
    "print(not (True and True)) \n",
    "print(not (True and False))\n",
    "print(not (False and True))\n",
    "print(not (False and False))"
   ]
  },
  {
   "cell_type": "code",
   "execution_count": 37,
   "metadata": {},
   "outputs": [
    {
     "name": "stdout",
     "output_type": "stream",
     "text": [
      "True\n",
      "True\n",
      "False\n",
      "True\n"
     ]
    }
   ],
   "source": [
    "# (A and B) or not C\n",
    "\n",
    "print((True and True) or not False)\n",
    "print((True and False) or not False)\n",
    "print((False and True) or not True)\n",
    "print((False and False) or not False)"
   ]
  },
  {
   "cell_type": "code",
   "execution_count": 41,
   "metadata": {},
   "outputs": [
    {
     "name": "stdout",
     "output_type": "stream",
     "text": [
      "False\n",
      "True\n",
      "True\n"
     ]
    }
   ],
   "source": [
    "# (A or B) and (A or C)\n",
    "\n",
    "print((False or False) and (False or True))\n",
    "print((True or True) and (True or False))\n",
    "print((False or True) and (False or True))"
   ]
  },
  {
   "cell_type": "code",
   "execution_count": 46,
   "metadata": {},
   "outputs": [
    {
     "name": "stdout",
     "output_type": "stream",
     "text": [
      "True\n",
      "False\n",
      "False\n",
      "False\n"
     ]
    }
   ],
   "source": [
    "# not A and (B or C)\n",
    "\n",
    "print(not False and (False or True)) \n",
    "print(not True and (False or True)) \n",
    "print(not True and (False or True)) \n",
    "print(not True and (True or True)) "
   ]
  },
  {
   "cell_type": "code",
   "execution_count": 47,
   "metadata": {},
   "outputs": [
    {
     "data": {
      "text/plain": [
       "15.0"
      ]
     },
     "execution_count": 47,
     "metadata": {},
     "output_type": "execute_result"
    }
   ],
   "source": [
    "12 + 6 / 2"
   ]
  },
  {
   "cell_type": "code",
   "execution_count": 48,
   "metadata": {},
   "outputs": [
    {
     "data": {
      "text/plain": [
       "5"
      ]
     },
     "execution_count": 48,
     "metadata": {},
     "output_type": "execute_result"
    }
   ],
   "source": [
    "17 % 6"
   ]
  },
  {
   "cell_type": "code",
   "execution_count": 49,
   "metadata": {},
   "outputs": [
    {
     "data": {
      "text/plain": [
       "11"
      ]
     },
     "execution_count": 49,
     "metadata": {},
     "output_type": "execute_result"
    }
   ],
   "source": [
    "2 + 3 * 3"
   ]
  },
  {
   "cell_type": "code",
   "execution_count": 50,
   "metadata": {},
   "outputs": [
    {
     "data": {
      "text/plain": [
       "8"
      ]
     },
     "execution_count": 50,
     "metadata": {},
     "output_type": "execute_result"
    }
   ],
   "source": [
    "2 ** (7 // 2)"
   ]
  },
  {
   "cell_type": "code",
   "execution_count": 51,
   "metadata": {},
   "outputs": [
    {
     "data": {
      "text/plain": [
       "True"
      ]
     },
     "execution_count": 51,
     "metadata": {},
     "output_type": "execute_result"
    }
   ],
   "source": [
    "False or 2 < 3"
   ]
  },
  {
   "cell_type": "code",
   "execution_count": 52,
   "metadata": {},
   "outputs": [
    {
     "ename": "SyntaxError",
     "evalue": "cannot assign to literal (4169627351.py, line 1)",
     "output_type": "error",
     "traceback": [
      "\u001b[1;36m  File \u001b[1;32m\"C:\\Users\\orgil\\AppData\\Local\\Temp\\ipykernel_1808\\4169627351.py\"\u001b[1;36m, line \u001b[1;32m1\u001b[0m\n\u001b[1;33m    9 = 4 + 5\u001b[0m\n\u001b[1;37m    ^\u001b[0m\n\u001b[1;31mSyntaxError\u001b[0m\u001b[1;31m:\u001b[0m cannot assign to literal\n"
     ]
    }
   ],
   "source": [
    "9 = 4 + 5"
   ]
  },
  {
   "cell_type": "code",
   "execution_count": 53,
   "metadata": {},
   "outputs": [
    {
     "ename": "TypeError",
     "evalue": "unsupported operand type(s) for +: 'float' and 'str'",
     "output_type": "error",
     "traceback": [
      "\u001b[1;31m---------------------------------------------------------------------------\u001b[0m",
      "\u001b[1;31mTypeError\u001b[0m                                 Traceback (most recent call last)",
      "\u001b[1;32m~\\AppData\\Local\\Temp\\ipykernel_1808\\520102049.py\u001b[0m in \u001b[0;36m<module>\u001b[1;34m\u001b[0m\n\u001b[1;32m----> 1\u001b[1;33m \u001b[1;36m0.3\u001b[0m \u001b[1;33m+\u001b[0m \u001b[1;34m\"0.5\"\u001b[0m\u001b[1;33m\u001b[0m\u001b[1;33m\u001b[0m\u001b[0m\n\u001b[0m",
      "\u001b[1;31mTypeError\u001b[0m: unsupported operand type(s) for +: 'float' and 'str'"
     ]
    }
   ],
   "source": [
    "0.3 + \"0.5\""
   ]
  },
  {
   "cell_type": "code",
   "execution_count": 54,
   "metadata": {},
   "outputs": [
    {
     "data": {
      "text/plain": [
       "'yesyesyes'"
      ]
     },
     "execution_count": 54,
     "metadata": {},
     "output_type": "execute_result"
    }
   ],
   "source": [
    "\"yes\" * 3"
   ]
  },
  {
   "cell_type": "code",
   "execution_count": 55,
   "metadata": {},
   "outputs": [
    {
     "data": {
      "text/plain": [
       "False"
      ]
     },
     "execution_count": 55,
     "metadata": {},
     "output_type": "execute_result"
    }
   ],
   "source": [
    "True and (5.0 < 5)"
   ]
  },
  {
   "cell_type": "code",
   "execution_count": 56,
   "metadata": {},
   "outputs": [
    {
     "data": {
      "text/plain": [
       "1.0"
      ]
     },
     "execution_count": 56,
     "metadata": {},
     "output_type": "execute_result"
    }
   ],
   "source": [
    "2 // 2.0"
   ]
  },
  {
   "cell_type": "code",
   "execution_count": 57,
   "metadata": {},
   "outputs": [
    {
     "data": {
      "text/plain": [
       "8"
      ]
     },
     "execution_count": 57,
     "metadata": {},
     "output_type": "execute_result"
    }
   ],
   "source": [
    "int(\"2\") ** 3"
   ]
  },
  {
   "cell_type": "code",
   "execution_count": 58,
   "metadata": {},
   "outputs": [
    {
     "data": {
      "text/plain": [
       "True"
      ]
     },
     "execution_count": 58,
     "metadata": {},
     "output_type": "execute_result"
    }
   ],
   "source": [
    "5 == 5 or 3 > 6"
   ]
  },
  {
   "cell_type": "code",
   "execution_count": 59,
   "metadata": {},
   "outputs": [
    {
     "ename": "TypeError",
     "evalue": "can't multiply sequence by non-int of type 'str'",
     "output_type": "error",
     "traceback": [
      "\u001b[1;31m---------------------------------------------------------------------------\u001b[0m",
      "\u001b[1;31mTypeError\u001b[0m                                 Traceback (most recent call last)",
      "\u001b[1;32m~\\AppData\\Local\\Temp\\ipykernel_1808\\30556934.py\u001b[0m in \u001b[0;36m<module>\u001b[1;34m\u001b[0m\n\u001b[1;32m----> 1\u001b[1;33m \u001b[1;34m\"yes\"\u001b[0m \u001b[1;33m*\u001b[0m \u001b[1;34m\"no\"\u001b[0m \u001b[1;33m+\u001b[0m \u001b[1;36m5\u001b[0m\u001b[1;33m\u001b[0m\u001b[1;33m\u001b[0m\u001b[0m\n\u001b[0m",
      "\u001b[1;31mTypeError\u001b[0m: can't multiply sequence by non-int of type 'str'"
     ]
    }
   ],
   "source": [
    "\"yes\" * \"no\" + 5"
   ]
  },
  {
   "cell_type": "code",
   "execution_count": 60,
   "metadata": {},
   "outputs": [
    {
     "data": {
      "text/plain": [
       "'xyyy'"
      ]
     },
     "execution_count": 60,
     "metadata": {},
     "output_type": "execute_result"
    }
   ],
   "source": [
    "'x' + 'y' * 3"
   ]
  },
  {
   "cell_type": "code",
   "execution_count": 61,
   "metadata": {},
   "outputs": [
    {
     "data": {
      "text/plain": [
       "0.0"
      ]
     },
     "execution_count": 61,
     "metadata": {},
     "output_type": "execute_result"
    }
   ],
   "source": [
    "0 / 5"
   ]
  },
  {
   "cell_type": "code",
   "execution_count": 62,
   "metadata": {},
   "outputs": [
    {
     "data": {
      "text/plain": [
       "'11'"
      ]
     },
     "execution_count": 62,
     "metadata": {},
     "output_type": "execute_result"
    }
   ],
   "source": [
    "\"1\" + \"1\""
   ]
  },
  {
   "cell_type": "code",
   "execution_count": 63,
   "metadata": {},
   "outputs": [
    {
     "name": "stdout",
     "output_type": "stream",
     "text": [
      "9.0\n"
     ]
    }
   ],
   "source": [
    "my_var = 2\n",
    "my_var = my_var - 3\n",
    "my_var = my_var + 7\n",
    "my_var = my_var / 2\n",
    "my_var = my_var ** 2\n",
    "print(my_var)"
   ]
  },
  {
   "cell_type": "code",
   "execution_count": 64,
   "metadata": {},
   "outputs": [
    {
     "name": "stdout",
     "output_type": "stream",
     "text": [
      "9.0\n"
     ]
    }
   ],
   "source": [
    "my_var = 2\n",
    "my_var -= 3\n",
    "my_var += 7\n",
    "my_var /= 2\n",
    "my_var **= 2\n",
    "print(my_var)"
   ]
  },
  {
   "cell_type": "code",
   "execution_count": 65,
   "metadata": {},
   "outputs": [
    {
     "name": "stdout",
     "output_type": "stream",
     "text": [
      "0\n",
      "0\n"
     ]
    }
   ],
   "source": [
    "my_var_1 = 7\n",
    "my_var_2 = 4\n",
    "my_var_1 //= my_var_2\n",
    "my_var_2 **= my_var_1\n",
    "my_var_2 %= my_var_1\n",
    "my_var_1 *= my_var_2\n",
    "print(my_var_1)\n",
    "print(my_var_2)"
   ]
  },
  {
   "cell_type": "code",
   "execution_count": 66,
   "metadata": {},
   "outputs": [
    {
     "name": "stdout",
     "output_type": "stream",
     "text": [
      "Your change is: 4.55\n"
     ]
    }
   ],
   "source": [
    "total = \"5.45\"\n",
    "cash = \"10.0\"\n",
    "\n",
    "#Imagine you're writing the code for a cash register. As part\n",
    "#of this, it will have a total price for a purchase, and an\n",
    "#amount of cash the buyer is paying. However, both of these\n",
    "#are represent as strings.\n",
    "#\n",
    "#Write some code that will find and print the change that the\n",
    "#customer is due. For example, if cash is 10.0 and total is\n",
    "#5.45, then the change would be 4.55.\n",
    "#\n",
    "#Then, print the result with a message like this: \"Your\n",
    "#change is: 4.55\". Do not include the quotes in your output.\n",
    "#You may assume total and cash will both be floats.\n",
    "\n",
    "\n",
    "#Add your code here!\n",
    "\n",
    "change = float(cash) - float(total)\n",
    "print(\"Your change is:\", str(change))"
   ]
  },
  {
   "cell_type": "code",
   "execution_count": 67,
   "metadata": {},
   "outputs": [
    {
     "name": "stdout",
     "output_type": "stream",
     "text": [
      "Coffee: True\n",
      "Hot Tea: False\n",
      "Smoothie: True\n",
      "Milkshake: False\n"
     ]
    }
   ],
   "source": [
    "hot = True\n",
    "cold = False\n",
    "morning = True\n",
    "evening = False\n",
    "night = False\n",
    "\n",
    "\n",
    "#Write a program that will recommend a beverage based on the\n",
    "#current weather and time of day. Specifically, the program\n",
    "#should recommend:\n",
    "#\n",
    "# - coffee if it's morning, or if it's cold and evening\n",
    "# - hot tea if it's cold and either evening or night\n",
    "# - smoothie if it's hot, no matter what time of day it is\n",
    "# - milkshake if it's hot and evening, or if it's night\n",
    "#   no matter the temperature\n",
    "#\n",
    "#Write some code below that will print four lines, one for\n",
    "#each of the four beverages. The lines should look like this:\n",
    "#\n",
    "#Coffee: True\n",
    "#Hot Tea: False\n",
    "#Smoothie: True\n",
    "#Milkshake: True\n",
    "#\n",
    "#The values (True and False) will differ based on the\n",
    "#values assigned to hot, cold, morning, evening, and night\n",
    "#at the start of the program.\n",
    "\n",
    "#Add your code here!\n",
    "\n",
    "print(\"Coffee:\", morning or (cold and evening))\n",
    "print(\"Hot Tea:\", cold and (evening or night))\n",
    "print(\"Smoothie:\", hot)\n",
    "print(\"Milkshake:\", (hot and evening) or night)"
   ]
  },
  {
   "cell_type": "code",
   "execution_count": 68,
   "metadata": {},
   "outputs": [
    {
     "name": "stdout",
     "output_type": "stream",
     "text": [
      "Lucy was born to Caitlin and David at January 2, 2015 at 11:12PM.\n"
     ]
    }
   ],
   "source": [
    "parent_1 = \"Caitlin\"\n",
    "parent_2 = \"David\"\n",
    "baby = \"Lucy\"\n",
    "month = \"January\"\n",
    "day = 2\n",
    "year = 2015\n",
    "time = \"11:12PM\"\n",
    "\n",
    "#The variables above give some information about a baby's birth:\n",
    "#the names of the parents, the name of the baby, and the month,\n",
    "#day, year, and time of the wedding.\n",
    "#\n",
    "#Add some code that will write the text to appear on a birth\n",
    "#announcement based on these values. For the values shown above,\n",
    "#this would read:\n",
    "#\n",
    "#Lucy was born to Caitlin and David at January 2, 2015 at 11:12PM.\n",
    "#\n",
    "#Note that all components of this statement are required: the\n",
    "#baby's name, \" was born to \", the first parent's name, \" and \",\n",
    "#the second parent's name,\" at \", the month, the day, a comma, the\n",
    "#year, \" at \", the time, and a period.\n",
    "#\n",
    "#HINT: Copy the sentence from above and replace the current values\n",
    "#(Caitlin, David, January, etc.) with variables to reduce the\n",
    "#risk of typoes throwing off your answers.\n",
    "\n",
    "\n",
    "#Add your code here!\n",
    "\n",
    "print(baby + \" was born to \" + parent_1 + \" and \" + parent_2 + \" at \" + month + \" \" + str(day) + \", \" + str(year) + \" at \" + time + \".\")"
   ]
  },
  {
   "cell_type": "code",
   "execution_count": 69,
   "metadata": {},
   "outputs": [
    {
     "name": "stdout",
     "output_type": "stream",
     "text": [
      "True\n"
     ]
    }
   ],
   "source": [
    "principal = 40000\n",
    "rate = 0.05\n",
    "years = 5\n",
    "goal = 50000\n",
    "\n",
    "#The variables above represent the current status of an\n",
    "#investment account. The variable principal represents the\n",
    "#initial value of the account. The variable rate represents\n",
    "#the interest rate. The variable years represents the number\n",
    "#of years the account will be allowed to grow.\n",
    "#\n",
    "#The variable goal represents the amount of money the investor\n",
    "#hopes to have saved up by the end of that time period.\n",
    "#\n",
    "#Add some code below that will calculate whether the\n",
    "#investment described by the values above will meet the given\n",
    "#goal. If it will, print True. If it will not, print False.\n",
    "#\n",
    "#The formula for the value of an account after a given time\n",
    "#(in number of years) is:\n",
    "#\n",
    "#  Current Value = principal * e ^ (rate * number of years)\n",
    "#\n",
    "#Because of the next line, you may use the variable e to\n",
    "#represent the value of e. For example, print(e * 2) would\n",
    "#print 5.43656365691809, which is double the value of e.\n",
    "from math import e\n",
    "\n",
    "#Add your code here!\n",
    "\n",
    "current_value = principal*e**(rate*years)\n",
    "print(current_value >= goal)"
   ]
  },
  {
   "cell_type": "code",
   "execution_count": 70,
   "metadata": {},
   "outputs": [
    {
     "name": "stdout",
     "output_type": "stream",
     "text": [
      "13\n"
     ]
    }
   ],
   "source": [
    "number = 1101\n",
    "\n",
    "#The number above represents a binary number. It will always\n",
    "#be up to eight digits, and all eight digits will always be\n",
    "#either 1 or 0.\n",
    "#\n",
    "#The string gives the binary representation of a number. In\n",
    "#binary, each digit of that string corresponds to a power of\n",
    "#2. The far left digit represents 128, then 64, then 32, then\n",
    "#16, then 8, then 4, then 2, and then finally 1 at the far right.\n",
    "#\n",
    "#So, to convert the number to a decimal number, you want to (for\n",
    "#example) add 128 to the total if the first digit is 1, 64 if the\n",
    "#second digit is 1, 32 if the third digit is 1, etc.\n",
    "#\n",
    "#For example, 00001101 is the number 13: there is a 0 in the 128s\n",
    "#place, 64s place, 32s place, 16s place, and 2s place. There are\n",
    "#1s in the 8s, 4s, and 1s place. 8 + 4 + 1 = 13.\n",
    "#\n",
    "#Note that although we use 'if' a lot to describe this problem,\n",
    "#this can be done entirely boolean logic and numerical comparisons.\n",
    "#\n",
    "#Print the number that results from this conversion.\n",
    "\n",
    "\n",
    "#Add your code here!\n",
    "num = str(number)\n",
    "\n",
    "def binaryToDecimal(n):\n",
    "    return int(n,2) # convert string to base 2 \n",
    "\n",
    "print(binaryToDecimal(num)) "
   ]
  },
  {
   "cell_type": "code",
   "execution_count": 71,
   "metadata": {},
   "outputs": [
    {
     "name": "stdout",
     "output_type": "stream",
     "text": [
      "lollollol!lollollol!lollollol\n"
     ]
    }
   ],
   "source": [
    "message = \"lol\"\n",
    "punct = \"!\"\n",
    "num = 3\n",
    "\n",
    "#Using the values of message, punct, and num, print\n",
    "#a string that looks like the one below if message = \"lol\",\n",
    "#punct = \"!\", and num = 3:\n",
    "#\n",
    "# lollollol!lollollol!lollollol\n",
    "#\n",
    "#Specifically, it should start by printing message num times,\n",
    "#then print punct. It should repeat that process num times,\n",
    "#with punct printed between each time (but not at the start or\n",
    "#end).\n",
    "#\n",
    "#Here are a couple other examples:\n",
    "#\n",
    "# message = \"bbq\", punct = \"?\", num = 2 -> bbqbbq?bbqbbq\n",
    "# message = \"bbl\", punct = \":\", num = 3 -> bblbblbbl:bblbblbbl:bblbblbbl\n",
    "# message = \"brb\", punct = \".\", num = 4 -> brbbrbbrbbrb.brbbrbbrbbrb.brbbrbbrbbrb.brbbrbbrbbrb\n",
    "\n",
    "\n",
    "#Add your code below!\n",
    "\n",
    "#for loop to print the pattern\n",
    "#print num - 1 times , num times message seperated by !\n",
    "\n",
    "statement = message*num\n",
    "total = (statement + punct)*(num-1) + statement\n",
    "print(total)"
   ]
  },
  {
   "cell_type": "code",
   "execution_count": 72,
   "metadata": {},
   "outputs": [
    {
     "name": "stdout",
     "output_type": "stream",
     "text": [
      "1616\n"
     ]
    }
   ],
   "source": [
    "num = 4\n",
    "\n",
    "#Write some code that calculates the square and the square root\n",
    "#of the number given above. Then, it should print the square the\n",
    "#square root number of times. If the square root is a decimal,\n",
    "#round it down (you can do this by converting the decimal to\n",
    "#an integer: Python will automatically round it down).\n",
    "#\n",
    "#For example, if num is 4, then your code would print:\n",
    "#\n",
    "# 1616\n",
    "#\n",
    "#That's 16 2 times. 4 squared is 16, the square root of 4 is 2,\n",
    "#and so it prints 16 2 times.\n",
    "#\n",
    "#For another example: if num is 13, then 13 squared is 169, and\n",
    "#the square root of 13 is ~3.6. 3.6 rounds down to 3. So, it would\n",
    "#print: 169169169, or 169 3 times.\n",
    "\n",
    "\n",
    "#Add your code here!\n",
    "\n",
    "square = num**2\n",
    "sqrt = num**(1/2)\n",
    "\n",
    "print(str(square)*int(sqrt))"
   ]
  },
  {
   "cell_type": "markdown",
   "metadata": {},
   "source": [
    "### Practice Test 3"
   ]
  },
  {
   "cell_type": "code",
   "execution_count": 73,
   "metadata": {},
   "outputs": [
    {
     "name": "stdout",
     "output_type": "stream",
     "text": [
      "3\n",
      "5\n",
      "3\n",
      "5\n"
     ]
    }
   ],
   "source": [
    "a = 1\n",
    "b = 3\n",
    "c = a\n",
    "a = b\n",
    "d = 5\n",
    "b = d\n",
    "c = a\n",
    "\n",
    "print(a)\n",
    "print(b)\n",
    "print(c)\n",
    "print(d)"
   ]
  },
  {
   "cell_type": "code",
   "execution_count": 75,
   "metadata": {},
   "outputs": [
    {
     "name": "stdout",
     "output_type": "stream",
     "text": [
      "1\n"
     ]
    }
   ],
   "source": [
    "print(int(\"1\"))"
   ]
  },
  {
   "cell_type": "code",
   "execution_count": 76,
   "metadata": {},
   "outputs": [
    {
     "name": "stdout",
     "output_type": "stream",
     "text": [
      "1.0\n"
     ]
    }
   ],
   "source": [
    "print(float(\"1\"))"
   ]
  },
  {
   "cell_type": "code",
   "execution_count": 77,
   "metadata": {},
   "outputs": [
    {
     "ename": "ValueError",
     "evalue": "invalid literal for int() with base 10: '1.4'",
     "output_type": "error",
     "traceback": [
      "\u001b[1;31m---------------------------------------------------------------------------\u001b[0m",
      "\u001b[1;31mValueError\u001b[0m                                Traceback (most recent call last)",
      "\u001b[1;32m~\\AppData\\Local\\Temp\\ipykernel_1808\\2223022832.py\u001b[0m in \u001b[0;36m<module>\u001b[1;34m\u001b[0m\n\u001b[1;32m----> 1\u001b[1;33m \u001b[0mprint\u001b[0m\u001b[1;33m(\u001b[0m\u001b[0mint\u001b[0m\u001b[1;33m(\u001b[0m\u001b[1;34m\"1.4\"\u001b[0m\u001b[1;33m)\u001b[0m\u001b[1;33m)\u001b[0m\u001b[1;33m\u001b[0m\u001b[1;33m\u001b[0m\u001b[0m\n\u001b[0m",
      "\u001b[1;31mValueError\u001b[0m: invalid literal for int() with base 10: '1.4'"
     ]
    }
   ],
   "source": [
    "print(int(\"1.4\"))"
   ]
  },
  {
   "cell_type": "code",
   "execution_count": 78,
   "metadata": {},
   "outputs": [
    {
     "name": "stdout",
     "output_type": "stream",
     "text": [
      "1.4\n"
     ]
    }
   ],
   "source": [
    "print(float(\"1.4\"))"
   ]
  },
  {
   "cell_type": "code",
   "execution_count": 79,
   "metadata": {},
   "outputs": [
    {
     "name": "stdout",
     "output_type": "stream",
     "text": [
      "1.4\n"
     ]
    }
   ],
   "source": [
    "print(str(1.4))"
   ]
  },
  {
   "cell_type": "code",
   "execution_count": 80,
   "metadata": {},
   "outputs": [
    {
     "name": "stdout",
     "output_type": "stream",
     "text": [
      "True\n"
     ]
    }
   ],
   "source": [
    "print(bool(1))"
   ]
  },
  {
   "cell_type": "code",
   "execution_count": 81,
   "metadata": {},
   "outputs": [
    {
     "name": "stdout",
     "output_type": "stream",
     "text": [
      "False\n"
     ]
    }
   ],
   "source": [
    "print(bool(\"\"))"
   ]
  },
  {
   "cell_type": "code",
   "execution_count": 82,
   "metadata": {},
   "outputs": [
    {
     "name": "stdout",
     "output_type": "stream",
     "text": [
      "1.0\n"
     ]
    }
   ],
   "source": [
    "print(float(True))"
   ]
  },
  {
   "cell_type": "code",
   "execution_count": 83,
   "metadata": {},
   "outputs": [
    {
     "data": {
      "text/plain": [
       "False"
      ]
     },
     "execution_count": 83,
     "metadata": {},
     "output_type": "execute_result"
    }
   ],
   "source": [
    "not (False or True)"
   ]
  },
  {
   "cell_type": "code",
   "execution_count": 84,
   "metadata": {},
   "outputs": [
    {
     "data": {
      "text/plain": [
       "False"
      ]
     },
     "execution_count": 84,
     "metadata": {},
     "output_type": "execute_result"
    }
   ],
   "source": [
    "False and not True"
   ]
  },
  {
   "cell_type": "code",
   "execution_count": 85,
   "metadata": {},
   "outputs": [
    {
     "data": {
      "text/plain": [
       "True"
      ]
     },
     "execution_count": 85,
     "metadata": {},
     "output_type": "execute_result"
    }
   ],
   "source": [
    "(True or False) or not False\n"
   ]
  },
  {
   "cell_type": "code",
   "execution_count": 86,
   "metadata": {},
   "outputs": [
    {
     "data": {
      "text/plain": [
       "False"
      ]
     },
     "execution_count": 86,
     "metadata": {},
     "output_type": "execute_result"
    }
   ],
   "source": [
    "(False or True) and (False and True)"
   ]
  },
  {
   "cell_type": "code",
   "execution_count": 87,
   "metadata": {},
   "outputs": [
    {
     "data": {
      "text/plain": [
       "True"
      ]
     },
     "execution_count": 87,
     "metadata": {},
     "output_type": "execute_result"
    }
   ],
   "source": [
    "((True and (False and True)) and ((True or False) or (True and False))) or True"
   ]
  },
  {
   "cell_type": "code",
   "execution_count": 88,
   "metadata": {},
   "outputs": [
    {
     "data": {
      "text/plain": [
       "True"
      ]
     },
     "execution_count": 88,
     "metadata": {},
     "output_type": "execute_result"
    }
   ],
   "source": [
    "((not True or not False) or (not True and not False)) and ((True and False) or (True or False))"
   ]
  },
  {
   "cell_type": "code",
   "execution_count": 92,
   "metadata": {},
   "outputs": [
    {
     "name": "stdout",
     "output_type": "stream",
     "text": [
      "True\n",
      "False\n",
      "False\n",
      "True\n"
     ]
    }
   ],
   "source": [
    "is_rare = True\n",
    "is_strong = False\n",
    "is_tiny = True\n",
    "is_new = False\n",
    "\n",
    "print(is_rare and is_tiny)\n",
    "print(not (is_strong or is_rare))\n",
    "print((is_tiny or is_new) and is_strong)\n",
    "print(is_rare or (is_tiny and is_new))\n"
   ]
  },
  {
   "cell_type": "code",
   "execution_count": 93,
   "metadata": {},
   "outputs": [
    {
     "name": "stdout",
     "output_type": "stream",
     "text": [
      "False\n"
     ]
    }
   ],
   "source": [
    "is_strong = True\n",
    "is_fast = False\n",
    "is_shiny = False\n",
    "is_rare = True\n",
    "is_good = is_strong and is_fast\n",
    "is_interesting = is_shiny or is_rare\n",
    "is_wonderful = is_good and is_interesting\n",
    "\n",
    "print(is_wonderful)"
   ]
  },
  {
   "cell_type": "code",
   "execution_count": 94,
   "metadata": {},
   "outputs": [
    {
     "name": "stdout",
     "output_type": "stream",
     "text": [
      "False\n"
     ]
    }
   ],
   "source": [
    "is_strong = True\n",
    "is_fast = True\n",
    "is_shiny = False\n",
    "is_rare = False\n",
    "is_good = is_strong and is_fast\n",
    "is_interesting = is_shiny or is_rare\n",
    "is_wonderful = is_good and is_interesting\n",
    "\n",
    "print(is_wonderful)"
   ]
  },
  {
   "cell_type": "code",
   "execution_count": 102,
   "metadata": {},
   "outputs": [
    {
     "name": "stdout",
     "output_type": "stream",
     "text": [
      "True\n",
      "False\n",
      "False\n",
      "False\n",
      "True\n",
      "True\n",
      "True\n",
      "False\n"
     ]
    }
   ],
   "source": [
    "a = 5\n",
    "b = -1\n",
    "c = 4\n",
    "d = 5\n",
    "print(a>=c)\n",
    "print(a <= b)\n",
    "print((a == d) and (c <= b))\n",
    "print((a > d) or (c > d))\n",
    "print(a * 2 > d)\n",
    "print(a * b <= c)\n",
    "print((a / d) == (b / b))\n",
    "print(b * (a // c) < b)"
   ]
  },
  {
   "cell_type": "code",
   "execution_count": 106,
   "metadata": {},
   "outputs": [
    {
     "name": "stdout",
     "output_type": "stream",
     "text": [
      "False\n",
      "True\n",
      "False\n",
      "False\n"
     ]
    }
   ],
   "source": [
    "# A and not B\n",
    "\n",
    "print(True and not True)\n",
    "print(True and not False)\n",
    "print(False and not True)\n",
    "print(False and not False)"
   ]
  },
  {
   "cell_type": "code",
   "execution_count": 112,
   "metadata": {},
   "outputs": [
    {
     "name": "stdout",
     "output_type": "stream",
     "text": [
      "True\n",
      "False\n",
      "True\n",
      "False\n"
     ]
    }
   ],
   "source": [
    "# (A and B) or C\n",
    "\n",
    "print((True and True) or False)\n",
    "print((True and False) or False)\n",
    "print((False and True) or True)\n",
    "print((False and False) or False)"
   ]
  },
  {
   "cell_type": "code",
   "execution_count": 117,
   "metadata": {},
   "outputs": [
    {
     "name": "stdout",
     "output_type": "stream",
     "text": [
      "False\n",
      "False\n",
      "True\n",
      "True\n"
     ]
    }
   ],
   "source": [
    "# (A or B) and (A or C)\n",
    "\n",
    "print((False or True) and (False or False))\n",
    "print((False or False) and (False or False))\n",
    "print((True or True) and (True or False))\n",
    "print((False or True) and (False or True))"
   ]
  },
  {
   "cell_type": "code",
   "execution_count": 124,
   "metadata": {},
   "outputs": [
    {
     "name": "stdout",
     "output_type": "stream",
     "text": [
      "False\n",
      "False\n",
      "True\n",
      "False\n"
     ]
    }
   ],
   "source": [
    "# not A and (B or C)\n",
    "\n",
    "print(not True and (False or True))\n",
    "print(not False and (False or False))\n",
    "print(not False and (True or False))\n",
    "print(not True and (False or True))"
   ]
  },
  {
   "cell_type": "code",
   "execution_count": 125,
   "metadata": {},
   "outputs": [
    {
     "data": {
      "text/plain": [
       "2"
      ]
     },
     "execution_count": 125,
     "metadata": {},
     "output_type": "execute_result"
    }
   ],
   "source": [
    "11 % 3"
   ]
  },
  {
   "cell_type": "code",
   "execution_count": 126,
   "metadata": {},
   "outputs": [
    {
     "data": {
      "text/plain": [
       "12"
      ]
     },
     "execution_count": 126,
     "metadata": {},
     "output_type": "execute_result"
    }
   ],
   "source": [
    "2 * 5 + 2"
   ]
  },
  {
   "cell_type": "code",
   "execution_count": 127,
   "metadata": {},
   "outputs": [
    {
     "data": {
      "text/plain": [
       "2"
      ]
     },
     "execution_count": 127,
     "metadata": {},
     "output_type": "execute_result"
    }
   ],
   "source": [
    "2 ** (3 // 2)"
   ]
  },
  {
   "cell_type": "code",
   "execution_count": 128,
   "metadata": {},
   "outputs": [
    {
     "ename": "SyntaxError",
     "evalue": "cannot assign to operator (2901645823.py, line 1)",
     "output_type": "error",
     "traceback": [
      "\u001b[1;36m  File \u001b[1;32m\"C:\\Users\\orgil\\AppData\\Local\\Temp\\ipykernel_1808\\2901645823.py\"\u001b[1;36m, line \u001b[1;32m1\u001b[0m\n\u001b[1;33m    2 + 7 = 9\u001b[0m\n\u001b[1;37m    ^\u001b[0m\n\u001b[1;31mSyntaxError\u001b[0m\u001b[1;31m:\u001b[0m cannot assign to operator\n"
     ]
    }
   ],
   "source": [
    "2 + 7 = 9"
   ]
  },
  {
   "cell_type": "code",
   "execution_count": 129,
   "metadata": {},
   "outputs": [
    {
     "data": {
      "text/plain": [
       "True"
      ]
     },
     "execution_count": 129,
     "metadata": {},
     "output_type": "execute_result"
    }
   ],
   "source": [
    "9 == 2 + 7"
   ]
  },
  {
   "cell_type": "code",
   "execution_count": 130,
   "metadata": {},
   "outputs": [
    {
     "data": {
      "text/plain": [
       "8.0"
      ]
     },
     "execution_count": 130,
     "metadata": {},
     "output_type": "execute_result"
    }
   ],
   "source": [
    "6 / 3 + 6"
   ]
  },
  {
   "cell_type": "code",
   "execution_count": 131,
   "metadata": {},
   "outputs": [
    {
     "ename": "TypeError",
     "evalue": "can only concatenate str (not \"int\") to str",
     "output_type": "error",
     "traceback": [
      "\u001b[1;31m---------------------------------------------------------------------------\u001b[0m",
      "\u001b[1;31mTypeError\u001b[0m                                 Traceback (most recent call last)",
      "\u001b[1;32m~\\AppData\\Local\\Temp\\ipykernel_1808\\1810798512.py\u001b[0m in \u001b[0;36m<module>\u001b[1;34m\u001b[0m\n\u001b[1;32m----> 1\u001b[1;33m \u001b[1;34m\"1.0\"\u001b[0m \u001b[1;33m+\u001b[0m \u001b[1;36m1\u001b[0m\u001b[1;33m\u001b[0m\u001b[1;33m\u001b[0m\u001b[0m\n\u001b[0m",
      "\u001b[1;31mTypeError\u001b[0m: can only concatenate str (not \"int\") to str"
     ]
    }
   ],
   "source": [
    "\"1.0\" + 1"
   ]
  },
  {
   "cell_type": "code",
   "execution_count": 132,
   "metadata": {},
   "outputs": [
    {
     "data": {
      "text/plain": [
       "5.0"
      ]
     },
     "execution_count": 132,
     "metadata": {},
     "output_type": "execute_result"
    }
   ],
   "source": [
    "10 / 2"
   ]
  },
  {
   "cell_type": "code",
   "execution_count": 133,
   "metadata": {},
   "outputs": [
    {
     "data": {
      "text/plain": [
       "0.0"
      ]
     },
     "execution_count": 133,
     "metadata": {},
     "output_type": "execute_result"
    }
   ],
   "source": [
    "5.0 // 10"
   ]
  },
  {
   "cell_type": "code",
   "execution_count": 134,
   "metadata": {},
   "outputs": [
    {
     "data": {
      "text/plain": [
       "2.0"
      ]
     },
     "execution_count": 134,
     "metadata": {},
     "output_type": "execute_result"
    }
   ],
   "source": [
    "10 // 5.0"
   ]
  },
  {
   "cell_type": "code",
   "execution_count": 135,
   "metadata": {},
   "outputs": [
    {
     "data": {
      "text/plain": [
       "True"
      ]
     },
     "execution_count": 135,
     "metadata": {},
     "output_type": "execute_result"
    }
   ],
   "source": [
    "True or (1 < 1) or (1.0 < 1) or (1 < 1.0)"
   ]
  },
  {
   "cell_type": "code",
   "execution_count": 136,
   "metadata": {},
   "outputs": [
    {
     "data": {
      "text/plain": [
       "100.0"
      ]
     },
     "execution_count": 136,
     "metadata": {},
     "output_type": "execute_result"
    }
   ],
   "source": [
    "float(\"10\") ** 2"
   ]
  },
  {
   "cell_type": "code",
   "execution_count": 137,
   "metadata": {},
   "outputs": [
    {
     "data": {
      "text/plain": [
       "'22'"
      ]
     },
     "execution_count": 137,
     "metadata": {},
     "output_type": "execute_result"
    }
   ],
   "source": [
    "\"2\" + \"2\""
   ]
  },
  {
   "cell_type": "code",
   "execution_count": 138,
   "metadata": {},
   "outputs": [
    {
     "data": {
      "text/plain": [
       "'GTGTGTGTGT'"
      ]
     },
     "execution_count": 138,
     "metadata": {},
     "output_type": "execute_result"
    }
   ],
   "source": [
    "\"GT\" * 5"
   ]
  },
  {
   "cell_type": "code",
   "execution_count": 139,
   "metadata": {},
   "outputs": [
    {
     "data": {
      "text/plain": [
       "'abcxyzxyz'"
      ]
     },
     "execution_count": 139,
     "metadata": {},
     "output_type": "execute_result"
    }
   ],
   "source": [
    "\"abc\" + 2 * \"xyz\""
   ]
  },
  {
   "cell_type": "code",
   "execution_count": 140,
   "metadata": {},
   "outputs": [
    {
     "data": {
      "text/plain": [
       "'qqqzz'"
      ]
     },
     "execution_count": 140,
     "metadata": {},
     "output_type": "execute_result"
    }
   ],
   "source": [
    "\"q\" * 3 + 2 * \"z\""
   ]
  },
  {
   "cell_type": "code",
   "execution_count": 141,
   "metadata": {},
   "outputs": [
    {
     "name": "stdout",
     "output_type": "stream",
     "text": [
      "1\n"
     ]
    }
   ],
   "source": [
    "my_var = 10\n",
    "my_var = my_var // 2\n",
    "my_var = my_var ** 2\n",
    "my_var = my_var * 2\n",
    "my_var = my_var + 17\n",
    "my_var = my_var - 11\n",
    "my_var = my_var % 5\n",
    "print(my_var)"
   ]
  },
  {
   "cell_type": "code",
   "execution_count": 142,
   "metadata": {},
   "outputs": [
    {
     "name": "stdout",
     "output_type": "stream",
     "text": [
      "1\n"
     ]
    }
   ],
   "source": [
    "my_var = 10\n",
    "my_var //= 2\n",
    "my_var **= 2\n",
    "my_var *= 2\n",
    "my_var += 17\n",
    "my_var -= 11\n",
    "my_var %= 5\n",
    "print(my_var)"
   ]
  },
  {
   "cell_type": "code",
   "execution_count": 143,
   "metadata": {},
   "outputs": [
    {
     "name": "stdout",
     "output_type": "stream",
     "text": [
      "25\n",
      "75\n"
     ]
    }
   ],
   "source": [
    "my_var_1 = 5\n",
    "my_var_2 = 2\n",
    "my_var_1 **= my_var_2\n",
    "my_var_2 *= my_var_1\n",
    "my_var_1 %= my_var_2\n",
    "my_var_2 += my_var_1\n",
    "print(my_var_1)\n",
    "print(my_var_2)"
   ]
  },
  {
   "cell_type": "code",
   "execution_count": 144,
   "metadata": {},
   "outputs": [
    {
     "name": "stdout",
     "output_type": "stream",
     "text": [
      "Your total is $6 and you donated $0.55\n"
     ]
    }
   ],
   "source": [
    "original_total = \"5.45\"\n",
    "donation = \"0.55\"\n",
    "\n",
    "#Imagine you're writing code for the cash register of a\n",
    "#fast casual restaurant. For this restaurant, customers have\n",
    "#the option to round up their total and donate the extra to\n",
    "#charity. For example, if a customer's total was $5.45, they\n",
    "#could round up to $6.00, and donate the extra $0.55 to\n",
    "#charity.\n",
    "#\n",
    "#The variables original_total and donation represent these\n",
    "#values; you may assume they will always add to a whole integer.\n",
    "#Due to an error by another programmer, though, they are initially\n",
    "#given to you as strings rather than floats.\n",
    "#\n",
    "#Write some code that will print the customer's total and\n",
    "#how much they donated. This sentence should read as follows:\n",
    "#\n",
    "# Your total is $6 and you donated $0.55\n",
    "#\n",
    "#Note that because we always round up to a full dollar,\n",
    "#the total should be printed as an integer. Make sure the\n",
    "#dollar signs are in the right place, with no spaces following\n",
    "#the dollar signs.\n",
    "\n",
    "\n",
    "#Add your code here!\n",
    "\n",
    "print(\"Your total is $\" + str(int(float(original_total) + float(donation))) + \" and you donated $\" + donation)"
   ]
  },
  {
   "cell_type": "code",
   "execution_count": 145,
   "metadata": {},
   "outputs": [
    {
     "name": "stdout",
     "output_type": "stream",
     "text": [
      "Beach: False\n",
      "Lake: True\n",
      "Park: True\n",
      "Home: False\n"
     ]
    }
   ],
   "source": [
    "is_weekend = True\n",
    "is_holiday = False\n",
    "is_rainy = False\n",
    "\n",
    "#Write a program that will determine what kind of plans you\n",
    "#could make based on what kind of day it is and what the\n",
    "#weather is like.\n",
    "#\n",
    "#You have three variables to use in these decisions:\n",
    "#\n",
    "# - is_weekend, whether it's a weekend day\n",
    "# - is_holiday, whether it's a holiday\n",
    "# - is_rainy, whether it's going to be raining\n",
    "#\n",
    "#Your four options are:\n",
    "#\n",
    "# - Beach, if it's both a holiday and a weekend as long as\n",
    "#   it's _not_ raining. If it's raining, the beach is not\n",
    "#   an option.\n",
    "# - Lake, if it's a weekend and not raining. It doesn't\n",
    "#   matter if it's a holiday or not.\n",
    "# - Park, if it's not raining. It doesn't matter whether\n",
    "#   it's a weekend or holiday.\n",
    "# - Home, if it's raining, or if it's neither a weekend\n",
    "#   nor a holiday.\n",
    "#\n",
    "#In other words: the Beach is an option on holiday weekends\n",
    "#when the weather is good. The Lake is an option on regular\n",
    "#weekends when the weather is good. The Park is an option\n",
    "#any time the weather is good. Home is an option if it's\n",
    "#raining, or if it's not a weekday that isn't a holiday.\n",
    "\n",
    "#\n",
    "#Print your results like this, based on whether each is\n",
    "#an option according to the logic above:\n",
    "#\n",
    "# - Beach: False\n",
    "# - Lake: True\n",
    "# - Park: True\n",
    "# - Home: False\n",
    "\n",
    "\n",
    "#Add your code here!\n",
    "\n",
    "print(\"Beach:\", is_holiday and is_weekend and not is_rainy)\n",
    "print(\"Lake:\", is_weekend and not is_rainy)\n",
    "print(\"Park:\", not is_rainy)\n",
    "print(\"Home:\", is_rainy or not (is_holiday or is_weekend))"
   ]
  },
  {
   "cell_type": "code",
   "execution_count": 146,
   "metadata": {},
   "outputs": [
    {
     "name": "stdout",
     "output_type": "stream",
     "text": [
      "You should submit Assignment 1 by Friday, September 13 at 5PM.\n"
     ]
    }
   ],
   "source": [
    "assignment_num = 1\n",
    "day = \"Friday\"\n",
    "month = \"September\"\n",
    "date = 13\n",
    "time = \"5PM\"\n",
    "\n",
    "#At the beginning of each week, we try to post an announcement\n",
    "#outlining everything you need to do during the week. Let's\n",
    "#see if we could parameterize that.\n",
    "#\n",
    "#The variables above -- assignment_num, day, month, date, and\n",
    "#time -- give various values about when an assignment is due.\n",
    "#Using these values you should print a sentence like this:\n",
    "#\n",
    "# You should submit Assignment 1 by Friday, September 13 at 5PM.\n",
    "#\n",
    "#The general form would be:\n",
    "# You should submit Assignment [assignment_num] by [day], [month] [date] at [time].\n",
    "#\n",
    "#Make sure the punctuation and spaces are all exactly as written.\n",
    "#There should be spaces before and after the assignment number,\n",
    "#a comma and space after the day of the week, and a period\n",
    "#after the time.\n",
    "\n",
    "\n",
    "#Add your code here!\n",
    "\n",
    "print(\"You should submit Assignment \" + str(assignment_num) + \" by \" + day  + \", \" + month + \" \" + str(date) + \" at \" + time + \".\")"
   ]
  },
  {
   "cell_type": "code",
   "execution_count": 147,
   "metadata": {},
   "outputs": [
    {
     "name": "stdout",
     "output_type": "stream",
     "text": [
      "False\n"
     ]
    }
   ],
   "source": [
    "value = 100\n",
    "quantity = 5\n",
    "interest = 0.02\n",
    "dividend = 1.05\n",
    "dividend_frequency = 4\n",
    "years = 10\n",
    "goal = 250\n",
    "\n",
    "#You may modify the lines of code above, but don't move them!\n",
    "#When you Submit your code, we'll change these lines to\n",
    "#assign different values to the variables.\n",
    "\n",
    "#Typically when you purchase a stock on the stock market, you\n",
    "#do so with the hope that it will increase in value, and you\n",
    "#can then sell it for a profit.\n",
    "#\n",
    "#Some stocks also pay dividends. A dividend is a small amount\n",
    "#of money that a stock pays its owners on a regular interval.\n",
    "#For example, if a stock pays a $1.05 dividend 4 times a year,\n",
    "#then for each share of the stock you own, you would receive\n",
    "#$4.20 per year.\n",
    "#\n",
    "#The variables above give a number of parameters for a\n",
    "#particular stock purchase you are considering:\n",
    "#\n",
    "# - value, the current value of the stock\n",
    "# - quantity, the number of shares you may buy\n",
    "# - interest, the estimated yearly interest rate it will earn\n",
    "# - dividend, the predicted value of the dividend it will pay\n",
    "# - dividend_frequency, the predicted frequency with which it\n",
    "#   will pay that dividend\n",
    "# - years, the number of years you plan to hold the stock\n",
    "# - goal, the amount of money you want to earn from the\n",
    "#   investment\n",
    "#\n",
    "#Your goal is to print True if this investment will meet your\n",
    "#savings goal, and False if it will not. In other words, if\n",
    "#the total amount of money you will earn from the stock --\n",
    "#including its initial value, interest, and dividends -- is\n",
    "#greater than goal, you print True. Otherwise, you print False.\n",
    "#\n",
    "#You can find the total amount of money generated by dividends\n",
    "#by multiplying the dividend by its yearly frequency by the\n",
    "#number of years.\n",
    "#\n",
    "#The formula for the current value of an investment based on\n",
    "#its initial value, its interest rate, and its years of investment\n",
    "#is:\n",
    "#\n",
    "# new value = initial value * e ^ (interest rate * number of years)\n",
    "#\n",
    "#The variable interest can be put directly into this formula (you\n",
    "#do not need to add 1). The following line of code will let you use\n",
    "#the variable e in your code for e:\n",
    "from math import e\n",
    "\n",
    "#Remember, your only goal is to print True if you should buy the\n",
    "#stock, False if you should not. Using the initial values of the\n",
    "#variables above, this would initially print False: the total\n",
    "#value would be around $164, well short of the goal of $250.\n",
    "\n",
    "\n",
    "#Add your code here!\n",
    "\n",
    "new_value = value*e**(interest*years)\n",
    "generated = dividend*dividend_frequency*years\n",
    "print(new_value + generated >= goal)"
   ]
  },
  {
   "cell_type": "code",
   "execution_count": 148,
   "metadata": {},
   "outputs": [
    {
     "name": "stdout",
     "output_type": "stream",
     "text": [
      "Packs of 60: 1\n",
      "Packs of 12: 4\n",
      "Packs of 3: 3\n",
      "Packs of 1: 2\n"
     ]
    }
   ],
   "source": [
    "donuts = 119\n",
    "\n",
    "#A donut shop sells donuts in four sizes: packs of 60 donuts,\n",
    "#packs of 12 donuts, packs of 3 donuts, and individual donuts.\n",
    "#\n",
    "#To divide donuts into packs, they start by making as many of\n",
    "#the largest pack as they can. Then, they make as many of the\n",
    "#next largest pack, then the next pack, then finally they sell\n",
    "#the remaining donuts individually. For example, if they baked\n",
    "#119 donuts, then they would divide those donuts into one\n",
    "#pack of 60, four packs of 12, three packs of 3, and 2\n",
    "#individual donuts.\n",
    "#\n",
    "#Based on the variable donuts above, calculate how many of\n",
    "#each size they will make. Print the results according to\n",
    "#this template:\n",
    "#\n",
    "#Packs of 60: 1\n",
    "#Packs of 12: 4\n",
    "#Packs of 3: 3\n",
    "#Packs of 1: 2\n",
    "\n",
    "#Add your code here!\n",
    "sixty = donuts // 60\n",
    "donuts = donuts - 60*(donuts // 60)\n",
    "\n",
    "twelve = donuts // 12\n",
    "donuts = donuts - 12*(donuts // 12)\n",
    "\n",
    "three = donuts // 3\n",
    "donuts = donuts - 3*(donuts // 3)\n",
    "\n",
    "one = donuts // 1\n",
    "donuts = donuts - 1*(donuts // 1)\n",
    "\n",
    "print(\"Packs of 60:\", sixty)\n",
    "print(\"Packs of 12:\", twelve)\n",
    "print(\"Packs of 3:\", three)\n",
    "print(\"Packs of 1:\", one)\n",
    "\n"
   ]
  },
  {
   "cell_type": "code",
   "execution_count": 149,
   "metadata": {},
   "outputs": [
    {
     "name": "stdout",
     "output_type": "stream",
     "text": [
      "112223333444445112223333444445112223333444445\n"
     ]
    }
   ],
   "source": [
    "num_a = 1\n",
    "num_b = 2\n",
    "num_c = 3\n",
    "num_d = 4\n",
    "num_e = 5\n",
    "num_z = 3\n",
    "\n",
    "#It's been said that the most confusing WiFi password you can\n",
    "#have is: 2444666668888888, because you can read it as: one 2,\n",
    "#three 4s, five 6s, seven 8s. Whisper the 's' and the listener\n",
    "#will think it's just 12345678.\n",
    "#\n",
    "#Write a program that will generate a bad password according to\n",
    "#a similar formula. Specifically, the variables above -- num_a,\n",
    "#num_b, num_c, num_d, and num_e -- give you 5 integers. Your\n",
    "#password should be: num_a num_b times, num_b num_c times,\n",
    "#num_c num_d times, num_d num_e times, and num_e num_a times, in\n",
    "#that order. Then, the entire password should repeat num_z times.\n",
    "#\n",
    "#So, for the initial values of num_a through num_e, this would\n",
    "#be:\n",
    "#\n",
    "# 112223333444445112223333444445112223333444445\n",
    "#\n",
    "#That is, 1 two times, 2 three times, 3 four times, 4 five times,\n",
    "#and 5 one time, all then repeated 3 times.\n",
    "#\n",
    "#You may assume all numbers will be between 0 and 9. Note, though,\n",
    "#that if a number is 0, that means the preceding number will\n",
    "#not actually appear. Moreover, if num_z is 0, the result string\n",
    "#should be empty.\n",
    "\n",
    "#Add your code below!\n",
    "\n",
    "password = (str(num_a)*num_b + str(num_b)*num_c + str(num_c)*num_d + str(num_d)*num_e + str(num_e)*num_a)*num_z\n",
    "print(password)"
   ]
  },
  {
   "cell_type": "code",
   "execution_count": 150,
   "metadata": {},
   "outputs": [
    {
     "name": "stdout",
     "output_type": "stream",
     "text": [
      "True\n"
     ]
    }
   ],
   "source": [
    "previous_color = \"Red\"\n",
    "previous_value = \"9\"\n",
    "current_color = \"Red\"\n",
    "current_value = \"7\"\n",
    "\n",
    "#In the card game Uno, players take turns playing cards on\n",
    "#top a growing pile of cards facing up. On your turn, the\n",
    "#card you put down must meet one of two conditions:\n",
    "#\n",
    "# - It must either have the same color _or_ the same value\n",
    "#   as the previous card, or\n",
    "# - It must be black. Black cards (Wild and Wild Draw 4) may\n",
    "#   be played at any time, no matter the value of the previous\n",
    "#   card.\n",
    "#\n",
    "#Write some code that prints True if the card represented by\n",
    "#current_color and current_value may be played on top of the\n",
    "#card represented by previous_color and previous_value. Print\n",
    "#False if it may not be played.\n",
    "#\n",
    "#You may assume that previous_color will never be Black.\n",
    "\n",
    "#Add your code here!\n",
    "\n",
    "can_play = (previous_color == current_color) or (previous_value == current_value) or (current_color == \"Black\")\n",
    "\n",
    "print(can_play)\n"
   ]
  },
  {
   "cell_type": "code",
   "execution_count": 151,
   "metadata": {},
   "outputs": [
    {
     "name": "stdout",
     "output_type": "stream",
     "text": [
      "False\n"
     ]
    }
   ],
   "source": [
    "current_day = 12\n",
    "current_month = 9\n",
    "current_year = 2019\n",
    "exp_day = 13\n",
    "exp_month = 9\n",
    "exp_year = 2019\n",
    "\n",
    "#Given the current date and expiration date held by the\n",
    "#variables above, determine whether a food with the listed\n",
    "#expiration date has expired. Print True if it has expired,\n",
    "#False is it has not. A food is defined as expired if the\n",
    "#current date is _after_ the expiration date, not equal to\n",
    "#it.\n",
    "\n",
    "#Add your code here!\n",
    "\n",
    "expired = (current_year, current_month, current_day) > (exp_year, exp_month, exp_day)\n",
    "\n",
    "print(expired)"
   ]
  }
 ],
 "metadata": {
  "kernelspec": {
   "display_name": "Python 3",
   "language": "python",
   "name": "python3"
  },
  "language_info": {
   "codemirror_mode": {
    "name": "ipython",
    "version": 3
   },
   "file_extension": ".py",
   "mimetype": "text/x-python",
   "name": "python",
   "nbconvert_exporter": "python",
   "pygments_lexer": "ipython3",
   "version": "3.9.1"
  }
 },
 "nbformat": 4,
 "nbformat_minor": 2
}
