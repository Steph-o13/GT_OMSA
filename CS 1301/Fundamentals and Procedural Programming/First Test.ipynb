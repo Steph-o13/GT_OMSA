{
 "cells": [
  {
   "cell_type": "markdown",
   "metadata": {},
   "source": [
    "# Test #1"
   ]
  },
  {
   "cell_type": "code",
   "execution_count": 1,
   "metadata": {},
   "outputs": [
    {
     "name": "stdout",
     "output_type": "stream",
     "text": [
      "10\n",
      "5\n",
      "5\n",
      "10\n"
     ]
    }
   ],
   "source": [
    "a = 5\n",
    "b = 10\n",
    "c = b\n",
    "d = b\n",
    "b = a\n",
    "a = c\n",
    "c = b\n",
    "\n",
    "print(a)\n",
    "print(b)\n",
    "print(c)\n",
    "print(d)\n"
   ]
  },
  {
   "cell_type": "code",
   "execution_count": 2,
   "metadata": {},
   "outputs": [
    {
     "name": "stdout",
     "output_type": "stream",
     "text": [
      "6.0\n"
     ]
    }
   ],
   "source": [
    "print(float(\"6\"))"
   ]
  },
  {
   "cell_type": "code",
   "execution_count": 3,
   "metadata": {},
   "outputs": [
    {
     "name": "stdout",
     "output_type": "stream",
     "text": [
      "6\n"
     ]
    }
   ],
   "source": [
    "print(int(\"6\"))"
   ]
  },
  {
   "cell_type": "code",
   "execution_count": 4,
   "metadata": {},
   "outputs": [
    {
     "name": "stdout",
     "output_type": "stream",
     "text": [
      "6\n"
     ]
    }
   ],
   "source": [
    "print(str(\"6\"))"
   ]
  },
  {
   "cell_type": "code",
   "execution_count": 5,
   "metadata": {},
   "outputs": [
    {
     "name": "stdout",
     "output_type": "stream",
     "text": [
      "True\n"
     ]
    }
   ],
   "source": [
    "print(bool(\"6\"))"
   ]
  },
  {
   "cell_type": "code",
   "execution_count": 6,
   "metadata": {},
   "outputs": [
    {
     "name": "stdout",
     "output_type": "stream",
     "text": [
      "2.1\n"
     ]
    }
   ],
   "source": [
    "print(float(\"2.1\"))"
   ]
  },
  {
   "cell_type": "code",
   "execution_count": 7,
   "metadata": {},
   "outputs": [
    {
     "ename": "ValueError",
     "evalue": "invalid literal for int() with base 10: '2.1'",
     "output_type": "error",
     "traceback": [
      "\u001b[1;31m---------------------------------------------------------------------------\u001b[0m",
      "\u001b[1;31mValueError\u001b[0m                                Traceback (most recent call last)",
      "\u001b[1;32m~\\AppData\\Local\\Temp\\ipykernel_39192\\162717657.py\u001b[0m in \u001b[0;36m<module>\u001b[1;34m\u001b[0m\n\u001b[1;32m----> 1\u001b[1;33m \u001b[0mprint\u001b[0m\u001b[1;33m(\u001b[0m\u001b[0mint\u001b[0m\u001b[1;33m(\u001b[0m\u001b[1;34m\"2.1\"\u001b[0m\u001b[1;33m)\u001b[0m\u001b[1;33m)\u001b[0m\u001b[1;33m\u001b[0m\u001b[1;33m\u001b[0m\u001b[0m\n\u001b[0m",
      "\u001b[1;31mValueError\u001b[0m: invalid literal for int() with base 10: '2.1'"
     ]
    }
   ],
   "source": [
    "print(int(\"2.1\"))"
   ]
  },
  {
   "cell_type": "code",
   "execution_count": 8,
   "metadata": {},
   "outputs": [
    {
     "name": "stdout",
     "output_type": "stream",
     "text": [
      "2.1\n"
     ]
    }
   ],
   "source": [
    "print(str(2.1))"
   ]
  },
  {
   "cell_type": "code",
   "execution_count": 9,
   "metadata": {},
   "outputs": [
    {
     "name": "stdout",
     "output_type": "stream",
     "text": [
      "True\n"
     ]
    }
   ],
   "source": [
    "print(bool(2.1))"
   ]
  },
  {
   "cell_type": "code",
   "execution_count": 10,
   "metadata": {},
   "outputs": [
    {
     "data": {
      "text/plain": [
       "False"
      ]
     },
     "execution_count": 10,
     "metadata": {},
     "output_type": "execute_result"
    }
   ],
   "source": [
    "not (True and True)"
   ]
  },
  {
   "cell_type": "code",
   "execution_count": 11,
   "metadata": {},
   "outputs": [
    {
     "data": {
      "text/plain": [
       "False"
      ]
     },
     "execution_count": 11,
     "metadata": {},
     "output_type": "execute_result"
    }
   ],
   "source": [
    "not True and False"
   ]
  },
  {
   "cell_type": "code",
   "execution_count": 12,
   "metadata": {},
   "outputs": [
    {
     "data": {
      "text/plain": [
       "False"
      ]
     },
     "execution_count": 12,
     "metadata": {},
     "output_type": "execute_result"
    }
   ],
   "source": [
    "(True and False) or False"
   ]
  },
  {
   "cell_type": "code",
   "execution_count": 13,
   "metadata": {},
   "outputs": [
    {
     "data": {
      "text/plain": [
       "True"
      ]
     },
     "execution_count": 13,
     "metadata": {},
     "output_type": "execute_result"
    }
   ],
   "source": [
    "(True or False) or (True and False)"
   ]
  },
  {
   "cell_type": "code",
   "execution_count": 14,
   "metadata": {},
   "outputs": [
    {
     "data": {
      "text/plain": [
       "False"
      ]
     },
     "execution_count": 14,
     "metadata": {},
     "output_type": "execute_result"
    }
   ],
   "source": [
    "((True or (False or True)) and ((True or False) and (True and False))) and False"
   ]
  },
  {
   "cell_type": "code",
   "execution_count": 15,
   "metadata": {},
   "outputs": [
    {
     "data": {
      "text/plain": [
       "True"
      ]
     },
     "execution_count": 15,
     "metadata": {},
     "output_type": "execute_result"
    }
   ],
   "source": [
    "((not True or False) and (True and not True)) or ((False or not False) and (True or not True))"
   ]
  },
  {
   "cell_type": "code",
   "execution_count": 19,
   "metadata": {},
   "outputs": [
    {
     "name": "stdout",
     "output_type": "stream",
     "text": [
      "False\n",
      "False\n",
      "True\n",
      "False\n"
     ]
    }
   ],
   "source": [
    "is_rare = False\n",
    "is_strong = True\n",
    "is_tiny = False\n",
    "is_new = True\n",
    "\n",
    "print(is_rare and is_tiny)\n",
    "print(not (is_strong or is_rare))\n",
    "print((is_tiny or is_new) and is_strong)\n",
    "print(is_rare or (is_tiny and is_new))"
   ]
  },
  {
   "cell_type": "code",
   "execution_count": 20,
   "metadata": {},
   "outputs": [
    {
     "name": "stdout",
     "output_type": "stream",
     "text": [
      "False\n"
     ]
    }
   ],
   "source": [
    "is_strong = False\n",
    "is_fast = False\n",
    "is_shiny = False\n",
    "is_rare = True\n",
    "\n",
    "is_good = is_strong and is_fast\n",
    "is_interesting = is_shiny or is_rare\n",
    "is_wonderful = is_good and is_interesting\n",
    "\n",
    "print(is_wonderful)\n"
   ]
  },
  {
   "cell_type": "code",
   "execution_count": 21,
   "metadata": {},
   "outputs": [
    {
     "name": "stdout",
     "output_type": "stream",
     "text": [
      "True\n"
     ]
    }
   ],
   "source": [
    "is_strong = True\n",
    "is_fast = True\n",
    "is_shiny = True\n",
    "is_rare = False\n",
    "\n",
    "is_good = is_strong and is_fast\n",
    "is_interesting = is_shiny or is_rare\n",
    "is_wonderful = is_good and is_interesting\n",
    "\n",
    "print(is_wonderful)\n",
    "\n"
   ]
  },
  {
   "cell_type": "code",
   "execution_count": 29,
   "metadata": {},
   "outputs": [
    {
     "name": "stdout",
     "output_type": "stream",
     "text": [
      "False\n",
      "True\n",
      "True\n",
      "True\n",
      "False\n",
      "True\n",
      "True\n",
      "True\n"
     ]
    }
   ],
   "source": [
    "a = -2\n",
    "b = 4\n",
    "c = 1\n",
    "d = 0\n",
    "\n",
    "print(a >= c)\n",
    "print(a <= b)\n",
    "print((a == d) or (c <= b))\n",
    "print((a > d) or (c > d))\n",
    "print(a * 2 > d)\n",
    "print(a * b <= c)\n",
    "print((a / a) == (b / b))\n",
    "print(b * (a // c) < b)"
   ]
  },
  {
   "cell_type": "markdown",
   "metadata": {},
   "source": [
    "a > b or a < b or a == b # always true \n",
    "\n",
    "a == b and not (a == b) # always false\n",
    "\n",
    "a > b and b > c and a == c # always false"
   ]
  },
  {
   "cell_type": "code",
   "execution_count": 33,
   "metadata": {},
   "outputs": [
    {
     "name": "stdout",
     "output_type": "stream",
     "text": [
      "False\n",
      "True\n",
      "True\n",
      "True\n"
     ]
    }
   ],
   "source": [
    "# not A or not B\n",
    "\n",
    "print(not True or not True)\n",
    "print(not True or not False)\n",
    "print(not False or not True)\n",
    "print(not False or not False)"
   ]
  },
  {
   "cell_type": "code",
   "execution_count": 37,
   "metadata": {},
   "outputs": [
    {
     "name": "stdout",
     "output_type": "stream",
     "text": [
      "True\n",
      "False\n",
      "True\n",
      "False\n"
     ]
    }
   ],
   "source": [
    "# (A or not B) and C\n",
    "\n",
    "print((True or not True) and True)\n",
    "print((True or not True) and False)\n",
    "print((False or not False) and True)\n",
    "print((False or not False) and False)\n"
   ]
  },
  {
   "cell_type": "code",
   "execution_count": 40,
   "metadata": {},
   "outputs": [
    {
     "name": "stdout",
     "output_type": "stream",
     "text": [
      "True\n",
      "False\n",
      "False\n"
     ]
    }
   ],
   "source": [
    "# (A or B) and (A or C)\n",
    "\n",
    "print((False or True) and (False or True))\n",
    "print((False or True) and (False or False))\n",
    "print((False or False) and (False or True))"
   ]
  },
  {
   "cell_type": "code",
   "execution_count": 47,
   "metadata": {},
   "outputs": [
    {
     "name": "stdout",
     "output_type": "stream",
     "text": [
      "True\n",
      "True\n",
      "False\n",
      "False\n"
     ]
    }
   ],
   "source": [
    "# (A or B) or (C and B)\n",
    "\n",
    "print((True or False) or (False and False))\n",
    "print((False or False) or (True and True))\n",
    "print((False or False) or (False and True))\n",
    "print((False or False) or (False and False))"
   ]
  },
  {
   "cell_type": "code",
   "execution_count": 48,
   "metadata": {},
   "outputs": [
    {
     "data": {
      "text/plain": [
       "7"
      ]
     },
     "execution_count": 48,
     "metadata": {},
     "output_type": "execute_result"
    }
   ],
   "source": [
    "3 * 2 + 1"
   ]
  },
  {
   "cell_type": "code",
   "execution_count": 49,
   "metadata": {},
   "outputs": [
    {
     "data": {
      "text/plain": [
       "3"
      ]
     },
     "execution_count": 49,
     "metadata": {},
     "output_type": "execute_result"
    }
   ],
   "source": [
    "13 % 5"
   ]
  },
  {
   "cell_type": "code",
   "execution_count": 50,
   "metadata": {},
   "outputs": [
    {
     "ename": "TypeError",
     "evalue": "unsupported operand type(s) for +: 'int' and 'str'",
     "output_type": "error",
     "traceback": [
      "\u001b[1;31m---------------------------------------------------------------------------\u001b[0m",
      "\u001b[1;31mTypeError\u001b[0m                                 Traceback (most recent call last)",
      "\u001b[1;32m~\\AppData\\Local\\Temp\\ipykernel_39192\\591737889.py\u001b[0m in \u001b[0;36m<module>\u001b[1;34m\u001b[0m\n\u001b[1;32m----> 1\u001b[1;33m \u001b[1;36m2\u001b[0m \u001b[1;33m+\u001b[0m \u001b[1;34m\"2\"\u001b[0m\u001b[1;33m\u001b[0m\u001b[1;33m\u001b[0m\u001b[0m\n\u001b[0m",
      "\u001b[1;31mTypeError\u001b[0m: unsupported operand type(s) for +: 'int' and 'str'"
     ]
    }
   ],
   "source": [
    "2 + \"2\""
   ]
  },
  {
   "cell_type": "code",
   "execution_count": 51,
   "metadata": {},
   "outputs": [
    {
     "data": {
      "text/plain": [
       "3"
      ]
     },
     "execution_count": 51,
     "metadata": {},
     "output_type": "execute_result"
    }
   ],
   "source": [
    "3 ** (2 // 2)"
   ]
  },
  {
   "cell_type": "code",
   "execution_count": 52,
   "metadata": {},
   "outputs": [
    {
     "ename": "SyntaxError",
     "evalue": "cannot assign to literal (1182130784.py, line 1)",
     "output_type": "error",
     "traceback": [
      "\u001b[1;36m  File \u001b[1;32m\"C:\\Users\\orgil\\AppData\\Local\\Temp\\ipykernel_39192\\1182130784.py\"\u001b[1;36m, line \u001b[1;32m1\u001b[0m\n\u001b[1;33m    15 = 10 + 5\u001b[0m\n\u001b[1;37m    ^\u001b[0m\n\u001b[1;31mSyntaxError\u001b[0m\u001b[1;31m:\u001b[0m cannot assign to literal\n"
     ]
    }
   ],
   "source": [
    "15 = 10 + 5"
   ]
  },
  {
   "cell_type": "code",
   "execution_count": 53,
   "metadata": {},
   "outputs": [
    {
     "data": {
      "text/plain": [
       "False"
      ]
     },
     "execution_count": 53,
     "metadata": {},
     "output_type": "execute_result"
    }
   ],
   "source": [
    "1 + 2 == 4"
   ]
  },
  {
   "cell_type": "code",
   "execution_count": 54,
   "metadata": {},
   "outputs": [
    {
     "data": {
      "text/plain": [
       "5.0"
      ]
     },
     "execution_count": 54,
     "metadata": {},
     "output_type": "execute_result"
    }
   ],
   "source": [
    "3 + 6 / 3"
   ]
  },
  {
   "cell_type": "code",
   "execution_count": 55,
   "metadata": {},
   "outputs": [
    {
     "data": {
      "text/plain": [
       "2.0"
      ]
     },
     "execution_count": 55,
     "metadata": {},
     "output_type": "execute_result"
    }
   ],
   "source": [
    "14 / 7"
   ]
  },
  {
   "cell_type": "code",
   "execution_count": 56,
   "metadata": {},
   "outputs": [
    {
     "data": {
      "text/plain": [
       "2"
      ]
     },
     "execution_count": 56,
     "metadata": {},
     "output_type": "execute_result"
    }
   ],
   "source": [
    "16 // 8"
   ]
  },
  {
   "cell_type": "code",
   "execution_count": 57,
   "metadata": {},
   "outputs": [
    {
     "data": {
      "text/plain": [
       "25.0"
      ]
     },
     "execution_count": 57,
     "metadata": {},
     "output_type": "execute_result"
    }
   ],
   "source": [
    "float(5) * 5"
   ]
  },
  {
   "cell_type": "code",
   "execution_count": 58,
   "metadata": {},
   "outputs": [
    {
     "data": {
      "text/plain": [
       "2.0"
      ]
     },
     "execution_count": 58,
     "metadata": {},
     "output_type": "execute_result"
    }
   ],
   "source": [
    "4.0 // 2"
   ]
  },
  {
   "cell_type": "code",
   "execution_count": 59,
   "metadata": {},
   "outputs": [
    {
     "data": {
      "text/plain": [
       "False"
      ]
     },
     "execution_count": 59,
     "metadata": {},
     "output_type": "execute_result"
    }
   ],
   "source": [
    "False and 1 == 1 and \"a\" == \"a\""
   ]
  },
  {
   "cell_type": "code",
   "execution_count": 60,
   "metadata": {},
   "outputs": [
    {
     "data": {
      "text/plain": [
       "'222'"
      ]
     },
     "execution_count": 60,
     "metadata": {},
     "output_type": "execute_result"
    }
   ],
   "source": [
    "str(2) * 3"
   ]
  },
  {
   "cell_type": "code",
   "execution_count": 61,
   "metadata": {},
   "outputs": [
    {
     "data": {
      "text/plain": [
       "'2021'"
      ]
     },
     "execution_count": 61,
     "metadata": {},
     "output_type": "execute_result"
    }
   ],
   "source": [
    "\"20\" + \"21\""
   ]
  },
  {
   "cell_type": "code",
   "execution_count": 62,
   "metadata": {},
   "outputs": [
    {
     "ename": "TypeError",
     "evalue": "can't multiply sequence by non-int of type 'str'",
     "output_type": "error",
     "traceback": [
      "\u001b[1;31m---------------------------------------------------------------------------\u001b[0m",
      "\u001b[1;31mTypeError\u001b[0m                                 Traceback (most recent call last)",
      "\u001b[1;32m~\\AppData\\Local\\Temp\\ipykernel_39192\\1706659530.py\u001b[0m in \u001b[0;36m<module>\u001b[1;34m\u001b[0m\n\u001b[1;32m----> 1\u001b[1;33m \u001b[1;34m\"a\"\u001b[0m \u001b[1;33m*\u001b[0m \u001b[1;33m(\u001b[0m\u001b[1;36m3\u001b[0m \u001b[1;33m+\u001b[0m \u001b[1;36m2\u001b[0m\u001b[1;33m)\u001b[0m \u001b[1;33m*\u001b[0m \u001b[1;34m\"z\"\u001b[0m\u001b[1;33m\u001b[0m\u001b[1;33m\u001b[0m\u001b[0m\n\u001b[0m",
      "\u001b[1;31mTypeError\u001b[0m: can't multiply sequence by non-int of type 'str'"
     ]
    }
   ],
   "source": [
    "\"a\" * (3 + 2) * \"z\""
   ]
  },
  {
   "cell_type": "code",
   "execution_count": 63,
   "metadata": {},
   "outputs": [
    {
     "data": {
      "text/plain": [
       "'banana'"
      ]
     },
     "execution_count": 63,
     "metadata": {},
     "output_type": "execute_result"
    }
   ],
   "source": [
    "\"ba\" + \"na\" * 2"
   ]
  },
  {
   "cell_type": "code",
   "execution_count": 64,
   "metadata": {},
   "outputs": [
    {
     "name": "stdout",
     "output_type": "stream",
     "text": [
      "0\n"
     ]
    }
   ],
   "source": [
    "my_var = 3\n",
    "my_var = my_var ** 2\n",
    "my_var = my_var * 2\n",
    "my_var = my_var - 2\n",
    "my_var = my_var // 2\n",
    "my_var = my_var + 2\n",
    "my_var = my_var % 2\n",
    "\n",
    "print(my_var)"
   ]
  },
  {
   "cell_type": "code",
   "execution_count": 65,
   "metadata": {},
   "outputs": [
    {
     "name": "stdout",
     "output_type": "stream",
     "text": [
      "0\n"
     ]
    }
   ],
   "source": [
    "my_var = 3\n",
    "my_var **= 2\n",
    "my_var *= 2\n",
    "my_var -= 2\n",
    "my_var //= 2\n",
    "my_var += 2\n",
    "my_var %= 2\n",
    "\n",
    "print(my_var)"
   ]
  },
  {
   "cell_type": "code",
   "execution_count": 66,
   "metadata": {},
   "outputs": [
    {
     "name": "stdout",
     "output_type": "stream",
     "text": [
      "0\n",
      "32\n"
     ]
    }
   ],
   "source": [
    "my_var_1 = 2\n",
    "my_var_2 = 3\n",
    "my_var_1 **= my_var_2\n",
    "my_var_2 *= my_var_1\n",
    "my_var_2 += my_var_1\n",
    "my_var_1 //= my_var_2\n",
    "\n",
    "print(my_var_1)\n",
    "print(my_var_2)"
   ]
  },
  {
   "cell_type": "code",
   "execution_count": 67,
   "metadata": {},
   "outputs": [
    {
     "name": "stdout",
     "output_type": "stream",
     "text": [
      "Each student gets 4 slices, and there will be 2 left over.\n"
     ]
    }
   ],
   "source": [
    "slices_per_pizza = 6\n",
    "pizzas = 3\n",
    "students = 4\n",
    "\n",
    "#Imagine you are throwing a pizza party for some students.\n",
    "#You order some number of pizzas, each with some number of\n",
    "#slices. You want each student to receive the same number\n",
    "#of slices, even if that means some slices are left over.\n",
    "#\n",
    "#The number of pizzas, number of slices per pizza, and\n",
    "#number of students are given by the variables\n",
    "#slices_per_pizza, pizzas, and students. Using this information,\n",
    "#write some code that prints out a sentence like the following:\n",
    "#\n",
    "#Each student gets 4 slices, and there will be 2 left over.\n",
    "#\n",
    "#The number of slices per person will be calculated as the total\n",
    "#number of slices (number of pizzas times slices per pizza)\n",
    "#divided by the number of students rounded down to a whole\n",
    "#number. The number of slices left over will be whatever is left\n",
    "#after that calculation.\n",
    "\n",
    "\n",
    "#Write your code here!\n",
    "\n",
    "slices_per_person = (pizzas*slices_per_pizza)//students\n",
    "leftovers = (pizzas*slices_per_pizza)%students\n",
    "\n",
    "print(\"Each student gets \" + str(slices_per_person) + \" slices, and there will be \" + str(leftovers) + \" left over.\")"
   ]
  },
  {
   "cell_type": "code",
   "execution_count": 68,
   "metadata": {},
   "outputs": [
    {
     "name": "stdout",
     "output_type": "stream",
     "text": [
      "Walk: False\n",
      "Bike: False\n",
      "Bus: False\n",
      "Car: True\n"
     ]
    }
   ],
   "source": [
    "in_a_hurry = True\n",
    "is_raining = False\n",
    "have_backpack = True\n",
    "\n",
    "#Imagine you are deciding how to get to school today. You have\n",
    "#four options: walk, bike, bus, or drive.\n",
    "#\n",
    "#There are three variables that determine which options you\n",
    "#might choose:\n",
    "#\n",
    "# - in_a_hurry: whether you're in a hurry to get to class.\n",
    "# - is_raining: whether it's raining outside\n",
    "# - have_backpack: whether you need to carry a backpack\n",
    "#\n",
    "#The following rules tell you whether each option is\n",
    "#possible:\n",
    "#\n",
    "# - Walking is an option if it is not raining and you\n",
    "#   are not in a hurry to get to class.\n",
    "# - Biking is an option as long as it is not raining,\n",
    "#   unless you need to carry a backpack.\n",
    "# - A bus is an option as long as you are not in a hurry\n",
    "#   to get to class.\n",
    "# - A car is your last resort: it is only an option if\n",
    "#   none of the other three are options.\n",
    "#\n",
    "#Print True or False for each option, according to the\n",
    "#following structure:\n",
    "#\n",
    "#Walk: False\n",
    "#Bike: False\n",
    "#Bus: False\n",
    "#Car: True\n",
    "\n",
    "\n",
    "#Add your code here!\n",
    "\n",
    "walk = not is_raining and not in_a_hurry\n",
    "bike = not is_raining and not have_backpack\n",
    "bus = not in_a_hurry\n",
    "\n",
    "print(\"Walk:\", walk)\n",
    "print(\"Bike:\", bike)\n",
    "print(\"Bus:\", bus)\n",
    "print(\"Car:\", not (walk or bike or bus))"
   ]
  },
  {
   "cell_type": "code",
   "execution_count": 69,
   "metadata": {},
   "outputs": [
    {
     "name": "stdout",
     "output_type": "stream",
     "text": [
      "Bottled Feb521\n",
      "For best experience, please use by March 6 2021.\n"
     ]
    }
   ],
   "source": [
    "bottle_month = \"Feb\"\n",
    "bottle_day = 5\n",
    "bottle_year = 21\n",
    "use_by_month = \"March\"\n",
    "use_by_day = 6\n",
    "use_by_year = 21\n",
    "\n",
    "#The lines above give the information for the bottle date and\n",
    "#use by date for a bottle of salad dressing.\n",
    "#\n",
    "#Write some code that will generate what should be printed on\n",
    "#the bottle. You should print two lines. The first line should\n",
    "#be the bottle date itself, according to the following structure:\n",
    "#\n",
    "#Bottled Feb521\n",
    "#\n",
    "#Feb, 5, and 21 should be replaced by the values of bottle_month,\n",
    "#bottle_day, and bottle_year, respectively.\n",
    "\n",
    "#The second line should be the use by date, printed in more\n",
    "#natural language, according to the following structure:\n",
    "#\n",
    "#For best experience, please use by March 6 2021.\n",
    "#\n",
    "#March, 6, and 21 should be replaced by the values of use_by_month,\n",
    "#use_by_day, and use_by_year respectively. Note that you will need\n",
    "#to add the '20' to the year; only the last two digits of the year\n",
    "#are contained in use_by_year. Don't forget the period.\n",
    "\n",
    "#Add your code here!\n",
    "\n",
    "bottled = \"Bottled \" + bottle_month + str(bottle_day) + str(bottle_year)\n",
    "print(bottled)\n",
    "\n",
    "print(\"For best experience, please use by \" + use_by_month + \" \" + str(use_by_day) + \" 20\" + str(use_by_year) + \".\")"
   ]
  },
  {
   "cell_type": "code",
   "execution_count": 70,
   "metadata": {},
   "outputs": [
    {
     "name": "stdout",
     "output_type": "stream",
     "text": [
      "You lost: $8500.0\n"
     ]
    }
   ],
   "source": [
    "original_price = 15.0\n",
    "num_shares = 100\n",
    "final_price = 100.0\n",
    "\n",
    "#Short selling is when an investor borrows some shares of a\n",
    "#stock to sell at the current price, expecting that at a later\n",
    "#date they can buy the stock at a lower price to give back.\n",
    "#For example, if you anticipate the stock GME will drop in\n",
    "#value, you might borrow 100 shares today, sell them for $15\n",
    "#each, and expect to buy them back in two weeks for $10,\n",
    "#netting you $500 in profit (100 * $15 - 100 * $10 = $500).\n",
    "#\n",
    "#A short squeeze occurs when instead of falling, the stock\n",
    "#price rises. If instead of dropping to $10 per share, GME\n",
    "#rose to, say, $100 per share, then the investor would owe\n",
    "#$8500 (100 * $15 - 100 * $100 = -$8500).\n",
    "#\n",
    "#For this problem, let's only look at these short squeezes.\n",
    "#original_price, num_shares, and final_price give the\n",
    "#price at which an investor buys a stock, the number of\n",
    "#shares they buy, and the price of the stock when they must\n",
    "#buy their shares to return.\n",
    "#\n",
    "#Calculate the total amount lost by this attempt at short\n",
    "#selling, and print it according to the following format:\n",
    "#\n",
    "#You lost: $8500.0\n",
    "#\n",
    "#You should round this number to two decimal places. To do\n",
    "#this, you may use the round function. For example:\n",
    "#\n",
    "#rounded_num = round(123.456, 2)\n",
    "#\n",
    "#...will result in rounded_num = 123.46. Do not worry about\n",
    "#adding the extra 0 if the result is an even tenth ($8500.0\n",
    "#is fine, you don't need to print $8500.00).\n",
    "\n",
    "\n",
    "#Add your code here!\n",
    "formula = round((num_shares*original_price - num_shares*final_price)*-1, 2)\n",
    "print(\"You lost: $\" + str(formula))"
   ]
  },
  {
   "cell_type": "code",
   "execution_count": 71,
   "metadata": {},
   "outputs": [
    {
     "name": "stdout",
     "output_type": "stream",
     "text": [
      "Your estimated wait time is 1 hour(s), 27 minute(s), and 58 second(s).\n"
     ]
    }
   ],
   "source": [
    "total_seconds = 5278\n",
    "\n",
    "#Imagine you are writing the software for a call center. As\n",
    "#part of this, you need to tell the customer currently on hold\n",
    "#what their estimated wait time is.\n",
    "#\n",
    "#The software that actually generates the estimated wait time\n",
    "#returns it as a number of seconds. However, telling the customer\n",
    "#\"Your estimated wait time is 5278 seconds\" is pretty meaningless.\n",
    "#Instead, we want to say something like:\n",
    "\n",
    "#Your estimated wait time is 1 hour(s), 27 minute(s), and 58 second(s).\n",
    "#\n",
    "#Add some code that will print that sort of estimated wait time,\n",
    "#replacing 1, 27, and 58 with the actual numbers derived from the\n",
    "#variable total_seconds. Remember, there are 60 seconds in a minute,\n",
    "#and 60 minutes in an hour: you never wawnt to mention more than 60\n",
    "#minutes (as that would add an hour) or 60 seconds (as that would add\n",
    "#a minute).\n",
    "\n",
    "\n",
    "#Add your code here!\n",
    "\n",
    "hours = total_seconds // 3600\n",
    "total_seconds = total_seconds - hours*3600\n",
    "\n",
    "minutes = total_seconds // 60\n",
    "total_seconds = total_seconds - minutes*60\n",
    "\n",
    "seconds = total_seconds // 1\n",
    "total_seconds = total_seconds - seconds*1\n",
    "\n",
    "print(\"Your estimated wait time is \" + str(hours) + \" hour(s), \" + str(minutes) + \" minute(s), and \" + str(seconds) + \" second(s).\")"
   ]
  },
  {
   "cell_type": "code",
   "execution_count": 72,
   "metadata": {},
   "outputs": [
    {
     "name": "stdout",
     "output_type": "stream",
     "text": [
      "375375375\n"
     ]
    }
   ],
   "source": [
    "original_number = 5\n",
    "\n",
    "#Write some code that will triple original_number in three ways,\n",
    "#in this order:\n",
    "#\n",
    "# - First, triple the number by cubing it (raising it to the\n",
    "#   3rd power)\n",
    "# - Second, triple the number by duplicating it 3 times.\n",
    "# - Third, triple the number by multiplying it by 3 again.\n",
    "#\n",
    "#For example, original_number 5 would first be cubed into\n",
    "#125 (5^3 = 125), then it would be tripled to 125125125\n",
    "#(duplicating 125 three times), and then it would be tripled\n",
    "#to 375375375 (125125125 * 3 = 375375375).\n",
    "#\n",
    "#Print out the number after you've tripled it all three times.\n",
    "\n",
    "\n",
    "#Add your code here!\n",
    "cubing = original_number**3\n",
    "duplicating = str(cubing)*3\n",
    "multiplying = int(duplicating)*3\n",
    "\n",
    "print(multiplying)"
   ]
  },
  {
   "cell_type": "code",
   "execution_count": 73,
   "metadata": {},
   "outputs": [
    {
     "name": "stdout",
     "output_type": "stream",
     "text": [
      "Your total is: $32\n"
     ]
    }
   ],
   "source": [
    "order_total = 30\n",
    "coupon_value = 3\n",
    "coupon_valid = True\n",
    "\n",
    "#Imagine you are writing the code for an online shopping\n",
    "#platform. On this platform, a $5 shipping fee is added unless\n",
    "#the order total is over $50; if the original order total is $50\n",
    "#or higher (before subtracting coupons), shipping is free.\n",
    "#\n",
    "#Additionally, buyers may have coupons. If the coupon is valid,\n",
    "#the price is subtracted from the order.\n",
    "#\n",
    "#The order total, coupon value, and coupon validity are\n",
    "#reflected above as order_total, coupon_value, and coupon_valid.\n",
    "#Based on these, calculate the total for an order, and print the\n",
    "#sentence:\n",
    "#\n",
    "#Your total is: $32\n",
    "#\n",
    "#32 would be replaced by the actual value based on the values\n",
    "#of order_total, coupon_value, and coupon_valid.\n",
    "#\n",
    "#HINT: You may use conditionals on this problem, but you don't\n",
    "#need to. Remember, you can use boolean statements in mathematical\n",
    "#calculations. Multiplying by False is the same as multiplying\n",
    "#by 0; multiplying by True is the same as multiplying by 1.\n",
    "\n",
    "\n",
    "#Add your code here!\n",
    "shipping_fee = order_total < 50\n",
    "\n",
    "final_total = order_total - (coupon_value*coupon_valid) + (shipping_fee*5)\n",
    "\n",
    "print(\"Your total is: $\" + str(final_total))"
   ]
  },
  {
   "cell_type": "code",
   "execution_count": 74,
   "metadata": {},
   "outputs": [
    {
     "name": "stdout",
     "output_type": "stream",
     "text": [
      "False\n"
     ]
    }
   ],
   "source": [
    "current_day = 12\n",
    "current_month = 9\n",
    "current_year = 2019\n",
    "exp_day = 13\n",
    "exp_month = 9\n",
    "exp_year = 2019\n",
    "\n",
    "#Given the current date and expiration date held by the\n",
    "#variables above, determine whether a food with the listed\n",
    "#expiration date has expired. Print True if it has expired,\n",
    "#False is it has not. A food is defined as expired if the\n",
    "#current date is _after_ the expiration date, not equal to\n",
    "#it.\n",
    "\n",
    "#Add your code here!\n",
    "\n",
    "expired = (current_year, current_month, current_day) > (exp_year, exp_month, exp_day)\n",
    "\n",
    "print(expired)"
   ]
  }
 ],
 "metadata": {
  "kernelspec": {
   "display_name": "Python 3",
   "language": "python",
   "name": "python3"
  },
  "language_info": {
   "codemirror_mode": {
    "name": "ipython",
    "version": 3
   },
   "file_extension": ".py",
   "mimetype": "text/x-python",
   "name": "python",
   "nbconvert_exporter": "python",
   "pygments_lexer": "ipython3",
   "version": "3.9.1"
  }
 },
 "nbformat": 4,
 "nbformat_minor": 2
}
